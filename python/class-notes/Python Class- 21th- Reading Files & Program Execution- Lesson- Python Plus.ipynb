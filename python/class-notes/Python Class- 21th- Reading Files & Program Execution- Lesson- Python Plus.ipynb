{
 "cells": [
  {
   "cell_type": "markdown",
   "metadata": {},
   "source": [
    "# Working with CSV Files"
   ]
  },
  {
   "cell_type": "markdown",
   "metadata": {},
   "source": [
    "###  What is a CSV Files?\n",
    "###  Reading Methods of the CSV Files\n",
    "###  Ordinary Reading Method of CSV Files\n",
    "###  Reading the CSV Files with 'cvs' Module"
   ]
  },
  {
   "cell_type": "code",
   "execution_count": 1,
   "metadata": {},
   "outputs": [],
   "source": [
    "# CSV : Comma Separated Values\n",
    "\n",
    "# Actually, it's a plain text like .txt files. Normally, CVS files use a comma to separate each specific data value.\n",
    "# When you save the plain text file that you create by using a simple text editor (such as Notepad in Windows OS) as a .cvs extention, then you create a CVS file."
   ]
  },
  {
   "cell_type": "code",
   "execution_count": 3,
   "metadata": {},
   "outputs": [],
   "source": [
    "# A CVS  file is basically a table made up of rows and columns. The structure of a simple CSV file is as fallows:\n",
    "\n",
    "# column_1, column_2, column_3\n",
    "# row1_column1, row1_column2, row1_column3\n",
    "# row2_column1, row2_column2, row2_column3\n",
    "# row3_column1, row3_column2, row3_column3     ==> It represents a table of data."
   ]
  },
  {
   "cell_type": "code",
   "execution_count": null,
   "metadata": {},
   "outputs": [],
   "source": [
    "# Now, let's create our first CSV file. We can use the previous txt file named fruits.txt. As usual, save this file with a \n",
    "# .csv extension into directory where Anaconda3/Python installed.\n",
    "\n",
    "\n",
    "#fruits.csv\n",
    "\n",
    "# 1, Banana, 4 1b\n",
    "# 2, Orange, 5 1b\n",
    "# 3, Apple, 2 1b\n",
    "# 4, Strawberry, 6 1b\n",
    "# 5, Cherry, 3 1b"
   ]
  },
  {
   "cell_type": "markdown",
   "metadata": {},
   "source": [
    "# Reading Methods of the CSV Files"
   ]
  },
  {
   "cell_type": "code",
   "execution_count": 4,
   "metadata": {},
   "outputs": [],
   "source": [
    "# 1 st: You can use the ordinary way of reading using open() function and .read() method just you learned in the previous lesson.\n",
    "# 2nd: You can use csv Module.\n",
    "# 3th: You can use the Pandas library for which created data analysis purposes. It is highly recommended for big data analysis."
   ]
  },
  {
   "cell_type": "code",
   "execution_count": 5,
   "metadata": {},
   "outputs": [
    {
     "name": "stdout",
     "output_type": "stream",
     "text": [
      "no, fruit, amount\n",
      "1, Banana, 4 1b\n",
      "2, Orange, 5 1b\n",
      "3, Apple, 2 1b\n",
      "4, Strawberry, 6 1b\n",
      "5, Cherry, 3 1b\n"
     ]
    }
   ],
   "source": [
    "# Let's read the fruits.csv file we created.\n",
    "\n",
    "with open(\"fruits.csv\", \"r\", encoding= \"utf-8\") as file: \n",
    "    print(file.read())"
   ]
  },
  {
   "cell_type": "code",
   "execution_count": 6,
   "metadata": {},
   "outputs": [],
   "source": [
    "# Task 1:\n",
    "    # Create a csv file named people.csv consisting of 5 member of your family or friends,\n",
    "    # The file should include 4 columns (row number, first name, last name, ages) and 5 rows(excluding the caption.)\n",
    "    # Read and display the content of people.csv file in an ordinary method."
   ]
  },
  {
   "cell_type": "code",
   "execution_count": 7,
   "metadata": {},
   "outputs": [
    {
     "name": "stdout",
     "output_type": "stream",
     "text": [
      "row number, first name, last name, ages\n",
      "1, John, Does, 22\n",
      "2, Adam, Smith, 46\n",
      "3, Henry, Smithson, 40\n",
      "4, Lara, Bold, 12\n",
      "5, Mosely, Britt, 51\n"
     ]
    }
   ],
   "source": [
    "with open(\"people.csv\", \"r\", encoding=\"utf-8\") as f:\n",
    "    print(f.read())"
   ]
  },
  {
   "cell_type": "markdown",
   "metadata": {},
   "source": [
    "# Reading the CSV Files with csv Module"
   ]
  },
  {
   "cell_type": "code",
   "execution_count": 8,
   "metadata": {},
   "outputs": [],
   "source": [
    "# Since the content of the CSV files is displayed in a more readable and regular format with this method, this method is more\n",
    "# preferred than the previous one.\n",
    "\n",
    "# First, we should load csv module. \n",
    "# Second, we will use csv.reader() function in a for loop to read the CSV file."
   ]
  },
  {
   "cell_type": "code",
   "execution_count": 11,
   "metadata": {},
   "outputs": [
    {
     "name": "stdout",
     "output_type": "stream",
     "text": [
      "<_io.TextIOWrapper name='fruits.csv' mode='r' encoding='utf-8'>\n",
      "<_csv.reader object at 0x000001E41B689DC0>\n",
      "['no', ' fruit', ' amount']\n",
      "['1', ' Banana', ' 4 1b']\n",
      "['2', ' Orange', ' 5 1b']\n",
      "['3', ' Apple', ' 2 1b']\n",
      "['4', ' Strawberry', ' 6 1b']\n",
      "['5', ' Cherry', ' 3 1b']\n"
     ]
    }
   ],
   "source": [
    "import csv\n",
    "\n",
    "with open('fruits.csv', 'r', newline=\"\", encoding='utf-8') as f:\n",
    "    print(f)\n",
    "    csv_rows = csv.reader(f)\n",
    "    print(csv_rows)\n",
    "    \n",
    "    for row in csv_rows:\n",
    "        print(row)"
   ]
  },
  {
   "cell_type": "code",
   "execution_count": 12,
   "metadata": {},
   "outputs": [],
   "source": [
    "# Tips:\n",
    "        # If newline= '' is not specified, newlines embedded inside quoted fields will not be interpreted correctly, \n",
    "    #and on platforms that use \\r\\n linenendings on write an extra \\r will be added.\n",
    "        # It is best practice and always safe to specify newline='', since the csv module does its own newline handling.\n",
    "        "
   ]
  },
  {
   "cell_type": "code",
   "execution_count": 13,
   "metadata": {},
   "outputs": [],
   "source": [
    "# The default value of the delimiter parameter of the csv.reader() function is \",\".\n",
    "# Thus, we can display each comma-separated element as separate strings.\n",
    "\n",
    "# At this time let's use the delimiter=\",\" parameter and see the same result as the previous one.\n",
    "# csv.reader(file, delimiter= \",\")"
   ]
  },
  {
   "cell_type": "code",
   "execution_count": 15,
   "metadata": {},
   "outputs": [
    {
     "name": "stdout",
     "output_type": "stream",
     "text": [
      "['no', ' fruit', ' amount']\n",
      "['1', ' Banana', ' 4 1b']\n",
      "['2', ' Orange', ' 5 1b']\n",
      "['3', ' Apple', ' 2 1b']\n",
      "['4', ' Strawberry', ' 6 1b']\n",
      "['5', ' Cherry', ' 3 1b']\n"
     ]
    }
   ],
   "source": [
    "# We get the same output as the previous one:\n",
    "\n",
    "import csv\n",
    "\n",
    "with open('fruits.csv', 'r', newline=\"\", encoding='utf-8') as f:\n",
    "    csv_rows = csv.reader(f, delimiter= \",\")     # gives the same output as the preivous one. delimiter= \",\" ==> default value\n",
    "    \n",
    "    for row in csv_rows:\n",
    "        print(row)"
   ]
  },
  {
   "cell_type": "code",
   "execution_count": 16,
   "metadata": {},
   "outputs": [
    {
     "name": "stdout",
     "output_type": "stream",
     "text": [
      "['no, fruit, amount']\n",
      "['1, Banana, 4 1b']\n",
      "['2, Orange, 5 1b']\n",
      "['3, Apple, 2 1b']\n",
      "['4, Strawberry, 6 1b']\n",
      "['5, Cherry, 3 1b']\n"
     ]
    }
   ],
   "source": [
    "import csv\n",
    "\n",
    "with open('fruits.csv', 'r', newline=\"\", encoding='utf-8') as f:\n",
    "    csv_rows = csv.reader(f, delimiter= \"-\")      # it took it as one whole string.  \n",
    "    \n",
    "    for row in csv_rows:\n",
    "        print(row)"
   ]
  },
  {
   "cell_type": "code",
   "execution_count": 17,
   "metadata": {},
   "outputs": [],
   "source": [
    "# Task 2:\n",
    "    # Considering the people.csv, read and display the content of it using csv module."
   ]
  },
  {
   "cell_type": "code",
   "execution_count": 21,
   "metadata": {},
   "outputs": [
    {
     "name": "stdout",
     "output_type": "stream",
     "text": [
      "['row number', ' first name', ' last name', ' ages']\n",
      "<class 'list'>\n",
      " last name\n",
      "['1', ' John', ' Does', ' 22']\n",
      "<class 'list'>\n",
      " Does\n",
      "['2', ' Adam', ' Smith', ' 46']\n",
      "<class 'list'>\n",
      " Smith\n",
      "['3', ' Henry', ' Smithson', ' 40']\n",
      "<class 'list'>\n",
      " Smithson\n",
      "['4', ' Lara', ' Bold', ' 12']\n",
      "<class 'list'>\n",
      " Bold\n",
      "['5', ' Mosely', ' Britt', ' 51']\n",
      "<class 'list'>\n",
      " Britt\n"
     ]
    }
   ],
   "source": [
    "import csv \n",
    "\n",
    "with open(\"people.csv\", \"r\", newline=\"\")as p:\n",
    "    rows = csv.reader(p, delimiter=\",\")\n",
    "    \n",
    "    for row in rows:\n",
    "        print(row)\n",
    "        print(type(row))\n",
    "        print(row[2])"
   ]
  },
  {
   "cell_type": "code",
   "execution_count": 22,
   "metadata": {},
   "outputs": [],
   "source": [
    "# We can also display each row in the list as a single string.\n",
    "\n",
    "# If we determine a character that is not included in the CSV file and allocate this character as the value of delimiter,\n",
    "# we can print all lines of the CSV file as lists as a single string element.\n",
    "\n",
    "# For the delimiter parameter, let's pick \":\" which is not in the CSV file."
   ]
  },
  {
   "cell_type": "code",
   "execution_count": 23,
   "metadata": {},
   "outputs": [
    {
     "name": "stdout",
     "output_type": "stream",
     "text": [
      "['no, fruit, amount']\n",
      "['1, Banana, 4 1b']\n",
      "['2, Orange, 5 1b']\n",
      "['3, Apple, 2 1b']\n",
      "['4, Strawberry, 6 1b']\n",
      "['5, Cherry, 3 1b']\n"
     ]
    }
   ],
   "source": [
    "import csv\n",
    "\n",
    "with open('fruits.csv', 'r', newline=\"\", encoding='utf-8') as f:\n",
    "    csv_rows = csv.reader(f, delimiter= \":\")      # it took it as one whole string.  \n",
    "    \n",
    "    for row in csv_rows:\n",
    "        print(row)"
   ]
  },
  {
   "cell_type": "code",
   "execution_count": 25,
   "metadata": {},
   "outputs": [
    {
     "name": "stdout",
     "output_type": "stream",
     "text": [
      "['no, fruit, amount']\n",
      "The number of elements in this row =  1\n",
      "['1, Banana, 4 1b']\n",
      "The number of elements in this row =  1\n",
      "['2, Orange, 5 1b']\n",
      "The number of elements in this row =  1\n",
      "['3, Apple, 2 1b']\n",
      "The number of elements in this row =  1\n",
      "['4, Strawberry, 6 1b']\n",
      "The number of elements in this row =  1\n",
      "['5, Cherry, 3 1b']\n",
      "The number of elements in this row =  1\n"
     ]
    }
   ],
   "source": [
    "import csv\n",
    "\n",
    "with open('fruits.csv', 'r', newline=\"\", encoding='utf-8') as f:\n",
    "    csv_rows = csv.reader(f, delimiter= \"-\")      # it took it as one whole string.  \n",
    "    \n",
    "    for row in csv_rows:\n",
    "        print(row)\n",
    "        print('The number of elements in this row = ', len(row))"
   ]
  },
  {
   "cell_type": "code",
   "execution_count": 26,
   "metadata": {},
   "outputs": [
    {
     "name": "stdout",
     "output_type": "stream",
     "text": [
      "['no', ' fruit', ' amount']\n",
      "The number of elements in this row =  3\n",
      "['1', ' Banana', ' 4 1b']\n",
      "The number of elements in this row =  3\n",
      "['2', ' Orange', ' 5 1b']\n",
      "The number of elements in this row =  3\n",
      "['3', ' Apple', ' 2 1b']\n",
      "The number of elements in this row =  3\n",
      "['4', ' Strawberry', ' 6 1b']\n",
      "The number of elements in this row =  3\n",
      "['5', ' Cherry', ' 3 1b']\n",
      "The number of elements in this row =  3\n"
     ]
    }
   ],
   "source": [
    "import csv\n",
    "\n",
    "with open('fruits.csv', 'r', newline=\"\", encoding='utf-8') as f:\n",
    "    csv_rows = csv.reader(f)      # it took it as one whole string.  \n",
    "    \n",
    "    for row in csv_rows:\n",
    "        print(row)\n",
    "        print('The number of elements in this row = ', len(row))"
   ]
  },
  {
   "cell_type": "markdown",
   "metadata": {},
   "source": [
    "# Program Execution"
   ]
  },
  {
   "cell_type": "markdown",
   "metadata": {},
   "source": [
    "###  Introduction\n",
    "###  The Interpretation\n",
    "###  Virtual Machine"
   ]
  },
  {
   "cell_type": "code",
   "execution_count": 28,
   "metadata": {},
   "outputs": [],
   "source": [
    "# Have you ever thought, after writing lines of Python code, how they do amazing things?\n",
    "\n",
    "# We will try to understand how Python codes work, in other words, we will take a look at what's happening when you run the codes.\n",
    "\n",
    "# Even if we run the simple conventional Python syntax: print('Hello World!'), very complex things are performed in the same way."
   ]
  },
  {
   "cell_type": "code",
   "execution_count": 29,
   "metadata": {},
   "outputs": [],
   "source": [
    "# The Python scripts (a file with .py extention) contain Python codes and we can run these files via several interpreter tools \n",
    "# such as:\n",
    "        # Python Shell\n",
    "        # OS Console\n",
    "        # IDEs"
   ]
  },
  {
   "cell_type": "code",
   "execution_count": 30,
   "metadata": {},
   "outputs": [],
   "source": [
    "# Since the very beginning of this course, you have probably heard terms such as interpreted or compiled languages. \n",
    "# And most likelyi you learned that Python was an interpreted type of programming language. What does all this mean? Let's dive into the Pythonic world.\n",
    "\n",
    "# The process of program execution (the program flow) basically looks like this:\n",
    "# Types script ==> Interpretation ==> Everything is done!"
   ]
  },
  {
   "cell_type": "code",
   "execution_count": 31,
   "metadata": {},
   "outputs": [],
   "source": [
    "# What is the interpretation process? ==> Simply, we can say that this is like reading your codes."
   ]
  },
  {
   "cell_type": "code",
   "execution_count": 32,
   "metadata": {},
   "outputs": [],
   "source": [
    "# CPython: Python's default interpreter is a software writtenin the C programming language knowns as CPython.\n",
    "\n",
    "# There are several other interpreters available. Let's take a look at these."
   ]
  },
  {
   "cell_type": "code",
   "execution_count": 34,
   "metadata": {},
   "outputs": [],
   "source": [
    "# * Jyton: It is an interpreter that works with a Java-based algorithm and converts \n",
    "#Python codes into Java- compatible byte code, which will be executed later by the Java Virtual Machine.\n",
    "\n",
    "# * PyPy: It is a replacement for CPython. It is built using the RPython language that was co-developed with it. \n",
    "#The main reason to use it instead of CPython is speed: RPython(Restricted Python) provides some restrictions to the usual \n",
    "#Python code.\n",
    "\n",
    "\n",
    "# * It is an open-source implementation of the Python which is tightly integrated with the .NET Framework."
   ]
  },
  {
   "cell_type": "code",
   "execution_count": 36,
   "metadata": {},
   "outputs": [],
   "source": [
    "# Interpretation:\n",
    "        # Compilation ==> Byte Code ==> Virtual Machine\n",
    "# The compiler translates your Python statements(source code) into byte-code. \n",
    "                # ==> Byte code is platform independent, primitive level and specific version of the Python source code.\n",
    "                        # ==> After compilation of Python statements into byte-code, it is now time for Python Virtual Machine to run."
   ]
  },
  {
   "cell_type": "markdown",
   "metadata": {},
   "source": [
    "# Virtual Machine"
   ]
  },
  {
   "cell_type": "code",
   "execution_count": 39,
   "metadata": {},
   "outputs": [],
   "source": [
    "# It is actually nothing but software made up of a large piece of code"
   ]
  },
  {
   "cell_type": "code",
   "execution_count": 40,
   "metadata": {},
   "outputs": [],
   "source": [
    "# Just like in compiler, Virtual Machine executes byte-codes that come into it by reading line by line from top to bottom and from left to right.\n",
    "\n",
    "# It does not require a separate library or program installation. You don't need to know how the codes that go from the Python statements \n",
    "# to the byte-code and from the byte-code to the Virtual Machine are created and executed."
   ]
  }
 ],
 "metadata": {
  "kernelspec": {
   "display_name": "Python 3",
   "language": "python",
   "name": "python3"
  },
  "language_info": {
   "codemirror_mode": {
    "name": "ipython",
    "version": 3
   },
   "file_extension": ".py",
   "mimetype": "text/x-python",
   "name": "python",
   "nbconvert_exporter": "python",
   "pygments_lexer": "ipython3",
   "version": "3.8.5"
  }
 },
 "nbformat": 4,
 "nbformat_minor": 4
}
