{
 "cells": [
  {
   "cell_type": "markdown",
   "metadata": {},
   "source": [
    "# Defining (Creating) a Function"
   ]
  },
  {
   "cell_type": "markdown",
   "metadata": {},
   "source": [
    "####  Introduction\n",
    "####  Main Principles of  'Defining'\n",
    "####  Execution of a Function"
   ]
  },
  {
   "cell_type": "markdown",
   "metadata": {},
   "source": [
    "*-->The keyword def introduces the name of the function.\n",
    "\n",
    "*-->It must be followed by the function name and the paranthesized list of formal arguments.\n",
    "\n",
    "*-->The statements that form the body of the function start at the next line and must be indented (leave four spaces).\n",
    "            \n",
    "            def Function name (Arguments):\n",
    "                Execution body"
   ]
  },
  {
   "cell_type": "markdown",
   "metadata": {},
   "source": [
    "### Main Principles of 'Defining'"
   ]
  },
  {
   "cell_type": "code",
   "execution_count": null,
   "metadata": {},
   "outputs": [],
   "source": [
    "# The basic formula syntax of user-defined function:\n",
    "    def function_name(arguments):\n",
    "        execution body\n",
    "\n",
    "# Varaibles should be (traditionaly) written in lowercase with underscores between words.\n",
    "# Argument lists are optional, but the parentheses.\n",
    "# A colon : follows the closing paranthesis.\n",
    "# The codes must be indented unde def statement."
   ]
  },
  {
   "cell_type": "code",
   "execution_count": null,
   "metadata": {},
   "outputs": [],
   "source": [
    "# def first_function(argument_1, argument_2):\n",
    "    # print(argument_1 **2 + argument_2 ** 2)\n",
    "\n",
    "    # sum of the squres of arguments"
   ]
  },
  {
   "cell_type": "code",
   "execution_count": 1,
   "metadata": {},
   "outputs": [
    {
     "name": "stdout",
     "output_type": "stream",
     "text": [
      "13\n"
     ]
    }
   ],
   "source": [
    "def first_function(arg_1, arg_2):\n",
    "    print(arg_1 ** 2 + arg_2 ** 2)\n",
    "    \n",
    "first_function(2,3)"
   ]
  },
  {
   "cell_type": "code",
   "execution_count": 2,
   "metadata": {},
   "outputs": [
    {
     "name": "stdout",
     "output_type": "stream",
     "text": [
      "6\n"
     ]
    }
   ],
   "source": [
    "def adding_2(a):\n",
    "    print(a + 2)\n",
    "\n",
    "adding_2(4)"
   ]
  },
  {
   "cell_type": "code",
   "execution_count": 4,
   "metadata": {},
   "outputs": [
    {
     "name": "stdout",
     "output_type": "stream",
     "text": [
      "15\n",
      "-2.5\n",
      "amazing amazing amazing \n"
     ]
    }
   ],
   "source": [
    "def multiply(a,b):\n",
    "    print(a * b)\n",
    "\n",
    "multiply(3,5)\n",
    "multiply(-1,2.5)\n",
    "multiply('amazing ',3)  # it's really amazing, right?"
   ]
  },
  {
   "cell_type": "code",
   "execution_count": 5,
   "metadata": {},
   "outputs": [
    {
     "name": "stdout",
     "output_type": "stream",
     "text": [
      "Don't hesitate to reinvent yourself!\n"
     ]
    }
   ],
   "source": [
    "def motto():\n",
    "    print(\"Don't hesitate to reinvent yourself!\")\n",
    "motto()   # it doesn't have argument"
   ]
  },
  {
   "cell_type": "code",
   "execution_count": 6,
   "metadata": {},
   "outputs": [
    {
     "name": "stdout",
     "output_type": "stream",
     "text": [
      "Don't hesitate to reinvent yourself!\n",
      "Don't hesitate to reinvent yourself!\n",
      "Don't hesitate to reinvent yourself!\n",
      "Don't hesitate to reinvent yourself!\n",
      "Don't hesitate to reinvent yourself!\n",
      "Don't hesitate to reinvent yourself!\n",
      "Don't hesitate to reinvent yourself!\n",
      "Don't hesitate to reinvent yourself!\n",
      "Don't hesitate to reinvent yourself!\n",
      "Don't hesitate to reinvent yourself!\n"
     ]
    }
   ],
   "source": [
    "def motto():\n",
    "    for i in range(10):\n",
    "        print(\"Don't hesitate to reinvent yourself!\")\n",
    "motto()   # it doesn't have argument"
   ]
  },
  {
   "cell_type": "code",
   "execution_count": null,
   "metadata": {},
   "outputs": [],
   "source": [
    "Task 1: \n",
    "    Define a function named add to sum two numbers and print the result."
   ]
  },
  {
   "cell_type": "code",
   "execution_count": 7,
   "metadata": {},
   "outputs": [
    {
     "name": "stdout",
     "output_type": "stream",
     "text": [
      "3\n"
     ]
    }
   ],
   "source": [
    "def add(a,b):\n",
    "    print(a + b)\n",
    "\n",
    "add(1,2)"
   ]
  },
  {
   "cell_type": "code",
   "execution_count": 11,
   "metadata": {},
   "outputs": [
    {
     "name": "stdout",
     "output_type": "stream",
     "text": [
      "Enter your first number: 4\n",
      "Enter your second number: 6\n",
      "10\n"
     ]
    }
   ],
   "source": [
    "def add_2(a,b):\n",
    "    return a + b\n",
    "\n",
    "\n",
    "x = int(input(\"Enter your first number: \"))\n",
    "y = int(input(\"Enter your second number: \"))\n",
    "\n",
    "print(add_2(x,y))"
   ]
  },
  {
   "cell_type": "code",
   "execution_count": 13,
   "metadata": {},
   "outputs": [
    {
     "name": "stdout",
     "output_type": "stream",
     "text": [
      "Enter your first number: 4\n",
      "Enter your second number: 8\n",
      "12\n"
     ]
    }
   ],
   "source": [
    "def add_3():\n",
    "    x = int(input(\"Enter your first number: \"))\n",
    "    y = int(input(\"Enter your second number: \"))\n",
    "    print(x + y)\n",
    "\n",
    "add_3()\n"
   ]
  },
  {
   "cell_type": "code",
   "execution_count": 14,
   "metadata": {},
   "outputs": [],
   "source": [
    "# calculator(88, 22, '+')\n",
    "\n",
    "def calculator(a,b,o):\n",
    "    if o == '+':\n",
    "        print(a +b)\n",
    "    elif o == '-':\n",
    "        print(a-b)\n",
    "    elif o == '/':\n",
    "        print(a /b)\n",
    "    elif o == '*':\n",
    "        print(a *b)\n",
    "    elif o == '//':\n",
    "        print(a // b)\n",
    "    elif o == '**':\n",
    "        print(a ** b)\n",
    "    elif o == '%':\n",
    "        print(a % b)\n",
    "    else:\n",
    "        print(f'please enter a valid input. \\n Your input is {a, b, o}')"
   ]
  },
  {
   "cell_type": "code",
   "execution_count": 15,
   "metadata": {},
   "outputs": [
    {
     "name": "stdout",
     "output_type": "stream",
     "text": [
      "110\n"
     ]
    }
   ],
   "source": [
    "calculator(88, 22, '+')"
   ]
  },
  {
   "cell_type": "code",
   "execution_count": 16,
   "metadata": {},
   "outputs": [
    {
     "name": "stdout",
     "output_type": "stream",
     "text": [
      "please enter a valid input. \n",
      " Your input is (88, 22, '?')\n"
     ]
    }
   ],
   "source": [
    "calculator(88, 22, '?')"
   ]
  },
  {
   "cell_type": "code",
   "execution_count": 5,
   "metadata": {},
   "outputs": [],
   "source": [
    "def calculator_2(a,b,o):\n",
    "    a = int(input(\"Enter your first number: \"))\n",
    "    b = int(input(\"Enter your second number: \"))\n",
    "    o = input(\"Enter your operator: \")\n",
    "    \n",
    "    if o == '+':\n",
    "        print(a +b)\n",
    "    elif o == '-':\n",
    "        print(a-b)\n",
    "    elif o == '/':\n",
    "        print(a /b)\n",
    "    elif o == '*':\n",
    "        print(a *b)\n",
    "    elif o == '//':\n",
    "        print(a // b)\n",
    "    elif o == '**':\n",
    "        print(a ** b)\n",
    "    elif o == '%':\n",
    "        print(a % b)\n",
    "    else:\n",
    "        print(f'please enter a valid input. \\n Your input is {a, b, o}')"
   ]
  },
  {
   "cell_type": "markdown",
   "metadata": {},
   "source": [
    "### Execution of Function"
   ]
  },
  {
   "cell_type": "markdown",
   "metadata": {},
   "source": [
    "The functions you have seen so far did not return any types or values but executed some actions."
   ]
  },
  {
   "cell_type": "markdown",
   "metadata": {},
   "source": [
    "In order to use the output and data types generated by the functions in our next program flow, we need to define our function with the keyword \"return\"."
   ]
  },
  {
   "cell_type": "code",
   "execution_count": null,
   "metadata": {},
   "outputs": [],
   "source": [
    "def multiply_1(a,b):\n",
    "    print(a * b)   # it prints something\n",
    "\n",
    "multiply_1(10,5)"
   ]
  },
  {
   "cell_type": "code",
   "execution_count": null,
   "metadata": {},
   "outputs": [],
   "source": [
    "def multiply_1(a,b):\n",
    "    return(a * b)   # returns any numeric data type value\n",
    "\n",
    "print(multiply_1(10,5))"
   ]
  },
  {
   "cell_type": "code",
   "execution_count": 10,
   "metadata": {},
   "outputs": [
    {
     "name": "stdout",
     "output_type": "stream",
     "text": [
      "50\n",
      "<class 'NoneType'>\n",
      "<class 'int'>\n",
      "51\n"
     ]
    }
   ],
   "source": [
    "def multiply(a,b):\n",
    "    print(a * b)\n",
    "\n",
    "def multiply_1(a,b):\n",
    "    return a * b\n",
    "\n",
    "print(type(multiply(10,5)))      # print function retains no type value.\n",
    "# print(multiply(10,5) + 1)        # as it doesn't have any type value it will not allow us to add any integer value to it.\n",
    "\n",
    "print(type(multiply_1(10,5)))\n",
    "\n",
    "print(multiply_1(10,5) + 1)    # on the other hand, as return gives a type value to the variable we can perform operations."
   ]
  },
  {
   "cell_type": "code",
   "execution_count": 14,
   "metadata": {},
   "outputs": [
    {
     "name": "stdout",
     "output_type": "stream",
     "text": [
      "Flash!\n",
      "None\n"
     ]
    }
   ],
   "source": [
    "prin_t = print(\"Flash!\")\n",
    "print(prin_t)"
   ]
  },
  {
   "cell_type": "code",
   "execution_count": null,
   "metadata": {},
   "outputs": [],
   "source": [
    "Task 2:\n",
    "    Define a function named absolute_value to calculate and return absolute value of the entered number.\n",
    "        print(absolute_value(3.3))\n",
    "        print(absolute_value(-4))"
   ]
  },
  {
   "cell_type": "code",
   "execution_count": 19,
   "metadata": {},
   "outputs": [
    {
     "name": "stdout",
     "output_type": "stream",
     "text": [
      "Please enter a number to check.-3.3\n",
      "3.3\n"
     ]
    }
   ],
   "source": [
    "def absolute_value():\n",
    "    a = float(input(\"Please enter a number to check.\"))\n",
    "    if a >= 0:\n",
    "        return a\n",
    "    else:\n",
    "        return -a\n",
    "print(absolute_value())"
   ]
  },
  {
   "cell_type": "code",
   "execution_count": 27,
   "metadata": {},
   "outputs": [
    {
     "name": "stdout",
     "output_type": "stream",
     "text": [
      "Please enter a number to check.-23\n",
      "23.0\n"
     ]
    }
   ],
   "source": [
    "def absolute_value():\n",
    "    a = float(input(\"Please enter a number to check.\"))\n",
    "    return abs(a)   # built-in function that gives you positive numbers.\n",
    "\n",
    "print(absolute_value())"
   ]
  },
  {
   "cell_type": "code",
   "execution_count": 28,
   "metadata": {},
   "outputs": [
    {
     "name": "stdout",
     "output_type": "stream",
     "text": [
      "Please enter a number to check.-2\n",
      "2.0\n"
     ]
    }
   ],
   "source": [
    "def absolute_value_2():\n",
    "    \"\"\"This function returns the absolute value of any number given by user \"\"\"\n",
    "    a = float(input(\"Please enter a number to check.\"))\n",
    "    return abs(a)   # built-in function that gives you positive numbers.\n",
    "\n",
    "print(absolute_value())"
   ]
  },
  {
   "cell_type": "code",
   "execution_count": 29,
   "metadata": {},
   "outputs": [
    {
     "name": "stdout",
     "output_type": "stream",
     "text": [
      "This function returns the absolute value of any number given by user \n"
     ]
    }
   ],
   "source": [
    "print(absolute_value_2.__doc__)"
   ]
  },
  {
   "cell_type": "code",
   "execution_count": 30,
   "metadata": {},
   "outputs": [
    {
     "name": "stdout",
     "output_type": "stream",
     "text": [
      "My heart leaps up\n",
      "        When I behold\n",
      "        a rainbow in the sky.\n",
      "        So was it when I was a child,\n",
      "        So is it now I am man,\n",
      "        So be it when i shall grow old,\n",
      "        or\n",
      "        let me die. (WW)\n"
     ]
    }
   ],
   "source": [
    "poem = '''My heart leaps up\n",
    "        When I behold\n",
    "        a rainbow in the sky.\n",
    "        So was it when I was a child,\n",
    "        So is it now I am man,\n",
    "        So be it when i shall grow old,\n",
    "        or\n",
    "        let me die. (WW)'''\n",
    "\n",
    "print(poem)"
   ]
  },
  {
   "cell_type": "code",
   "execution_count": 31,
   "metadata": {},
   "outputs": [],
   "source": [
    "def poem():\n",
    "    poem=  '''My heart leaps up\n",
    "        When I behold\n",
    "        a rainbow in the sky.\n",
    "        So was it when I was a child,\n",
    "        So is it now I am man,\n",
    "        So be it when i shall grow old,\n",
    "        or\n",
    "        let me die. (WW)'''\n",
    "    print(poem)"
   ]
  },
  {
   "cell_type": "code",
   "execution_count": 32,
   "metadata": {},
   "outputs": [
    {
     "name": "stdout",
     "output_type": "stream",
     "text": [
      "My heart leaps up\n",
      "        When I behold\n",
      "        a rainbow in the sky.\n",
      "        So was it when I was a child,\n",
      "        So is it now I am man,\n",
      "        So be it when i shall grow old,\n",
      "        or\n",
      "        let me die. (WW)\n"
     ]
    }
   ],
   "source": [
    "poem()"
   ]
  },
  {
   "cell_type": "code",
   "execution_count": 34,
   "metadata": {},
   "outputs": [
    {
     "name": "stdout",
     "output_type": "stream",
     "text": [
      "10\n",
      "9\n",
      "8\n",
      "7\n",
      "6\n",
      "5\n",
      "4\n",
      "3\n",
      "2\n",
      "1\n"
     ]
    }
   ],
   "source": [
    "def count_down():\n",
    "    for i in range(10, 0, -1):\n",
    "        print(i)\n",
    "count_down()"
   ]
  },
  {
   "cell_type": "code",
   "execution_count": 35,
   "metadata": {},
   "outputs": [
    {
     "data": {
      "text/plain": [
       "'Return the absolute value of the argument.'"
      ]
     },
     "execution_count": 35,
     "metadata": {},
     "output_type": "execute_result"
    }
   ],
   "source": [
    "abs.__doc__"
   ]
  },
  {
   "cell_type": "code",
   "execution_count": 40,
   "metadata": {},
   "outputs": [
    {
     "name": "stdout",
     "output_type": "stream",
     "text": [
      "Please enter a number: -5\n",
      "Please enter second number: 5\n",
      "0.0\n"
     ]
    }
   ],
   "source": [
    "def abs_add():\n",
    "    n_1 = float(input(\"Please enter a number: \"))\n",
    "    n_2 = float(input(\"Please enter second number: \"))\n",
    "    \n",
    "    return abs(n_1 + n_2)\n",
    "\n",
    "print(abs_add())  #|n|"
   ]
  },
  {
   "cell_type": "code",
   "execution_count": 42,
   "metadata": {},
   "outputs": [
    {
     "name": "stdout",
     "output_type": "stream",
     "text": [
      "Please enter a number: -4\n",
      "Please enter second number: -5\n",
      "9.0\n"
     ]
    }
   ],
   "source": [
    "def abs_add():\n",
    "    n_1 = float(input(\"Please enter a number: \"))\n",
    "    n_2 = float(input(\"Please enter second number: \"))\n",
    "    \n",
    "    return abs(n_1) + abs(n_2)\n",
    "\n",
    "print(abs_add())"
   ]
  },
  {
   "cell_type": "markdown",
   "metadata": {},
   "source": [
    "# The Matter of Arguments"
   ]
  },
  {
   "cell_type": "markdown",
   "metadata": {},
   "source": [
    "#### Arguments vs. Parameters"
   ]
  },
  {
   "cell_type": "markdown",
   "metadata": {},
   "source": [
    "In fact, arguments are some kind of variable. So you can think of them as aliases for varaibles. This is exactly what we call the parameters. That is, the values you assign to the parameters defined in a function are arguments."
   ]
  },
  {
   "cell_type": "markdown",
   "metadata": {},
   "source": [
    "If you look at the Python documentation on this topic, you will notice that the terms parameters and arguments are used almost the same way. But they are slightly different things."
   ]
  },
  {
   "cell_type": "code",
   "execution_count": 43,
   "metadata": {},
   "outputs": [
    {
     "name": "stdout",
     "output_type": "stream",
     "text": [
      "4\n"
     ]
    }
   ],
   "source": [
    "def add_2(a):    # a is parameter\n",
    "    print(a + 2)\n",
    "    \n",
    "add_2(2)  # 2 is argument."
   ]
  },
  {
   "cell_type": "code",
   "execution_count": 44,
   "metadata": {},
   "outputs": [
    {
     "name": "stdout",
     "output_type": "stream",
     "text": [
      "Please enter a number: 8\n",
      "12.0\n"
     ]
    }
   ],
   "source": [
    "# is it mandatory to have parameter in your function? NO!\n",
    "\n",
    "def add_4():\n",
    "    n = float(input('Please enter a number: '))\n",
    "    return n + 4\n",
    "\n",
    "print(add_4())      # in here we don't have any arguments and parameters"
   ]
  },
  {
   "cell_type": "code",
   "execution_count": 45,
   "metadata": {},
   "outputs": [
    {
     "name": "stdout",
     "output_type": "stream",
     "text": [
      "Your first name is:  Guido\n",
      "Your last name is:  van Rossum\n",
      "None\n",
      "\n",
      "Your first name is:  Marry\n",
      "Your last name is:  Bold\n",
      "None\n"
     ]
    }
   ],
   "source": [
    "def who(first, last):                       # 'first' and 'last' are the parameters(or variables)\n",
    "    print('Your first name is: ', first)\n",
    "    print('Your last name is: ', last)\n",
    "\n",
    "print(who('Guido', 'van Rossum'))              # 'Guido' and 'van Rossum' are the arguments\n",
    "print()\n",
    "print(who('Marry', 'Bold'))                    # 'Marry' and 'Bold' are also the arguments"
   ]
  },
  {
   "cell_type": "code",
   "execution_count": 46,
   "metadata": {},
   "outputs": [
    {
     "ename": "TypeError",
     "evalue": "who() missing 1 required positional argument: 'last'",
     "output_type": "error",
     "traceback": [
      "\u001b[1;31m---------------------------------------------------------------------------\u001b[0m",
      "\u001b[1;31mTypeError\u001b[0m                                 Traceback (most recent call last)",
      "\u001b[1;32m<ipython-input-46-a39840770ea1>\u001b[0m in \u001b[0;36m<module>\u001b[1;34m\u001b[0m\n\u001b[0;32m      1\u001b[0m \u001b[1;31m# If you passed only one argument into the parameter of the who() function, it gives an error.\u001b[0m\u001b[1;33m\u001b[0m\u001b[1;33m\u001b[0m\u001b[1;33m\u001b[0m\u001b[0m\n\u001b[1;32m----> 2\u001b[1;33m \u001b[0mwho\u001b[0m\u001b[1;33m(\u001b[0m\u001b[1;34m'Joseph'\u001b[0m\u001b[1;33m)\u001b[0m     \u001b[1;31m# we passed only one argument into the function\u001b[0m\u001b[1;33m\u001b[0m\u001b[1;33m\u001b[0m\u001b[0m\n\u001b[0m",
      "\u001b[1;31mTypeError\u001b[0m: who() missing 1 required positional argument: 'last'"
     ]
    }
   ],
   "source": [
    "# If you passed only one argument into the parameter of the who() function, it gives an error. \n",
    "who('Joseph')     # we passed only one argument into the function"
   ]
  },
  {
   "cell_type": "markdown",
   "metadata": {},
   "source": [
    "# Correct Use of Arguments "
   ]
  },
  {
   "cell_type": "markdown",
   "metadata": {},
   "source": [
    "### Positional Arguments\n",
    "### Keyword Arguments"
   ]
  },
  {
   "cell_type": "code",
   "execution_count": null,
   "metadata": {},
   "outputs": [],
   "source": []
  },
  {
   "cell_type": "markdown",
   "metadata": {},
   "source": [
    "##### Armstrong Numbers- Assignment"
   ]
  },
  {
   "cell_type": "code",
   "execution_count": null,
   "metadata": {},
   "outputs": [],
   "source": [
    "# an armstrong number is a number where each and every digits euals to adding of power of number of digits"
   ]
  },
  {
   "cell_type": "code",
   "execution_count": 47,
   "metadata": {},
   "outputs": [
    {
     "data": {
      "text/plain": [
       "153"
      ]
     },
     "execution_count": 47,
     "metadata": {},
     "output_type": "execute_result"
    }
   ],
   "source": [
    "n = 1 **3 + 5 ** 3 + 3 ** 3\n",
    "n   # 153 is an Armstrong number"
   ]
  },
  {
   "cell_type": "code",
   "execution_count": 50,
   "metadata": {},
   "outputs": [
    {
     "name": "stdout",
     "output_type": "stream",
     "text": [
      "-1 is not an absolute number.\n",
      "0 is an absolute number.\n"
     ]
    }
   ],
   "source": [
    "def check_abs(n):\n",
    "    if n >= 0:\n",
    "        print(n, 'is an absolute number.')\n",
    "    else:\n",
    "        print(n, 'is not an absolute number.')\n",
    "check_abs(-1)\n",
    "check_abs(0)"
   ]
  },
  {
   "cell_type": "code",
   "execution_count": 1,
   "metadata": {},
   "outputs": [],
   "source": [
    "def is_armstrong():\n",
    "    while True:\n",
    "        num = input('Please enter a positive number: ')             # this is a string\n",
    "        exponential = len(num)                                      # len can only use with string. It must be a string forever.\n",
    "        total = 0                                                   # the box where I keep my total.\n",
    "\n",
    "\n",
    "        if not num.isdigit():                                       # .isdigit for strings to check whether it has numeric value./ checking validity of my input.\n",
    "            print(num, 'is invalid input. Please enter a positive number.')\n",
    "\n",
    "        elif int(num) >= 0:                                        # we are converting num into integer to make sure that it is a positive integer.(absolute number)\n",
    "            for i in range(exponential):                           # range(digit number) it will start from 0 and stops at the number of last digit of the given number(eg. num = '12345678' range(8)))\n",
    "                total +=int(num[i]) ** exponential                 # filling up my total\n",
    "            if total == int(num):                                  # we are converting varaible according to our demans, we are not assigning it to a new varaible.\n",
    "                print(num, 'is an  Armstrong number! ')\n",
    "                break                                              # stopping my loop\n",
    "            else:\n",
    "                print(num, 'is not an Armstrong number!')\n",
    "                break                                              # stopping my loop\n",
    "# Note: 0 to 9 is an Armstrong number. \n",
    "\n",
    "is_armstrong"
   ]
  },
  {
   "cell_type": "code",
   "execution_count": 2,
   "metadata": {},
   "outputs": [
    {
     "name": "stdout",
     "output_type": "stream",
     "text": [
      "Please enter a positive number: 153\n",
      "153 is an  Armstrong number! \n"
     ]
    }
   ],
   "source": [
    "is_armstrong()"
   ]
  },
  {
   "cell_type": "code",
   "execution_count": null,
   "metadata": {},
   "outputs": [],
   "source": []
  },
  {
   "cell_type": "code",
   "execution_count": null,
   "metadata": {},
   "outputs": [],
   "source": []
  }
 ],
 "metadata": {
  "kernelspec": {
   "display_name": "Python 3",
   "language": "python",
   "name": "python3"
  },
  "language_info": {
   "codemirror_mode": {
    "name": "ipython",
    "version": 3
   },
   "file_extension": ".py",
   "mimetype": "text/x-python",
   "name": "python",
   "nbconvert_exporter": "python",
   "pygments_lexer": "ipython3",
   "version": "3.8.5"
  }
 },
 "nbformat": 4,
 "nbformat_minor": 4
}
