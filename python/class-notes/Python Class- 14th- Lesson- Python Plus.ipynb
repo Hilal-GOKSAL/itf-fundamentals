{
 "cells": [
  {
   "cell_type": "markdown",
   "metadata": {},
   "source": [
    "# The Matter of Arguments"
   ]
  },
  {
   "cell_type": "code",
   "execution_count": 1,
   "metadata": {},
   "outputs": [],
   "source": [
    "def who(first, last):\n",
    "    print(f'your first name is: {first}')\n",
    "    print(f'your last name is: {last}')"
   ]
  },
  {
   "cell_type": "code",
   "execution_count": 2,
   "metadata": {},
   "outputs": [
    {
     "name": "stdout",
     "output_type": "stream",
     "text": [
      "your first name is: Ali\n",
      "your last name is: Hassan\n"
     ]
    }
   ],
   "source": [
    "who('Ali', 'Hassan')"
   ]
  },
  {
   "cell_type": "code",
   "execution_count": 4,
   "metadata": {},
   "outputs": [],
   "source": [
    "# first = whatever you will put as first argument\n",
    "# last = whatever you will put as your second argument\n",
    "# it is mandatory to give 2 parameters.\n",
    "# Python cannot take a key which has no value.\n",
    "# parameters are the keys and arguments are the values."
   ]
  },
  {
   "cell_type": "code",
   "execution_count": 5,
   "metadata": {},
   "outputs": [
    {
     "name": "stdout",
     "output_type": "stream",
     "text": [
      "3 is the first argument\n",
      "4 is the second argument\n",
      "\n",
      "4 is the first argument\n",
      "3 is the second argument\n"
     ]
    }
   ],
   "source": [
    "# When calling a function with positional arguments, they must be passed in order from left to right.\n",
    "\n",
    "def pos_args(a,b):\n",
    "    print(a, 'is the first argument')\n",
    "    print(b, 'is the second argument')\n",
    "\n",
    "pos_args(3,4)\n",
    "print()\n",
    "pos_args(4,3)"
   ]
  },
  {
   "cell_type": "code",
   "execution_count": 7,
   "metadata": {},
   "outputs": [
    {
     "name": "stdout",
     "output_type": "stream",
     "text": [
      "3 is the first argument\n",
      "4 is the second argument\n",
      "\n",
      "4 is the first argument\n",
      "3 is the second argument\n"
     ]
    }
   ],
   "source": [
    "def pos_args(a,b,c):\n",
    "    print(a, 'is the first argument')\n",
    "    print(b, 'is the second argument')      # it's not a problem even you don't given an  third parameter's print.\n",
    "                                            # still code is working, no problem.\n",
    "pos_args(3,4,5)\n",
    "print()\n",
    "pos_args(4,3,1)"
   ]
  },
  {
   "cell_type": "code",
   "execution_count": 8,
   "metadata": {},
   "outputs": [],
   "source": [
    "#Task 1: \n",
    "    #Define a function named texter to print the following output in accordance with input."
   ]
  },
  {
   "cell_type": "code",
   "execution_count": null,
   "metadata": {},
   "outputs": [],
   "source": [
    "a = \"i\"\n",
    "b = \"love\"\n",
    "c = \"you\"\n",
    "\n",
    "texter(c, a, b)"
   ]
  },
  {
   "cell_type": "code",
   "execution_count": 17,
   "metadata": {},
   "outputs": [
    {
     "name": "stdout",
     "output_type": "stream",
     "text": [
      "i love you\n"
     ]
    }
   ],
   "source": [
    "a = \"i\"\n",
    "b = \"love\"\n",
    "c = \"you\"\n",
    "\n",
    "def texter(a,b,c):\n",
    "    print(f'{b} {c} {a}')\n",
    "\n",
    "\n",
    "texter(c,a,b)"
   ]
  },
  {
   "cell_type": "code",
   "execution_count": 3,
   "metadata": {},
   "outputs": [
    {
     "name": "stdout",
     "output_type": "stream",
     "text": [
      "i love you\n",
      "i love you\n",
      "123 456 789\n"
     ]
    }
   ],
   "source": [
    "var1 = \"i\"\n",
    "var2 = \"you\"\n",
    "var3 = \"love\"\n",
    "\n",
    "def texter_2(a,b,c):\n",
    "    var1 = '123'\n",
    "    var2 = '456'\n",
    "    var3 = '789'                # Pyhton do not consider local values when you call the function. It prefers to go with GLOBAL values instead of LOCAL ones.\n",
    "    print(b,c,a)\n",
    "    print(f'{b} {c} {a}')\n",
    "    print(var1, var2, var3)\n",
    "texter_2(var2, var1, var3)"
   ]
  },
  {
   "cell_type": "code",
   "execution_count": 8,
   "metadata": {},
   "outputs": [],
   "source": [
    "var4 = \"my outter var4\"\n",
    "var5 = \"my outter var5\"\n",
    "var6 = \"my outter var6\"\n",
    "\n",
    "def texter_3():\n",
    "    var4 = \"my inner var4\"                      # it goes with inner value if you give one.\n",
    "    print(var4, var5, var6, sep='\\n')"
   ]
  },
  {
   "cell_type": "code",
   "execution_count": 9,
   "metadata": {},
   "outputs": [
    {
     "name": "stdout",
     "output_type": "stream",
     "text": [
      "my inner var4\n",
      "my outter var5\n",
      "my outter var6\n"
     ]
    }
   ],
   "source": [
    "texter_3()"
   ]
  },
  {
   "cell_type": "code",
   "execution_count": 10,
   "metadata": {},
   "outputs": [],
   "source": [
    "var4 = \"my outter var4\"\n",
    "var5 = \"my outter var5\"\n",
    "var6 = \"my outter var6\"\n",
    "\n",
    "def texter_3():\n",
    "    var4 = \"my inner var4\"                      # if you give inner value inside the function score Python will not go with GLOBAL values.\n",
    "    var5 = \"my inner var5\"\n",
    "    var6 = \"my inner var6\"\n",
    "    print(var4, var5, var6, sep='\\n')"
   ]
  },
  {
   "cell_type": "code",
   "execution_count": 11,
   "metadata": {},
   "outputs": [
    {
     "name": "stdout",
     "output_type": "stream",
     "text": [
      "my inner var4\n",
      "my inner var5\n",
      "my inner var6\n"
     ]
    }
   ],
   "source": [
    "texter_3()"
   ]
  },
  {
   "cell_type": "markdown",
   "metadata": {},
   "source": [
    "# Keyword Arguments "
   ]
  },
  {
   "cell_type": "markdown",
   "metadata": {},
   "source": [
    "If you do not want to allow the sequence/ positions of the arguments to restrict you when you call a function, you can also call these arguments by keywords."
   ]
  },
  {
   "cell_type": "markdown",
   "metadata": {},
   "source": [
    "Comonly and traditionally, \"kwargs\" is used as an abbreviation of keyword arguments."
   ]
  },
  {
   "cell_type": "markdown",
   "metadata": {},
   "source": [
    "The formula syntax is: kwargs = values"
   ]
  },
  {
   "cell_type": "code",
   "execution_count": 2,
   "metadata": {},
   "outputs": [
    {
     "name": "stdout",
     "output_type": "stream",
     "text": [
      "Your first name is :  Guido\n",
      "Your last name is :  van Rossum\n",
      "\n",
      "Your first name is :  Guido\n",
      "Your last name is :  van Rossum\n"
     ]
    }
   ],
   "source": [
    "def who(first, last):                # same structure as the previous one\n",
    "    print('Your first name is : ', first)\n",
    "    print('Your last name is : ', last)\n",
    "\n",
    "who(first = 'Guido', last = 'van Rossum')      # calling the function is different \n",
    "# we used kwargs to pass the values into the function\n",
    "print()\n",
    "who(last = 'van Rossum', first = 'Guido')"
   ]
  },
  {
   "cell_type": "code",
   "execution_count": null,
   "metadata": {},
   "outputs": [],
   "source": [
    "# Task 2: Call the texter function using keyword arguments in order to get the same output as the previous one.\n",
    "# def texter(text1, text2, text3):\n",
    "    # print(f\"{text2}, {text3} {text1})"
   ]
  },
  {
   "cell_type": "code",
   "execution_count": 7,
   "metadata": {},
   "outputs": [
    {
     "name": "stdout",
     "output_type": "stream",
     "text": [
      "i love you\n"
     ]
    }
   ],
   "source": [
    "def texter_4(arg1, arg2, arg3):\n",
    "    print(f'{arg2} {arg1} {arg3}')\n",
    "texter_4(arg1 = \"love\", arg2 = \"i\", arg3 = \"you\")"
   ]
  },
  {
   "cell_type": "code",
   "execution_count": 8,
   "metadata": {},
   "outputs": [],
   "source": [
    "def parrot(voltage, state = 'a stiff', action = 'voom', type = 'Norwegian Blue'):\n",
    "    print(\"-- This parrot wouldn't\",  action, end=' ')               # with end=\" \" it brings the second sentence to the first sentence.\n",
    "    print(\"if you put\", voltage, \"volts through it.\")\n",
    "    print(\"--Lovely plumage the\", type)\n",
    "    print(\"-- It's\", state, \"!\")"
   ]
  },
  {
   "cell_type": "code",
   "execution_count": 10,
   "metadata": {},
   "outputs": [
    {
     "name": "stdout",
     "output_type": "stream",
     "text": [
      "-- This parrot wouldn't voom if you put 1000 volts through it.\n",
      "--Lovely plumage the Norwegian Blue\n",
      "-- It's a stiff !\n",
      "-- This parrot wouldn't voom if you put 1000 volts through it.\n",
      "--Lovely plumage the Norwegian Blue\n",
      "-- It's a stiff !\n",
      "\n",
      "-- This parrot wouldn't VOOOOOM if you put 1000000 volts through it.\n",
      "--Lovely plumage the Norwegian Blue\n",
      "-- It's a stiff !\n",
      "\n",
      "-- This parrot wouldn't VOOOOOM if you put 10000000 volts through it.\n",
      "--Lovely plumage the Norwegian Blue\n",
      "-- It's a stiff !\n",
      "\n",
      "-- This parrot wouldn't jump if you put a million volts through it.\n",
      "--Lovely plumage the Norwegian Blue\n",
      "-- It's bereft of life !\n",
      "\n",
      "-- This parrot wouldn't voom if you put a thousand volts through it.\n",
      "--Lovely plumage the Norwegian Blue\n",
      "-- It's pushing up the daisies !\n"
     ]
    }
   ],
   "source": [
    "parrot(1000)                                                # 1 positional argument\n",
    "\n",
    "parrot(voltage = 1000)                                      # 1 keyword argument\n",
    "print()\n",
    "parrot(voltage = 1000000, action = \"VOOOOOM\")               # 2 keyword arguments\n",
    "print()\n",
    "parrot(action = 'VOOOOOM', voltage = 10000000)              # 2 keyword arguments\n",
    "print()\n",
    "parrot('a million', 'bereft of life', 'jump')               # 3 positonal arguments\n",
    "print()\n",
    "parrot('a thousand', state = 'pushing up the daisies')      # 1 posiitonal, 1 keyword"
   ]
  },
  {
   "cell_type": "markdown",
   "metadata": {},
   "source": [
    "Considering the defined functions, all the following calls would be invalid:"
   ]
  },
  {
   "cell_type": "code",
   "execution_count": null,
   "metadata": {},
   "outputs": [],
   "source": [
    "parrot()                                          # required argument missing\n",
    "parrot(voltage = 5.0, 'dead')                     # non-keyword argument after a keyword argument\n",
    "parrot(110, voltage = 220)                        # duplicate value for the same argument\n",
    "parrot(actor = 'John Cleese')                     # unknown keyword argument"
   ]
  },
  {
   "cell_type": "markdown",
   "metadata": {},
   "source": [
    "In a function call, keyword arguments must follow positional arguments."
   ]
  },
  {
   "cell_type": "markdown",
   "metadata": {},
   "source": [
    "All the keyword argument passed must match one of the arguments accepted by the function (e.g. actor is not a valid argument for the parrot function), and their order is not important."
   ]
  },
  {
   "cell_type": "code",
   "execution_count": 11,
   "metadata": {},
   "outputs": [
    {
     "ename": "TypeError",
     "evalue": "my_func() got multiple values for argument 'volt'",
     "output_type": "error",
     "traceback": [
      "\u001b[1;31m---------------------------------------------------------------------------\u001b[0m",
      "\u001b[1;31mTypeError\u001b[0m                                 Traceback (most recent call last)",
      "\u001b[1;32m<ipython-input-11-d7a6a85a0f12>\u001b[0m in \u001b[0;36m<module>\u001b[1;34m\u001b[0m\n\u001b[0;32m      2\u001b[0m     \u001b[0mprint\u001b[0m\u001b[1;33m(\u001b[0m\u001b[1;34mf'take the {volt} volts and {action}'\u001b[0m\u001b[1;33m)\u001b[0m\u001b[1;33m\u001b[0m\u001b[1;33m\u001b[0m\u001b[0m\n\u001b[0;32m      3\u001b[0m \u001b[1;33m\u001b[0m\u001b[0m\n\u001b[1;32m----> 4\u001b[1;33m \u001b[0mmy_func\u001b[0m\u001b[1;33m(\u001b[0m\u001b[1;36m110\u001b[0m\u001b[1;33m,\u001b[0m \u001b[0mvolt\u001b[0m \u001b[1;33m=\u001b[0m \u001b[1;36m220\u001b[0m\u001b[1;33m)\u001b[0m\u001b[1;33m\u001b[0m\u001b[1;33m\u001b[0m\u001b[0m\n\u001b[0m",
      "\u001b[1;31mTypeError\u001b[0m: my_func() got multiple values for argument 'volt'"
     ]
    }
   ],
   "source": [
    "def my_func(volt, action = 'run'):\n",
    "    print(f'take the {volt} volts and {action}')\n",
    "\n",
    "my_func(110, volt = 220)    # Python: you have only one positional arguments you just have to give me one value why are you giving two? "
   ]
  },
  {
   "cell_type": "code",
   "execution_count": 12,
   "metadata": {},
   "outputs": [
    {
     "ename": "TypeError",
     "evalue": "my_func() got an unexpected keyword argument 'voltage'",
     "output_type": "error",
     "traceback": [
      "\u001b[1;31m---------------------------------------------------------------------------\u001b[0m",
      "\u001b[1;31mTypeError\u001b[0m                                 Traceback (most recent call last)",
      "\u001b[1;32m<ipython-input-12-e7d82368e782>\u001b[0m in \u001b[0;36m<module>\u001b[1;34m\u001b[0m\n\u001b[0;32m      2\u001b[0m     \u001b[0mprint\u001b[0m\u001b[1;33m(\u001b[0m\u001b[1;34mf'take the {volt} volts and {action}'\u001b[0m\u001b[1;33m)\u001b[0m\u001b[1;33m\u001b[0m\u001b[1;33m\u001b[0m\u001b[0m\n\u001b[0;32m      3\u001b[0m \u001b[1;33m\u001b[0m\u001b[0m\n\u001b[1;32m----> 4\u001b[1;33m \u001b[0mmy_func\u001b[0m\u001b[1;33m(\u001b[0m\u001b[1;36m110\u001b[0m\u001b[1;33m,\u001b[0m \u001b[0mvoltage\u001b[0m \u001b[1;33m=\u001b[0m \u001b[1;36m220\u001b[0m\u001b[1;33m)\u001b[0m   \u001b[1;31m# Python: what is the voltage? I don't have any keyword in my definition part?\u001b[0m\u001b[1;33m\u001b[0m\u001b[1;33m\u001b[0m\u001b[0m\n\u001b[0m",
      "\u001b[1;31mTypeError\u001b[0m: my_func() got an unexpected keyword argument 'voltage'"
     ]
    }
   ],
   "source": [
    "def my_func(volt, action = 'run'):\n",
    "    print(f'take the {volt} volts and {action}')\n",
    "\n",
    "my_func(110, voltage = 220)   # Python: what is the voltage? I don't have any keyword in my definition part?"
   ]
  },
  {
   "cell_type": "markdown",
   "metadata": {},
   "source": [
    "No argument may receive a value more than once. \n",
    "* Here's an example that fails due to this restriction."
   ]
  },
  {
   "cell_type": "code",
   "execution_count": 13,
   "metadata": {},
   "outputs": [
    {
     "ename": "TypeError",
     "evalue": "function() got multiple values for argument 'a'",
     "output_type": "error",
     "traceback": [
      "\u001b[1;31m---------------------------------------------------------------------------\u001b[0m",
      "\u001b[1;31mTypeError\u001b[0m                                 Traceback (most recent call last)",
      "\u001b[1;32m<ipython-input-13-4ab12c0f2b2e>\u001b[0m in \u001b[0;36m<module>\u001b[1;34m\u001b[0m\n\u001b[0;32m      1\u001b[0m \u001b[1;32mdef\u001b[0m \u001b[0mfunction\u001b[0m\u001b[1;33m(\u001b[0m\u001b[0ma\u001b[0m\u001b[1;33m)\u001b[0m\u001b[1;33m:\u001b[0m\u001b[1;33m\u001b[0m\u001b[1;33m\u001b[0m\u001b[0m\n\u001b[0;32m      2\u001b[0m     \u001b[1;32mpass\u001b[0m                \u001b[1;31m# actually, 'pass' does nothing. It just moves to the next line of code.\u001b[0m\u001b[1;33m\u001b[0m\u001b[1;33m\u001b[0m\u001b[0m\n\u001b[1;32m----> 3\u001b[1;33m \u001b[0mfunction\u001b[0m\u001b[1;33m(\u001b[0m\u001b[1;36m0\u001b[0m\u001b[1;33m,\u001b[0m \u001b[0ma\u001b[0m \u001b[1;33m=\u001b[0m \u001b[1;36m0\u001b[0m\u001b[1;33m)\u001b[0m\u001b[1;33m\u001b[0m\u001b[1;33m\u001b[0m\u001b[0m\n\u001b[0m",
      "\u001b[1;31mTypeError\u001b[0m: function() got multiple values for argument 'a'"
     ]
    }
   ],
   "source": [
    "def function(a):\n",
    "    pass                # actually, 'pass' does nothing. It just moves to the next line of code.\n",
    "function(0, a = 0)      # one parameters - two arguments ? What's wrong with you ? :) "
   ]
  },
  {
   "cell_type": "markdown",
   "metadata": {},
   "source": [
    "* Default Arguments"
   ]
  },
  {
   "cell_type": "markdown",
   "metadata": {},
   "source": [
    "When calling a function defined by parameters with default values, there is no obligation to pass any arguments into the function. "
   ]
  },
  {
   "cell_type": "code",
   "execution_count": 14,
   "metadata": {
    "scrolled": true
   },
   "outputs": [
    {
     "name": "stdout",
     "output_type": "stream",
     "text": [
      "Athens in Europe\n",
      "Ulaanbaatar in Asia\n",
      "Cape Town in Africa\n"
     ]
    }
   ],
   "source": [
    "def city(capital, continent = 'Europe'):\n",
    "    print(capital, 'in', continent)\n",
    "\n",
    "city('Athens')                                   # we don't have to pass any arguments into 'continent'\n",
    "city('Ulaanbaatar', continent = 'Asia')          # we can change the default value by kwargs\n",
    "city('Cape Town', 'Africa')                      # we can change the default value by positional args."
   ]
  },
  {
   "cell_type": "markdown",
   "metadata": {},
   "source": [
    " *args and *kwargs \n",
    " \n",
    " --> The arguments we have used in the functions so far limit us to a certain extent. If we don't define the default values for the arguments, we will always need to pass the exact numbers of the arguments to match the number of the parameters defined in the function. But, there will be some situations when you might want to pass an arbitrary number of arguments."
   ]
  }
 ],
 "metadata": {
  "kernelspec": {
   "display_name": "Python 3",
   "language": "python",
   "name": "python3"
  },
  "language_info": {
   "codemirror_mode": {
    "name": "ipython",
    "version": 3
   },
   "file_extension": ".py",
   "mimetype": "text/x-python",
   "name": "python",
   "nbconvert_exporter": "python",
   "pygments_lexer": "ipython3",
   "version": "3.8.5"
  }
 },
 "nbformat": 4,
 "nbformat_minor": 4
}
