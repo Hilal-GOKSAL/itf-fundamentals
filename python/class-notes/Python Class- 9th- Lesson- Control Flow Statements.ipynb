{
 "cells": [
  {
   "cell_type": "markdown",
   "metadata": {},
   "source": [
    "# Control Flow Statements"
   ]
  },
  {
   "cell_type": "markdown",
   "metadata": {},
   "source": [
    "### Conditionals"
   ]
  },
  {
   "cell_type": "markdown",
   "metadata": {},
   "source": [
    "### Loops"
   ]
  },
  {
   "cell_type": "code",
   "execution_count": null,
   "metadata": {},
   "outputs": [],
   "source": [
    "-Structure of the if Statements\n",
    "-Comparison Operators\n",
    "-if-else Statements\n",
    "-if-elif-else Statements\n",
    "-Nested if-elif-else Statements"
   ]
  },
  {
   "cell_type": "code",
   "execution_count": null,
   "metadata": {},
   "outputs": [],
   "source": [
    "Structure of the if Statements:\n",
    "    if condition:\n",
    "        body\n",
    "        "
   ]
  },
  {
   "cell_type": "code",
   "execution_count": 1,
   "metadata": {},
   "outputs": [
    {
     "name": "stdout",
     "output_type": "stream",
     "text": [
      "it is true\n"
     ]
    }
   ],
   "source": [
    "if True:\n",
    "    print('it is true')"
   ]
  },
  {
   "cell_type": "code",
   "execution_count": 2,
   "metadata": {},
   "outputs": [
    {
     "data": {
      "text/plain": [
       "False"
      ]
     },
     "execution_count": 2,
     "metadata": {},
     "output_type": "execute_result"
    }
   ],
   "source": [
    "a = 3\n",
    "b = 6\n",
    "a > b"
   ]
  },
  {
   "cell_type": "code",
   "execution_count": 3,
   "metadata": {},
   "outputs": [
    {
     "data": {
      "text/plain": [
       "True"
      ]
     },
     "execution_count": 3,
     "metadata": {},
     "output_type": "execute_result"
    }
   ],
   "source": [
    "a < b"
   ]
  },
  {
   "cell_type": "code",
   "execution_count": 4,
   "metadata": {},
   "outputs": [
    {
     "name": "stdout",
     "output_type": "stream",
     "text": [
      "your condition is True\n"
     ]
    }
   ],
   "source": [
    "if (a < b):  # if True     # if the statement in the paranthesis has True or Truty value in it then Python opens\n",
    "                            #the gate of if statement.\n",
    "    print('your condition is True')"
   ]
  },
  {
   "cell_type": "code",
   "execution_count": 5,
   "metadata": {},
   "outputs": [],
   "source": [
    "if (a > b):  # if True ===> python found it was False so that it didn't enter into if statement.\n",
    "    print('your condition is True')"
   ]
  },
  {
   "cell_type": "code",
   "execution_count": 6,
   "metadata": {},
   "outputs": [
    {
     "name": "stdout",
     "output_type": "stream",
     "text": [
      "Please enter a number: 4\n",
      "Please enter another number: 5\n",
      "5 is greater than 4\n"
     ]
    }
   ],
   "source": [
    "c = int(input('Please enter a number: '))\n",
    "d = int(input('Please enter another number: '))\n",
    "\n",
    "if c > d:\n",
    "    print(f'{c} is greater than {d}')\n",
    "\n",
    "if c < d:\n",
    "    print(f'{d} is greater than {c}')\n",
    "\n",
    "if c == d:\n",
    "    print(f'Both {c} and {d} are equal numbers.')"
   ]
  },
  {
   "cell_type": "code",
   "execution_count": 8,
   "metadata": {},
   "outputs": [
    {
     "name": "stdout",
     "output_type": "stream",
     "text": [
      "sandwich is ready\n",
      "True\n"
     ]
    }
   ],
   "source": [
    "# if sandwich is true then sandwich is ready.\n",
    "\n",
    "# sandwich = (True or False)\n",
    "\n",
    "bun = True\n",
    "meat = True\n",
    "lettuce = True\n",
    "pepper = False\n",
    "store = True\n",
    "\n",
    "sandwich = bun and meat and (lettuce or pepper) and store\n",
    "\n",
    "\n",
    "# sandwich is true when store is open \n",
    "# and buns are available \n",
    "# and meat patties available, lettuce and/ or pepper is available\n",
    "\n",
    "\n",
    "if sandwich == True:\n",
    "    print('sandwich is ready')\n",
    "\n",
    "if sandwich == False:\n",
    "    print('sandwich is not ready')\n",
    "\n",
    "print(sandwich)"
   ]
  },
  {
   "cell_type": "code",
   "execution_count": 9,
   "metadata": {},
   "outputs": [
    {
     "name": "stdout",
     "output_type": "stream",
     "text": [
      "Bon Appetit\n"
     ]
    }
   ],
   "source": [
    "minced = True\n",
    "bread = True\n",
    "lettuce = False\n",
    "pepper = True\n",
    "grocer = True\n",
    "\n",
    "hamburger = (minced and grocer and bread) and (lettuce or pepper)\n",
    "\n",
    "if hamburger:\n",
    "    print(\"Bon Appetit\")"
   ]
  },
  {
   "cell_type": "markdown",
   "metadata": {},
   "source": [
    "# Comparison Operators"
   ]
  },
  {
   "cell_type": "code",
   "execution_count": null,
   "metadata": {},
   "outputs": [],
   "source": [
    "not equal !=\n",
    "equal ==\n",
    "less than <\n",
    "greater than > \n",
    "less than or equal <=\n",
    "greater than or equal >=\n"
   ]
  },
  {
   "cell_type": "code",
   "execution_count": 11,
   "metadata": {},
   "outputs": [
    {
     "name": "stdout",
     "output_type": "stream",
     "text": [
      "there is still seat to sit\n"
     ]
    }
   ],
   "source": [
    "empty_seat = 14\n",
    "\n",
    "if empty_seat > 3:    # in this case, 14 > 3 = True, so the body will execute\n",
    "    print('there is still seat to sit')"
   ]
  },
  {
   "cell_type": "code",
   "execution_count": 15,
   "metadata": {},
   "outputs": [
    {
     "name": "stdout",
     "output_type": "stream",
     "text": [
      "-1\n"
     ]
    }
   ],
   "source": [
    "empty_seats = int(input())\n",
    "\n",
    "if empty_seats > 0:\n",
    "    print(f'we still have {empty_seats} seats available!')"
   ]
  },
  {
   "cell_type": "code",
   "execution_count": 16,
   "metadata": {},
   "outputs": [
    {
     "name": "stdout",
     "output_type": "stream",
     "text": [
      "True\n",
      "False\n",
      "True\n",
      "True\n"
     ]
    }
   ],
   "source": [
    "print(1 == 1)\n",
    "print(\"henry\" == \"Henry\")\n",
    "print(12 < 12.1)\n",
    "print('hard' != 'easy')"
   ]
  },
  {
   "cell_type": "code",
   "execution_count": 17,
   "metadata": {},
   "outputs": [
    {
     "name": "stdout",
     "output_type": "stream",
     "text": [
      "is x equal to y? :            False\n",
      "is x not equal to y? :        True\n",
      "is x less than y? :           True\n",
      "is x greater than y? :        False\n",
      "is x less than or equal to y ? :  True\n",
      "is x greater than or equal to y? :  False\n"
     ]
    }
   ],
   "source": [
    "x = 6\n",
    "y = 9\n",
    "\n",
    "print('is x equal to y? :           ', x == y)\n",
    "print('is x not equal to y? :       ', x != y)\n",
    "print('is x less than y? :          ', x < y)\n",
    "print('is x greater than y? :       ', x > y)\n",
    "print('is x less than or equal to y ? : ', x <= y)\n",
    "print('is x greater than or equal to y? : ', x >= y)"
   ]
  },
  {
   "cell_type": "code",
   "execution_count": null,
   "metadata": {},
   "outputs": [],
   "source": [
    "Task 1:\n",
    "    Create two sets (using set() function) with the given string values below.\n",
    "    Compare these sets and print out \"We are the same!\" if they are equal, do nothing if they are not.\n",
    "    \n",
    "    \"TWELVE PLUS ONE\"\n",
    "    \"ELEVEN PLUS TWO\""
   ]
  },
  {
   "cell_type": "code",
   "execution_count": 20,
   "metadata": {},
   "outputs": [
    {
     "name": "stdout",
     "output_type": "stream",
     "text": [
      "We are the same!\n",
      "{'S', 'O', 'U', 'P', 'V', 'T', ' ', 'W', 'L', 'N', 'E'}\n",
      "{'S', 'O', 'U', 'P', 'E', 'V', 'T', ' ', 'W', 'L', 'N'}\n"
     ]
    }
   ],
   "source": [
    "x = set(\"TWELVE PLUS ONE\")\n",
    "y = set(\"ELEVEN PLUS TWO\")\n",
    "\n",
    "if x == y:\n",
    "    print(\"We are the same!\")\n",
    "\n",
    "print(x)\n",
    "print(y)"
   ]
  },
  {
   "cell_type": "code",
   "execution_count": null,
   "metadata": {},
   "outputs": [],
   "source": [
    "Task 2: \n",
    "    Convert string \"Yes\" to boolean True, convert string \"No\" to boolean False.\n",
    "    Write a program that: \n",
    "        Takes the word Yes or No from the users and converts it into boolean type.\n",
    "        Yes --> True\n",
    "        No (or other than Yes) -> False\n",
    "        Print the result i.e(if yes): \"You entered True\"\n",
    "        You may not use if-statements."
   ]
  },
  {
   "cell_type": "code",
   "execution_count": 25,
   "metadata": {},
   "outputs": [
    {
     "name": "stdout",
     "output_type": "stream",
     "text": [
      "Please enter yes/no :No\n",
      "You entered False.\n",
      "No\n",
      "No\n"
     ]
    }
   ],
   "source": [
    "inpt1 = input('Please enter yes/no :')\n",
    "inpt2 = inpt1.lower().title().strip()\n",
    "\n",
    "if inpt2 == \"Yes\":\n",
    "    print(\"You entered True\")\n",
    "    print(inpt2, inpt1, sep='\\n')\n",
    "if inpt2 == \"No\":\n",
    "    print(\"You entered False.\")\n",
    "    print(inpt2, inpt1, sep='\\n')"
   ]
  },
  {
   "cell_type": "code",
   "execution_count": 27,
   "metadata": {},
   "outputs": [
    {
     "name": "stdout",
     "output_type": "stream",
     "text": [
      "Please enter yes/noyES\n",
      "You've entered True\n"
     ]
    }
   ],
   "source": [
    "inpt3 = input('Please enter yes/no').title().strip() == 'Yes'\n",
    "print(\"You've entered\", inpt3)"
   ]
  },
  {
   "cell_type": "markdown",
   "metadata": {},
   "source": [
    "# If - Else Statements"
   ]
  },
  {
   "cell_type": "code",
   "execution_count": null,
   "metadata": {},
   "outputs": [],
   "source": [
    "if condition1:\n",
    "    execute body1\n",
    "else:\n",
    "    execute body2"
   ]
  },
  {
   "cell_type": "code",
   "execution_count": 29,
   "metadata": {},
   "outputs": [
    {
     "name": "stdout",
     "output_type": "stream",
     "text": [
      "think about it again\n"
     ]
    }
   ],
   "source": [
    "course = \"IronIT\"\n",
    "\n",
    "if course == \"clarusway\":\n",
    "    print(\"you guaranteed the job\")\n",
    "else:\n",
    "    print(\"think about it again\")"
   ]
  },
  {
   "cell_type": "code",
   "execution_count": 30,
   "metadata": {},
   "outputs": [
    {
     "name": "stdout",
     "output_type": "stream",
     "text": [
      "Number is bigger than 3\n"
     ]
    }
   ],
   "source": [
    "number = 5\n",
    "\n",
    "if number <= 3:\n",
    "    print(\"Number is smaller than or equal to 3\")\n",
    "else:    # Optional clause(you can onlu have one else)\n",
    "    print(\"Number is bigger than 3\")"
   ]
  },
  {
   "cell_type": "code",
   "execution_count": 33,
   "metadata": {},
   "outputs": [
    {
     "name": "stdout",
     "output_type": "stream",
     "text": [
      "Please enter a number: 7\n",
      "Number is bigger than 3\n"
     ]
    }
   ],
   "source": [
    "number = int(input(\"Please enter a number: \"))\n",
    "\n",
    "if number <= 3:\n",
    "    print(\"Number is smaller than or equal to 3\")\n",
    "else:    # Optional clause(you can onlu have one else)\n",
    "    print(\"Number is bigger than 3\")"
   ]
  },
  {
   "cell_type": "code",
   "execution_count": null,
   "metadata": {},
   "outputs": [],
   "source": [
    "Task 3: \n",
    "    Python Program to Check if a Number is Odd or Even Write a program to check whether if a Number is Odd or Even:\n",
    "        Write a program to check whether a number entered by the user is even or odd.\n",
    "        Print the result such as: \"2 is even\"\n",
    "    "
   ]
  },
  {
   "cell_type": "code",
   "execution_count": 38,
   "metadata": {},
   "outputs": [
    {
     "name": "stdout",
     "output_type": "stream",
     "text": [
      "Please enter a number: 4\n",
      " 4 is even\n"
     ]
    }
   ],
   "source": [
    "odd_list = []\n",
    "even_list = []\n",
    "num = int(input(\"Please enter a number: \"))\n",
    "if num % 2 == 0:\n",
    "    even_list.append(num)\n",
    "    print(f\" {num} is even\")\n",
    "else:\n",
    "    odd_list.append(num)\n",
    "    print(f\"{num} is odd\")"
   ]
  },
  {
   "cell_type": "code",
   "execution_count": 40,
   "metadata": {},
   "outputs": [
    {
     "name": "stdout",
     "output_type": "stream",
     "text": [
      "Please enter a numberto check: 5\n",
      "5.0 is an odd number!\n"
     ]
    }
   ],
   "source": [
    "num = float(input(\"Please enter a numberto check: \"))\n",
    "\n",
    "if num % 2 == 0:\n",
    "    print(f'{num} is an even number!')\n",
    "else:\n",
    "    print(f'{num} is an odd number!')"
   ]
  },
  {
   "cell_type": "code",
   "execution_count": 43,
   "metadata": {},
   "outputs": [
    {
     "name": "stdout",
     "output_type": "stream",
     "text": [
      "Please enter a number to check: 5\n",
      "5.0 is an positive number!\n"
     ]
    }
   ],
   "source": [
    "num = float(input(\"Please enter a number to check: \"))\n",
    "\n",
    "if num > 0:\n",
    "    print(f'{num} is an positive number!')\n",
    "else:\n",
    "    print(f'{num} is an negative number!')"
   ]
  },
  {
   "cell_type": "code",
   "execution_count": 45,
   "metadata": {},
   "outputs": [
    {
     "name": "stdout",
     "output_type": "stream",
     "text": [
      "Please enter a number to check: 5\n",
      "Please enter a number to check: 6\n",
      "The larger number is 6.0\n"
     ]
    }
   ],
   "source": [
    "num1 = float(input(\"Please enter a number to check: \"))\n",
    "num2 = float(input(\"Please enter a number to check: \"))\n",
    "\n",
    "\n",
    "if num1 > num2:\n",
    "    print(f'The larger number is {num1}')\n",
    "else:\n",
    "    print(f'The larger number is {num2}')"
   ]
  },
  {
   "cell_type": "code",
   "execution_count": 46,
   "metadata": {},
   "outputs": [
    {
     "name": "stdout",
     "output_type": "stream",
     "text": [
      "Please enter a number to check: 9\n",
      "Please enter a number to check: 10\n",
      "The larger number is 10.0\n"
     ]
    }
   ],
   "source": [
    "num1 = float(input(\"Please enter a number to check: \"))\n",
    "num2 = float(input(\"Please enter a number to check: \"))\n",
    "\n",
    "\n",
    "if num1 > num2:\n",
    "    larger = num1\n",
    "else:\n",
    "    larger = num2\n",
    "\n",
    "print(f'The larger number is {larger}')"
   ]
  },
  {
   "cell_type": "code",
   "execution_count": null,
   "metadata": {},
   "outputs": [],
   "source": [
    "Task 4:\n",
    "    Convert boolean True to string value of \"Yes\", convert boolean False to string value of \"No\".\n",
    "    Wrtie a program that;\n",
    "        Converts the type of the varaible bool_value which keeps True/False to Yes or No.\n",
    "        True --> \"Yes\"\n",
    "        False --> \"No\""
   ]
  },
  {
   "cell_type": "code",
   "execution_count": 52,
   "metadata": {},
   "outputs": [
    {
     "name": "stdout",
     "output_type": "stream",
     "text": [
      "Please enter True or False: true\n",
      "Yes\n"
     ]
    }
   ],
   "source": [
    "bool_val = bool(input(\"Please enter True or False: \").title().strip())\n",
    "\n",
    "if bool_val == True:\n",
    "    print('Yes')\n",
    "else:\n",
    "    print('No')\n"
   ]
  },
  {
   "cell_type": "code",
   "execution_count": 53,
   "metadata": {},
   "outputs": [
    {
     "name": "stdout",
     "output_type": "stream",
     "text": [
      "No\n"
     ]
    }
   ],
   "source": [
    "bool_value = False   # can be True or False\n",
    "\n",
    "if bool_value:\n",
    "    print(\"Yes\")\n",
    "else:\n",
    "    print(\"No\")"
   ]
  },
  {
   "cell_type": "markdown",
   "metadata": {},
   "source": [
    "# if - elif- else Statements"
   ]
  },
  {
   "cell_type": "code",
   "execution_count": null,
   "metadata": {},
   "outputs": [],
   "source": [
    "if for the first one,\n",
    "elif for the rest, up until the final (optional),\n",
    "else for anything not caught by the other conditionals."
   ]
  },
  {
   "cell_type": "code",
   "execution_count": null,
   "metadata": {},
   "outputs": [],
   "source": [
    "if condition1:\n",
    "    execute body1\n",
    "elif condition2:\n",
    "    execute body2\n",
    "else:\n",
    "    execute body3"
   ]
  },
  {
   "cell_type": "code",
   "execution_count": 54,
   "metadata": {},
   "outputs": [
    {
     "name": "stdout",
     "output_type": "stream",
     "text": [
      "Please enter a number to check: 0\n",
      "0.0 is Zero!\n"
     ]
    }
   ],
   "source": [
    "num = float(input(\"Please enter a number to check: \"))\n",
    "\n",
    "if num > 0:\n",
    "    print(f'{num} is an positive number!')\n",
    "elif num < 0:\n",
    "    print(f'{num} is an negative number!')\n",
    "else:\n",
    "    print(f'{num} is Zero!')"
   ]
  },
  {
   "cell_type": "code",
   "execution_count": 55,
   "metadata": {},
   "outputs": [
    {
     "name": "stdout",
     "output_type": "stream",
     "text": [
      "No such audience, stay at your home!\n"
     ]
    }
   ],
   "source": [
    "audience = \"baby\"\n",
    "\n",
    "if audience == \"kid\":\n",
    "    print(\"it is free to go to cinema\")\n",
    "elif audience == \"teen\":\n",
    "    print(\"discounted price!\")\n",
    "elif audience == \"adult\":\n",
    "    print(\"normal price\")\n",
    "else:\n",
    "    print(\"No such audience, stay at your home!\")"
   ]
  },
  {
   "cell_type": "code",
   "execution_count": null,
   "metadata": {},
   "outputs": [],
   "source": [
    "Task 5: \n",
    "    Write Python Program to Find the Largest Among Three Numbers:\n",
    "        Write a program that prints which of the 3 numbers the user entered is the largest.\n",
    "        Print the result such as: \"The largest number is 4\""
   ]
  },
  {
   "cell_type": "code",
   "execution_count": 56,
   "metadata": {},
   "outputs": [
    {
     "name": "stdout",
     "output_type": "stream",
     "text": [
      "Please enter the first number: 1\n",
      "Please enter the second number: 2\n",
      "Please enter the third number: 3\n",
      "The largest number is:  3.0\n"
     ]
    }
   ],
   "source": [
    "num1 = float(input(\"Please enter the first number: \"))\n",
    "num2 = float(input(\"Please enter the second number: \"))\n",
    "num3 = float(input(\"Please enter the third number: \"))\n",
    "\n",
    "if num1 > num2 and num1 > num3:\n",
    "    largest = num1\n",
    "elif num2 > num1 and num2 > num3:\n",
    "    largest = num2\n",
    "else:\n",
    "    largest = num3\n",
    "    \n",
    "print(\"The largest number is: \", largest)"
   ]
  },
  {
   "cell_type": "code",
   "execution_count": null,
   "metadata": {},
   "outputs": [],
   "source": [
    "Task 6:\n",
    "    Write Python Program to Check if a Number is Negative, Positive or Zero.\n",
    "    Write a program to check whether a number entered by the user is negative, positive or zero.\n",
    "    Print the result such as: \"Negative number\" or \"Zero\"."
   ]
  },
  {
   "cell_type": "code",
   "execution_count": 57,
   "metadata": {},
   "outputs": [
    {
     "name": "stdout",
     "output_type": "stream",
     "text": [
      "Enter a number: 40\n",
      "Positive number\n"
     ]
    }
   ],
   "source": [
    "num = float(input(\"Enter a number: \"))\n",
    "\n",
    "if num > 0:\n",
    "    print(\"Positive number\")\n",
    "elif num == 0:\n",
    "    print(\"Zero\")\n",
    "else:\n",
    "    print(\"Negative number\")"
   ]
  },
  {
   "cell_type": "markdown",
   "metadata": {},
   "source": [
    "# Nested if- elif- else Statements"
   ]
  },
  {
   "cell_type": "code",
   "execution_count": 60,
   "metadata": {},
   "outputs": [
    {
     "name": "stdout",
     "output_type": "stream",
     "text": [
      "discounted price!\n"
     ]
    }
   ],
   "source": [
    "audience_group = \"baby\", \"teen\", \"adult\"\n",
    "\n",
    "audience = \"teen\"\n",
    "\n",
    "if audience in audience_group: \n",
    "    if audience == \"kid\":\n",
    "        print(\"it is free to go to cinema\")\n",
    "    elif audience == \"teen\":\n",
    "        print(\"discounted price!\")\n",
    "    else:  # audience == \"adult\":\n",
    "        print(\"normal price\")\n",
    "else:\n",
    "    print(\"No such audience, stay at your home!\")"
   ]
  },
  {
   "cell_type": "code",
   "execution_count": null,
   "metadata": {},
   "outputs": [],
   "source": [
    "# Let's write a program that asks you to enter your exam score and calculates the range in which your degree is based\n",
    "# on your exam score. The output would be: e.g \"Your degree is B+\"\n",
    "\n",
    "# 95 and above --> \"A+\"\n",
    "# 90- 54 --> \"A\"\n",
    "# 85- 89 --> \"B+\"\n",
    "# 80- 84 --> \"B\"\n",
    "# 79 and below --> \"below B\" or \"B-\""
   ]
  },
  {
   "cell_type": "code",
   "execution_count": 64,
   "metadata": {},
   "outputs": [
    {
     "name": "stdout",
     "output_type": "stream",
     "text": [
      "0\n",
      "Number is Zero\n"
     ]
    }
   ],
   "source": [
    "num = int(input())\n",
    "ls1 = []\n",
    "\n",
    "if num > 0:\n",
    "    if num not in ls1:\n",
    "        ls1.append(num)\n",
    "        \n",
    "        print(ls1)\n",
    "elif num == 0:\n",
    "    print(\"Number is Zero\")\n",
    "else:\n",
    "    print(\"Number already in list\")"
   ]
  },
  {
   "cell_type": "code",
   "execution_count": null,
   "metadata": {},
   "outputs": [],
   "source": []
  },
  {
   "cell_type": "code",
   "execution_count": null,
   "metadata": {},
   "outputs": [],
   "source": []
  },
  {
   "cell_type": "code",
   "execution_count": null,
   "metadata": {},
   "outputs": [],
   "source": []
  },
  {
   "cell_type": "code",
   "execution_count": null,
   "metadata": {},
   "outputs": [],
   "source": []
  },
  {
   "cell_type": "code",
   "execution_count": null,
   "metadata": {},
   "outputs": [],
   "source": []
  },
  {
   "cell_type": "code",
   "execution_count": null,
   "metadata": {},
   "outputs": [],
   "source": []
  },
  {
   "cell_type": "code",
   "execution_count": null,
   "metadata": {},
   "outputs": [],
   "source": []
  }
 ],
 "metadata": {
  "kernelspec": {
   "display_name": "Python 3",
   "language": "python",
   "name": "python3"
  },
  "language_info": {
   "codemirror_mode": {
    "name": "ipython",
    "version": 3
   },
   "file_extension": ".py",
   "mimetype": "text/x-python",
   "name": "python",
   "nbconvert_exporter": "python",
   "pygments_lexer": "ipython3",
   "version": "3.8.5"
  }
 },
 "nbformat": 4,
 "nbformat_minor": 4
}
