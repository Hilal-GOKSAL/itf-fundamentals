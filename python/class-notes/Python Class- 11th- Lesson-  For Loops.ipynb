{
 "cells": [
  {
   "cell_type": "markdown",
   "metadata": {},
   "source": [
    "# Operations with for Loop"
   ]
  },
  {
   "cell_type": "code",
   "execution_count": null,
   "metadata": {},
   "outputs": [],
   "source": [
    "# In the following example, you'll get a number from the user \n",
    "# and print a sentence the number of times we take from the user:"
   ]
  },
  {
   "cell_type": "code",
   "execution_count": 3,
   "metadata": {},
   "outputs": [
    {
     "name": "stdout",
     "output_type": "stream",
     "text": [
      "How many times should I say 'I love you'3\n",
      "1 . I love you\n",
      "2 . I love you\n",
      "3 . I love you\n"
     ]
    }
   ],
   "source": [
    "times = int(input(\"How many times should I say 'I love you'\"))\n",
    "\n",
    "for i in range(times):\n",
    "    print(i+1, \".\", \"I love you\")"
   ]
  },
  {
   "cell_type": "code",
   "execution_count": null,
   "metadata": {},
   "outputs": [],
   "source": []
  },
  {
   "cell_type": "code",
   "execution_count": null,
   "metadata": {},
   "outputs": [],
   "source": []
  },
  {
   "cell_type": "code",
   "execution_count": null,
   "metadata": {},
   "outputs": [],
   "source": []
  },
  {
   "cell_type": "code",
   "execution_count": null,
   "metadata": {},
   "outputs": [],
   "source": [
    "Task 1:\n",
    "    This time, write a code block that asks the user a number between  1 and 10 then puts that \n",
    "    number into the multiplication table.\n",
    "    \n",
    "    For example, the output for 5 should be as follows:\n",
    "        5 x 0 = 0\n",
    "        5 x 1 = 5\n",
    "        5 x 2 = 10\n",
    "        5 x 3 = 15\n",
    "        5 x 4 = 20\n",
    "        5 x 5 = 25\n",
    "        5 x 6 = 30\n",
    "        5 x 7 = 35\n",
    "        5 x 8 = 40\n",
    "        5 x 9 = 45\n",
    "        5 x 10 = 50"
   ]
  },
  {
   "cell_type": "code",
   "execution_count": 7,
   "metadata": {},
   "outputs": [
    {
     "name": "stdout",
     "output_type": "stream",
     "text": [
      "Please enter the table you want: 5\n",
      "5 X 0 = 0\n",
      "5 X 1 = 5\n",
      "5 X 2 = 10\n",
      "5 X 3 = 15\n",
      "5 X 4 = 20\n",
      "5 X 5 = 25\n",
      "5 X 6 = 30\n",
      "5 X 7 = 35\n",
      "5 X 8 = 40\n",
      "5 X 9 = 45\n",
      "5 X 10 = 50\n",
      "5 X 11 = 55\n",
      "5 X 12 = 60\n"
     ]
    }
   ],
   "source": [
    "num = int(input(\"Please enter the table you want: \"))\n",
    "for i in range(13):\n",
    "    print(f\"{num} X {i} = {num * i}\")"
   ]
  },
  {
   "cell_type": "code",
   "execution_count": null,
   "metadata": {},
   "outputs": [],
   "source": [
    "range() function:\n",
    "    As we stated before, the formula syntax of the range() function is:\n",
    "        range(start, stop, step)"
   ]
  },
  {
   "cell_type": "code",
   "execution_count": 11,
   "metadata": {},
   "outputs": [
    {
     "name": "stdout",
     "output_type": "stream",
     "text": [
      "range(0, 13, 2)\n"
     ]
    }
   ],
   "source": [
    "print(range(0,13,2))"
   ]
  },
  {
   "cell_type": "code",
   "execution_count": 12,
   "metadata": {},
   "outputs": [
    {
     "name": "stdout",
     "output_type": "stream",
     "text": [
      "0\n",
      "2\n",
      "4\n",
      "6\n",
      "8\n",
      "10\n",
      "12\n"
     ]
    }
   ],
   "source": [
    "for i in range(0,13,2):\n",
    "    print(i)"
   ]
  },
  {
   "cell_type": "code",
   "execution_count": 13,
   "metadata": {},
   "outputs": [
    {
     "name": "stdout",
     "output_type": "stream",
     "text": [
      "[0, 1, 2, 3, 4, 5, 6, 7, 8, 9, 10]\n"
     ]
    }
   ],
   "source": [
    "b = list(range(11))\n",
    "print(b)"
   ]
  },
  {
   "cell_type": "code",
   "execution_count": 14,
   "metadata": {},
   "outputs": [],
   "source": [
    "c = set(range(11))"
   ]
  },
  {
   "cell_type": "code",
   "execution_count": 15,
   "metadata": {},
   "outputs": [
    {
     "data": {
      "text/plain": [
       "{0, 1, 2, 3, 4, 5, 6, 7, 8, 9, 10}"
      ]
     },
     "execution_count": 15,
     "metadata": {},
     "output_type": "execute_result"
    }
   ],
   "source": [
    "c"
   ]
  },
  {
   "cell_type": "code",
   "execution_count": 16,
   "metadata": {},
   "outputs": [
    {
     "data": {
      "text/plain": [
       "(0, 1, 2, 3, 4, 5, 6, 7, 8, 9, 10)"
      ]
     },
     "execution_count": 16,
     "metadata": {},
     "output_type": "execute_result"
    }
   ],
   "source": [
    "d = tuple(range(11))\n",
    "d"
   ]
  },
  {
   "cell_type": "code",
   "execution_count": 17,
   "metadata": {},
   "outputs": [
    {
     "name": "stdout",
     "output_type": "stream",
     "text": [
      "range(0, 5)\n",
      "0 1 2 3 4\n"
     ]
    }
   ],
   "source": [
    "# * an asterisk separates the elements of the iterables.\n",
    "# Let's take a look at an example of the range() function with starred * expression:\n",
    "\n",
    "print(range(5))   # it will not print the numbers in sequence\n",
    "\n",
    "print(*range(5))  # '*' separates its elements."
   ]
  },
  {
   "cell_type": "code",
   "execution_count": 18,
   "metadata": {},
   "outputs": [
    {
     "name": "stdout",
     "output_type": "stream",
     "text": [
      "5 7 9 11 13 15 17 19 21 23\n"
     ]
    }
   ],
   "source": [
    "print(*range(5,25,2))"
   ]
  },
  {
   "cell_type": "code",
   "execution_count": 1,
   "metadata": {},
   "outputs": [
    {
     "name": "stdout",
     "output_type": "stream",
     "text": [
      "s e p a r a t e\n"
     ]
    }
   ],
   "source": [
    "print(*(\"separate\"))"
   ]
  },
  {
   "cell_type": "code",
   "execution_count": 2,
   "metadata": {},
   "outputs": [
    {
     "name": "stdout",
     "output_type": "stream",
     "text": [
      "\n"
     ]
    }
   ],
   "source": [
    "print(*range(13,2,2))   # the start and end point is not in the correct place. You cannot have a start bigger than stop."
   ]
  },
  {
   "cell_type": "code",
   "execution_count": 3,
   "metadata": {},
   "outputs": [
    {
     "name": "stdout",
     "output_type": "stream",
     "text": [
      "13 11 9 7 5 3 1\n"
     ]
    }
   ],
   "source": [
    "print(*range(13,0,-2))   # bigger starting point is possible only when you use negative indexing."
   ]
  },
  {
   "cell_type": "code",
   "execution_count": 4,
   "metadata": {},
   "outputs": [
    {
     "name": "stdout",
     "output_type": "stream",
     "text": [
      "13 12 11 10 9 8 7 6 5 4 3 2 1\n"
     ]
    }
   ],
   "source": [
    "print(*range(13,0,-1)) "
   ]
  },
  {
   "cell_type": "code",
   "execution_count": 5,
   "metadata": {},
   "outputs": [
    {
     "name": "stdout",
     "output_type": "stream",
     "text": [
      "10 8 6 4 2\n"
     ]
    }
   ],
   "source": [
    "# You can create reverse sequence numbers using a negative step.\n",
    "\n",
    "print(*range(10,0,-2))"
   ]
  },
  {
   "cell_type": "code",
   "execution_count": null,
   "metadata": {},
   "outputs": [],
   "source": [
    "# Multiple variables in for loop:\n",
    "# Examine this example carefully:\n",
    "\n",
    "zip(iterator1, iterator2, ...)"
   ]
  },
  {
   "cell_type": "code",
   "execution_count": null,
   "metadata": {},
   "outputs": [],
   "source": [
    "zip() function make an iterator "
   ]
  },
  {
   "cell_type": "code",
   "execution_count": 6,
   "metadata": {},
   "outputs": [
    {
     "name": "stdout",
     "output_type": "stream",
     "text": [
      "one : 1\n",
      "two : 2\n",
      "three : 3\n",
      "four : 4\n",
      "five : 5\n"
     ]
    }
   ],
   "source": [
    "text = [\"one\", \"two\", \"three\", \"four\", \"five\"]\n",
    "numbers =  [1,2,3,4,5]\n",
    "\n",
    "for x,y in zip(text, numbers):\n",
    "    print(x, ':', y)"
   ]
  },
  {
   "cell_type": "code",
   "execution_count": 7,
   "metadata": {},
   "outputs": [
    {
     "name": "stdout",
     "output_type": "stream",
     "text": [
      "one : 1\n",
      "two : 2\n",
      "three : 3\n",
      "four : 4\n"
     ]
    }
   ],
   "source": [
    "text = [\"one\", \"two\", \"three\", \"four\", \"five\"]\n",
    "numbers =  [1,2,3,4]\n",
    "\n",
    "for x,y in zip(text, numbers):    # iterate according to short list. It will stop accordingly.\n",
    "    print(x, ':', y)"
   ]
  },
  {
   "cell_type": "code",
   "execution_count": 8,
   "metadata": {},
   "outputs": [
    {
     "name": "stdout",
     "output_type": "stream",
     "text": [
      "one : 1\n",
      "two : 2\n",
      "three : 3\n",
      "four : 4\n",
      "five : 5\n",
      "six : 6\n"
     ]
    }
   ],
   "source": [
    "text = [\"one\", \"two\", \"three\", \"four\", \"five\", \"six\"]\n",
    "numbers =  '123456'\n",
    "\n",
    "for x,y in zip(text, numbers):\n",
    "    print(x, ':', y)"
   ]
  },
  {
   "cell_type": "code",
   "execution_count": 9,
   "metadata": {},
   "outputs": [
    {
     "name": "stdout",
     "output_type": "stream",
     "text": [
      "one : k1\n",
      "two : k2\n",
      "three : k3\n"
     ]
    }
   ],
   "source": [
    "text = [\"one\", \"two\", \"three\", \"four\", \"five\", \"six\"]\n",
    "numbers =  {\"k1\":\"V1\", \"k2\":\"V2\", \"k3\":\"V3\"}\n",
    "\n",
    "for x,y in zip(text, numbers):     # it only takes keys. Keys are the cornerstone for operations for dictionaries that's why they iterate first.\n",
    "    print(x, ':', y)"
   ]
  },
  {
   "cell_type": "code",
   "execution_count": null,
   "metadata": {},
   "outputs": [],
   "source": [
    "Task 2: \n",
    "    Python program to collect the odd and even numbers in two different lists.\n",
    "    Write a program to choose and collect the even and odd numbers (1 to 10) in two different list.\n",
    "    Print the result such as:\n",
    "        evens = [0,2,4,6,8]\n",
    "        odds = [1,3,5,7,9]"
   ]
  },
  {
   "cell_type": "code",
   "execution_count": 11,
   "metadata": {},
   "outputs": [
    {
     "name": "stdout",
     "output_type": "stream",
     "text": [
      "[0]\n",
      "[1]\n",
      "[0, 2]\n",
      "[1, 3]\n",
      "[0, 2, 4]\n",
      "[1, 3, 5]\n",
      "[0, 2, 4, 6]\n",
      "[1, 3, 5, 7]\n",
      "[0, 2, 4, 6, 8]\n",
      "[1, 3, 5, 7, 9]\n"
     ]
    }
   ],
   "source": [
    "evens = []\n",
    "odds =  []\n",
    "for i in range(10):\n",
    "    if i % 2 ==0:\n",
    "        evens.append(i)\n",
    "        print(evens)\n",
    "    else:\n",
    "        odds.append(i)\n",
    "        print(odds)"
   ]
  },
  {
   "cell_type": "code",
   "execution_count": 13,
   "metadata": {},
   "outputs": [
    {
     "name": "stdout",
     "output_type": "stream",
     "text": [
      "odds: \n",
      "[1, 3, 5, 7, 9]\n",
      "evens: \n",
      "[0, 2, 4, 6, 8]\n"
     ]
    }
   ],
   "source": [
    "evens = []\n",
    "odds =  []\n",
    "for i in range(10):\n",
    "    if i % 2 ==0:\n",
    "        evens.append(i)\n",
    "    else:\n",
    "        odds.append(i)\n",
    "print(\"odds: \", odds, \"evens: \", evens, sep='\\n')"
   ]
  },
  {
   "cell_type": "code",
   "execution_count": null,
   "metadata": {},
   "outputs": [],
   "source": [
    "Task 3: Python program to sum the amount of odd and even numbers in a tuple/list.\n",
    "    Write a code that counts the odd and even numbers in a given list or tuple.\n",
    "    Print the result such as:\n",
    "        example list: [11,2,24,61,48,33,3]\n",
    "        example output: The number of even numbers : 3\n",
    "                        The number of odd numbers: 4"
   ]
  },
  {
   "cell_type": "code",
   "execution_count": 15,
   "metadata": {},
   "outputs": [
    {
     "name": "stdout",
     "output_type": "stream",
     "text": [
      "The number of even numbers is: 5\n",
      "The number of odd numbers is: 4\n"
     ]
    }
   ],
   "source": [
    "numbers = (11, 36, 33, 66, 89, 21, 32, 16, 10)\n",
    "even = 0\n",
    "odd = 0\n",
    "\n",
    "for i in numbers:\n",
    "    if i % 2 == 0:\n",
    "        even += 1\n",
    "    else:\n",
    "        odd += 1\n",
    "        \n",
    "print(f'The number of even numbers is: {even}')\n",
    "print(f'The number of odd numbers is: {odd}')"
   ]
  },
  {
   "cell_type": "code",
   "execution_count": 16,
   "metadata": {},
   "outputs": [
    {
     "name": "stdout",
     "output_type": "stream",
     "text": [
      "The number of even numbers is: 5\n",
      "The number of odd numbers is: 4\n"
     ]
    }
   ],
   "source": [
    "numbers = (11, 36, 33, 66, 89, 21, 32, 16, 10)\n",
    "even = 0\n",
    "odd = 0\n",
    "\n",
    "for i in numbers:\n",
    "    if not i % 2:      # the condition becomes false with \"not\" expression.  (i % 2) = either 0 or 1 : if it is 1 \"not\" makes it false; if it is 0 not makes it Truty value.\n",
    "        even += 1\n",
    "    else:\n",
    "        odd += 1\n",
    "        \n",
    "print(f'The number of even numbers is: {even}')\n",
    "print(f'The number of odd numbers is: {odd}')"
   ]
  },
  {
   "cell_type": "code",
   "execution_count": null,
   "metadata": {},
   "outputs": [],
   "source": [
    "Task 3: Python Program to print out the numbers:\n",
    "        Using the for loop, print the numbers from 1 to 9 as many as it is and get the following output.\n",
    "        \n",
    "        1\n",
    "        22\n",
    "        333\n",
    "        4444\n",
    "        55555\n",
    "        666666\n",
    "        7777777\n",
    "        88888888\n",
    "        999999999"
   ]
  },
  {
   "cell_type": "code",
   "execution_count": 20,
   "metadata": {},
   "outputs": [
    {
     "name": "stdout",
     "output_type": "stream",
     "text": [
      "1\n",
      "22\n",
      "333\n",
      "4444\n",
      "55555\n",
      "666666\n",
      "7777777\n",
      "88888888\n",
      "999999999\n"
     ]
    }
   ],
   "source": [
    "for i in range(1,10):\n",
    "    print(str(i) * i)"
   ]
  },
  {
   "cell_type": "markdown",
   "metadata": {},
   "source": [
    "# Nested for Loop"
   ]
  },
  {
   "cell_type": "code",
   "execution_count": null,
   "metadata": {},
   "outputs": [],
   "source": [
    "sytnax: \n",
    "    for variable1 in iterable1:\n",
    "        for variable2 in iterable2:\n",
    "            body\n",
    "            "
   ]
  },
  {
   "cell_type": "code",
   "execution_count": 25,
   "metadata": {},
   "outputs": [
    {
     "name": "stdout",
     "output_type": "stream",
     "text": [
      "I am happy \n",
      "I am confident\n",
      "I am Good\n",
      "You are happy \n",
      "You are confident\n",
      "You are Good\n"
     ]
    }
   ],
   "source": [
    "who = [\"I am \", \"You are \"]\n",
    "mood = [\"happy \", \"confident\", \"Good\"]\n",
    "\n",
    "for i in who:\n",
    "    for j in mood:\n",
    "        print(i + j)"
   ]
  },
  {
   "cell_type": "code",
   "execution_count": 29,
   "metadata": {},
   "outputs": [
    {
     "name": "stdout",
     "output_type": "stream",
     "text": [
      "susan  is  happy\n",
      "susan  is  sad\n",
      "tom  is  happy\n",
      "tom  is  sad\n",
      "edward  is  happy\n",
      "edward  is  sad\n"
     ]
    }
   ],
   "source": [
    "names = [\"susan \", \"tom \", \"edward \"]\n",
    "mood = [\"happy\", \"sad\"]\n",
    "\n",
    "for i in names:\n",
    "    for j in mood:\n",
    "        print(i, \"is \", j)"
   ]
  },
  {
   "cell_type": "code",
   "execution_count": null,
   "metadata": {},
   "outputs": [],
   "source": []
  },
  {
   "cell_type": "code",
   "execution_count": null,
   "metadata": {},
   "outputs": [],
   "source": []
  },
  {
   "cell_type": "code",
   "execution_count": null,
   "metadata": {},
   "outputs": [],
   "source": []
  },
  {
   "cell_type": "code",
   "execution_count": null,
   "metadata": {},
   "outputs": [],
   "source": []
  },
  {
   "cell_type": "code",
   "execution_count": null,
   "metadata": {},
   "outputs": [],
   "source": []
  },
  {
   "cell_type": "code",
   "execution_count": null,
   "metadata": {},
   "outputs": [],
   "source": []
  },
  {
   "cell_type": "code",
   "execution_count": null,
   "metadata": {},
   "outputs": [],
   "source": []
  },
  {
   "cell_type": "code",
   "execution_count": null,
   "metadata": {},
   "outputs": [],
   "source": []
  }
 ],
 "metadata": {
  "kernelspec": {
   "display_name": "Python 3",
   "language": "python",
   "name": "python3"
  },
  "language_info": {
   "codemirror_mode": {
    "name": "ipython",
    "version": 3
   },
   "file_extension": ".py",
   "mimetype": "text/x-python",
   "name": "python",
   "nbconvert_exporter": "python",
   "pygments_lexer": "ipython3",
   "version": "3.8.5"
  }
 },
 "nbformat": 4,
 "nbformat_minor": 4
}
