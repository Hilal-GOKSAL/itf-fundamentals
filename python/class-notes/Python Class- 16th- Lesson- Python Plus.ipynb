{
 "cells": [
  {
   "cell_type": "markdown",
   "metadata": {},
   "source": [
    "# Lambda Functions"
   ]
  },
  {
   "cell_type": "markdown",
   "metadata": {},
   "source": [
    "##### extra stuff"
   ]
  },
  {
   "cell_type": "code",
   "execution_count": 3,
   "metadata": {},
   "outputs": [],
   "source": [
    "# module1\n",
    "# var1 = 9\n",
    "# var2\n",
    "# var3\n",
    "\n",
    "# module2\n",
    "# var1 = 'Adam'\n",
    "# var2\n",
    "# var3\n",
    "\n",
    "# module3\n",
    "# var1 = [1,2,3]\n",
    "# var2\n",
    "# var3"
   ]
  },
  {
   "cell_type": "code",
   "execution_count": 4,
   "metadata": {},
   "outputs": [],
   "source": [
    "# module1.var1\n",
    "# module2.var1\n",
    "# module3.var1"
   ]
  },
  {
   "cell_type": "code",
   "execution_count": 5,
   "metadata": {},
   "outputs": [
    {
     "data": {
      "text/plain": [
       "'Ali'"
      ]
     },
     "execution_count": 5,
     "metadata": {},
     "output_type": "execute_result"
    }
   ],
   "source": [
    "name = 'Ali'\n",
    "\n",
    "def func_outer():\n",
    "    def func_inner_1():\n",
    "        name = 'Smith'\n",
    "        def func_inner_2():\n",
    "            name = 'Adam'\n",
    "            print(name)\n",
    "    return name\n",
    "\n",
    "func_outer()"
   ]
  },
  {
   "cell_type": "markdown",
   "metadata": {},
   "source": [
    "### Defining a Lambda Function\n",
    "### Uses of the Lambda Function\n",
    "### Lambda within Built-in (map()) Function-1\n",
    "### Lambda within Built-in (filter()) Function-2\n",
    "### Lambda within User- Defined Functions"
   ]
  },
  {
   "cell_type": "markdown",
   "metadata": {},
   "source": [
    "The formula syntax is: lambda parameters: expression"
   ]
  },
  {
   "cell_type": "code",
   "execution_count": 7,
   "metadata": {},
   "outputs": [
    {
     "name": "stdout",
     "output_type": "stream",
     "text": [
      "16\n"
     ]
    }
   ],
   "source": [
    "def square(x):\n",
    "    return x ** 2\n",
    "\n",
    "print(square(4))"
   ]
  },
  {
   "cell_type": "code",
   "execution_count": 10,
   "metadata": {},
   "outputs": [
    {
     "data": {
      "text/plain": [
       "<function __main__.<lambda>(x)>"
      ]
     },
     "execution_count": 10,
     "metadata": {},
     "output_type": "execute_result"
    }
   ],
   "source": [
    "lambda x: x **2                    # it works similar to def square function."
   ]
  },
  {
   "cell_type": "code",
   "execution_count": 11,
   "metadata": {},
   "outputs": [
    {
     "name": "stdout",
     "output_type": "stream",
     "text": [
      "16\n"
     ]
    }
   ],
   "source": [
    "print((lambda x: x **2)(4))        # with lambda you are using less spaces and it's faster than several lines of codes.    "
   ]
  },
  {
   "cell_type": "code",
   "execution_count": null,
   "metadata": {},
   "outputs": [],
   "source": [
    "lambda x,y: (x+y)/ 2     # takes two numbers, returns the result."
   ]
  },
  {
   "cell_type": "markdown",
   "metadata": {},
   "source": [
    "# The formula syntax of conditional lambda statement is: \n",
    "* lambda parameters: first_result if conditional statement else second_result"
   ]
  },
  {
   "cell_type": "code",
   "execution_count": 12,
   "metadata": {},
   "outputs": [],
   "source": [
    "# lambda x: 'odd' if x % 2 !=0 else 'even'                     # the left side is evaluted first.\n",
    "\n",
    "# Note that you can't use the usual conditional statement with lambda definition."
   ]
  },
  {
   "cell_type": "code",
   "execution_count": 13,
   "metadata": {},
   "outputs": [
    {
     "data": {
      "text/plain": [
       "<function __main__.<lambda>(x)>"
      ]
     },
     "execution_count": 13,
     "metadata": {},
     "output_type": "execute_result"
    }
   ],
   "source": [
    "lambda x: 'odd' if x % 2 !=0 else 'even'"
   ]
  },
  {
   "cell_type": "markdown",
   "metadata": {},
   "source": [
    "Usage alternatives of Lambda Functions:\n",
    "\n",
    "* its own syntax using parantheses,\n",
    "* assigning it to a variable,\n",
    "* inside several built-in functions,\n",
    "* inside user-defined functions (def),"
   ]
  },
  {
   "cell_type": "markdown",
   "metadata": {},
   "source": [
    "# Uses of the Lambda Functions 1st Use:\n",
    "* By enclosing the function in parantheses"
   ]
  },
  {
   "cell_type": "markdown",
   "metadata": {},
   "source": [
    "The formula syntax is:\n",
    "* (lambda parameters: expression)(arguments)"
   ]
  },
  {
   "cell_type": "code",
   "execution_count": 14,
   "metadata": {},
   "outputs": [
    {
     "name": "stdout",
     "output_type": "stream",
     "text": [
      "4\n"
     ]
    }
   ],
   "source": [
    "print((lambda x: x **2)(2))"
   ]
  },
  {
   "cell_type": "markdown",
   "metadata": {},
   "source": [
    "Multiple arguments:"
   ]
  },
  {
   "cell_type": "markdown",
   "metadata": {},
   "source": [
    "Option -I"
   ]
  },
  {
   "cell_type": "code",
   "execution_count": 15,
   "metadata": {},
   "outputs": [
    {
     "name": "stdout",
     "output_type": "stream",
     "text": [
      "4.0\n"
     ]
    }
   ],
   "source": [
    "print((lambda x,y: (x+y)/2)(3,5))     # takes two int, returns mean of them"
   ]
  },
  {
   "cell_type": "markdown",
   "metadata": {},
   "source": [
    "Option - II"
   ]
  },
  {
   "cell_type": "code",
   "execution_count": 16,
   "metadata": {},
   "outputs": [
    {
     "name": "stdout",
     "output_type": "stream",
     "text": [
      "4.0\n"
     ]
    }
   ],
   "source": [
    "average = (lambda x,y: (x + y)/2)(3,5)\n",
    "print(average)"
   ]
  },
  {
   "cell_type": "code",
   "execution_count": 17,
   "metadata": {},
   "outputs": [
    {
     "data": {
      "text/plain": [
       "5.0"
      ]
     },
     "execution_count": 17,
     "metadata": {},
     "output_type": "execute_result"
    }
   ],
   "source": [
    "(lambda x, y = 7: (x + y) / 2)(3)    # we can give keyword arguments."
   ]
  },
  {
   "cell_type": "code",
   "execution_count": 20,
   "metadata": {},
   "outputs": [
    {
     "data": {
      "text/plain": [
       "3.5"
      ]
     },
     "execution_count": 20,
     "metadata": {},
     "output_type": "execute_result"
    }
   ],
   "source": [
    "(lambda x, y = 7: (x + y) / 2)(3, 4)    # we can  also reassign new value to keyword argument."
   ]
  },
  {
   "cell_type": "code",
   "execution_count": 21,
   "metadata": {},
   "outputs": [
    {
     "data": {
      "text/plain": [
       "5.5"
      ]
     },
     "execution_count": 21,
     "metadata": {},
     "output_type": "execute_result"
    }
   ],
   "source": [
    "(lambda x, y = 7: (x + y) / 2)(y=3, x=8)  "
   ]
  },
  {
   "cell_type": "code",
   "execution_count": 22,
   "metadata": {},
   "outputs": [
    {
     "data": {
      "text/plain": [
       "16.0"
      ]
     },
     "execution_count": 22,
     "metadata": {},
     "output_type": "execute_result"
    }
   ],
   "source": [
    "average_2 = lambda x, y: (x + y) / 2\n",
    "average_2(15,17)"
   ]
  },
  {
   "cell_type": "code",
   "execution_count": 23,
   "metadata": {},
   "outputs": [],
   "source": [
    "# Task 1: \n",
    "    # Define a lambda function to reverse the elements of any iterables.\n",
    "    # Use parantheses for arguments and print the result."
   ]
  },
  {
   "cell_type": "code",
   "execution_count": 24,
   "metadata": {},
   "outputs": [
    {
     "data": {
      "text/plain": [
       "'yawsuralC'"
      ]
     },
     "execution_count": 24,
     "metadata": {},
     "output_type": "execute_result"
    }
   ],
   "source": [
    "iterable = \"Clarusway\"\n",
    "iterable[::-1]"
   ]
  },
  {
   "cell_type": "code",
   "execution_count": 25,
   "metadata": {},
   "outputs": [
    {
     "data": {
      "text/plain": [
       "'yawsuralC'"
      ]
     },
     "execution_count": 25,
     "metadata": {},
     "output_type": "execute_result"
    }
   ],
   "source": [
    "reverser = (lambda x: x[::-1])(iterable)\n",
    "reverser"
   ]
  },
  {
   "cell_type": "code",
   "execution_count": 26,
   "metadata": {},
   "outputs": [
    {
     "data": {
      "text/plain": [
       "'yawsuralC'"
      ]
     },
     "execution_count": 26,
     "metadata": {},
     "output_type": "execute_result"
    }
   ],
   "source": [
    "reverser = (lambda x: x[::-1])\n",
    "reverser(iterable)"
   ]
  },
  {
   "cell_type": "code",
   "execution_count": 27,
   "metadata": {},
   "outputs": [
    {
     "data": {
      "text/plain": [
       "[10, 9, 8, 7, 6, 5, 4, 3, 2, 1, 0]"
      ]
     },
     "execution_count": 27,
     "metadata": {},
     "output_type": "execute_result"
    }
   ],
   "source": [
    "ls_1 = list(range(11))\n",
    "reverser(ls_1)"
   ]
  },
  {
   "cell_type": "code",
   "execution_count": 28,
   "metadata": {},
   "outputs": [
    {
     "data": {
      "text/plain": [
       "[0, 1, 2, 3, 4, 5, 6, 7, 8, 9, 10]"
      ]
     },
     "execution_count": 28,
     "metadata": {},
     "output_type": "execute_result"
    }
   ],
   "source": [
    "ls_1"
   ]
  },
  {
   "cell_type": "code",
   "execution_count": 29,
   "metadata": {},
   "outputs": [
    {
     "name": "stdout",
     "output_type": "stream",
     "text": [
      "0 : even\n",
      "1 : odd\n",
      "2 : even\n",
      "3 : odd\n",
      "4 : even\n",
      "5 : odd\n",
      "6 : even\n",
      "7 : odd\n",
      "8 : even\n",
      "9 : odd\n",
      "10 : even\n"
     ]
    }
   ],
   "source": [
    "ls_2 = list(range(11))\n",
    "for i in ls_2:\n",
    "    print(i, ':', (lambda x: 'odd' if x %2 != 0 else 'even')(i))"
   ]
  },
  {
   "cell_type": "markdown",
   "metadata": {},
   "source": [
    "# Uses of the Lambda Functions 2nd Use\n",
    "* By assigning a function object to a variable"
   ]
  },
  {
   "cell_type": "code",
   "execution_count": 31,
   "metadata": {},
   "outputs": [
    {
     "name": "stdout",
     "output_type": "stream",
     "text": [
      "4.0\n"
     ]
    }
   ],
   "source": [
    "average = lambda x,y: (x+y)/2\n",
    "print(average(3,5))            # we call"
   ]
  },
  {
   "cell_type": "code",
   "execution_count": 32,
   "metadata": {},
   "outputs": [],
   "source": [
    "# Task 2:\n",
    "    # Define a lambda function to reverse the elements of any iterables.\n",
    "    # Use variable for arguments and print the result."
   ]
  },
  {
   "cell_type": "code",
   "execution_count": 33,
   "metadata": {},
   "outputs": [],
   "source": [
    "# reverser = (lambda x: x[::-1])(iterable)\n",
    "#reverser"
   ]
  },
  {
   "cell_type": "markdown",
   "metadata": {},
   "source": [
    "Let's square all the numbers in the list using map() and lambda."
   ]
  },
  {
   "cell_type": "code",
   "execution_count": 37,
   "metadata": {},
   "outputs": [
    {
     "name": "stdout",
     "output_type": "stream",
     "text": [
      "<class 'map'>\n",
      "<map object at 0x0000024A5C955C40>\n",
      "[1, 4, 9, 16, 25]\n",
      "[1, 4, 9, 16, 25]\n"
     ]
    }
   ],
   "source": [
    "iterable = [1,2,3,4,5]\n",
    "map(lambda x: x ** 2, iterable)\n",
    "result = map(lambda x: x ** 2, iterable)           # map(function, iterable)\n",
    "\n",
    "print(type(result))                    # it's a map type.\n",
    "print(result)                          # map object is not printable object.\n",
    "\n",
    "print(list(result))                    # we've converted it to list type to print.\n",
    "\n",
    "print(list(map(lambda x: x ** 2, iterable)))           # you can print directly."
   ]
  },
  {
   "cell_type": "code",
   "execution_count": 38,
   "metadata": {},
   "outputs": [],
   "source": [
    "# Task 3:\n",
    "    # Do the same thing using user-defined function(def)\n",
    "    # Use the def in map() function."
   ]
  },
  {
   "cell_type": "code",
   "execution_count": 40,
   "metadata": {},
   "outputs": [
    {
     "name": "stdout",
     "output_type": "stream",
     "text": [
      "<class 'map'>\n",
      "[1, 4, 9, 16, 25]\n"
     ]
    }
   ],
   "source": [
    "iterable2 = [1,2,3,4,5]\n",
    "def square(n):\n",
    "    return n ** 2\n",
    "\n",
    "result2 = map(square, iterable2)\n",
    "\n",
    "print(type(result2))                   \n",
    "# print(result2)                         \n",
    "\n",
    "print(list(result2))   "
   ]
  },
  {
   "cell_type": "markdown",
   "metadata": {},
   "source": [
    "Multiple arguments in lambda function using map():"
   ]
  },
  {
   "cell_type": "code",
   "execution_count": 41,
   "metadata": {},
   "outputs": [
    {
     "name": "stdout",
     "output_type": "stream",
     "text": [
      "['one', 'six', 'ten', 'two']\n"
     ]
    }
   ],
   "source": [
    "letter1 = [\"o\", \"s\", \"t\", \"t\"]\n",
    "letter2 = [\"n\", \"i\", \"e\", \"w\"]\n",
    "letter3 = [\"e\", \"x\", \"n\", \"o\"]\n",
    "\n",
    "numbers = map(lambda x,y,z: x+y+z, letter1, letter2, letter3)\n",
    "\n",
    "print(list(numbers))"
   ]
  },
  {
   "cell_type": "markdown",
   "metadata": {},
   "source": [
    "In the above example, we have combined three strings using + operator in lambda definition."
   ]
  },
  {
   "cell_type": "markdown",
   "metadata": {},
   "source": [
    "* Note that map() takes each element from iterable objects one by one and in order."
   ]
  },
  {
   "cell_type": "code",
   "execution_count": 42,
   "metadata": {},
   "outputs": [
    {
     "name": "stdout",
     "output_type": "stream",
     "text": [
      "[6.0, 6.0, 6.0, 6.0]\n"
     ]
    }
   ],
   "source": [
    "nums1 = [9,6,7,4]\n",
    "nums2 = [3,6,5,8]\n",
    "\n",
    "numbers = map(lambda x,y: (x+y)/2, nums1, nums2)\n",
    "print(list(numbers))"
   ]
  },
  {
   "cell_type": "code",
   "execution_count": 44,
   "metadata": {},
   "outputs": [
    {
     "name": "stdout",
     "output_type": "stream",
     "text": [
      "i love you\n",
      "you ate much\n",
      "he works hard\n"
     ]
    }
   ],
   "source": [
    "words1 = ['you', 'much', 'hard']\n",
    "words2 = ['i', 'you', 'he']\n",
    "words3 = ['love', 'ate', 'works']\n",
    "\n",
    "sentences = map(lambda x,y,z: x + ' ' + y + ' ' + z, words2, words3, words1)\n",
    "\n",
    "for i in sentences:\n",
    "    print(i)\n"
   ]
  },
  {
   "cell_type": "markdown",
   "metadata": {},
   "source": [
    "# Lambda within Built-in (filter()) Functions-2 / 3th Use"
   ]
  },
  {
   "cell_type": "markdown",
   "metadata": {},
   "source": [
    "Lambda within filter() function:"
   ]
  },
  {
   "cell_type": "markdown",
   "metadata": {},
   "source": [
    "filter() filters the given sequence (iterable objects) with the help of a function (lambda) that tests each element in the sequence to be True or not."
   ]
  },
  {
   "cell_type": "markdown",
   "metadata": {},
   "source": [
    "* The basic formula syntax is: filter(function, sequence)"
   ]
  },
  {
   "cell_type": "code",
   "execution_count": 2,
   "metadata": {},
   "outputs": [
    {
     "name": "stdout",
     "output_type": "stream",
     "text": [
      "<class 'filter'>\n",
      "Even numbers are:  [0, 2, 4, 6, 8]\n",
      "<class 'filter'>\n",
      "Odd numbers are:  [1, 3, 5, 7, 9]\n"
     ]
    }
   ],
   "source": [
    "first_ten = [0,1,2,3,4,5,6,7,8,9]\n",
    "\n",
    "even = filter(lambda x: x% 2 == 0, first_ten)\n",
    "odd = filter(lambda x: x% 2 !=0, first_ten)\n",
    "print(type(even))                               # it's 'filter' type,\n",
    "                                                # in order to print the result,\n",
    "                                                # we'd better convert it into the list type\n",
    "    \n",
    "print('Even numbers are: ', list(even))\n",
    "\n",
    "print(type(odd))\n",
    "print('Odd numbers are: ', list(odd))"
   ]
  },
  {
   "cell_type": "code",
   "execution_count": 3,
   "metadata": {},
   "outputs": [
    {
     "data": {
      "text/plain": [
       "[1, 2, 3, 4, 33]"
      ]
     },
     "execution_count": 3,
     "metadata": {},
     "output_type": "execute_result"
    }
   ],
   "source": [
    "ls_3 = [1,1,1,1,1,1,1,1,2,2,2,2,2,2,3,3,3,3,3,3,3,3,33,33,4,4,4,4,4,4,4]\n",
    "ls_4 = list(set(ls_3))\n",
    "ls_4"
   ]
  },
  {
   "cell_type": "code",
   "execution_count": null,
   "metadata": {},
   "outputs": [],
   "source": [
    "# Task 4:\n",
    "    # Using lambda in filter() function, write a program that filters out words(elements of the given list) with less than 5\n",
    "    # chars.\n",
    "    # Print these words which has less than 5 chars on separate lines.\n",
    "    \n",
    "    # words = [\"apple\", \"swim\", \"clock\", \"me\", \"kiwi\", \"banana\"]"
   ]
  },
  {
   "cell_type": "code",
   "execution_count": 5,
   "metadata": {},
   "outputs": [
    {
     "name": "stdout",
     "output_type": "stream",
     "text": [
      "swim\n",
      "me\n",
      "kiwi\n",
      "['swim', 'me', 'kiwi']\n"
     ]
    }
   ],
   "source": [
    "words = [\"apple\", \"swim\", \"clock\", \"me\", \"kiwi\", \"banana\"]\n",
    "\n",
    "for i in filter(lambda x: len(x) < 5, words):\n",
    "    print(i)\n",
    "    \n",
    "\n",
    "less_5 = list(filter(lambda x: len(x) <5, words))\n",
    "print(less_5)"
   ]
  },
  {
   "cell_type": "code",
   "execution_count": 6,
   "metadata": {},
   "outputs": [],
   "source": [
    "# Task 5: \n",
    "    # This time, let's filter the vowels from the given letters in a list.\n",
    "    # Print these letters in a list.\n",
    "    # first_ten = [\"a\", \"b\", \"c\", \"d\", \"e\", \"f\", \"g\", \"h\", \"i\", \"j\"]"
   ]
  },
  {
   "cell_type": "code",
   "execution_count": 7,
   "metadata": {},
   "outputs": [
    {
     "name": "stdout",
     "output_type": "stream",
     "text": [
      "Vowels are:  ['a', 'e', 'i']\n"
     ]
    }
   ],
   "source": [
    "vowels_list = [\"a\", \"e\", \"i\", \"u\", \"o\"]\n",
    "first_ten = [\"a\", \"b\", \"c\", \"d\", \"e\", \"f\", \"g\", \"h\", \"i\", \"j\"]\n",
    "\n",
    "vowels = filter(lambda x: True if x in vowels_list else False, first_ten)\n",
    "print('Vowels are: ', list(vowels))"
   ]
  },
  {
   "cell_type": "markdown",
   "metadata": {},
   "source": [
    "# Lambda within User-Defined Functions"
   ]
  },
  {
   "cell_type": "code",
   "execution_count": null,
   "metadata": {},
   "outputs": [],
   "source": [
    "def modular_function(n):\n",
    "    return lambda x: x ** n\n",
    "\n",
    "power_of_2 = modular_function(2)    # first sub-function derived from def\n",
    "power_of_3 =  modular_function(3)   # second sub-function derived from def\n",
    "power_of_4 = modular_function(4)    # third sub-function derived from def\n",
    "\n",
    "\n",
    "print(power_of_2(2))    # 2 to the power of 2\n",
    "print(power_of_3(2))    # 2 to the power of 3\n",
    "print(power_of_4(2))    # 2 to the power of 4"
   ]
  },
  {
   "cell_type": "code",
   "execution_count": 8,
   "metadata": {},
   "outputs": [],
   "source": [
    "# Task 6:\n",
    "    # We can  define a function with the same logic as  the previous example that repeats the string passed into it.\n",
    "    # Define a function (def) named repeater using lambda to print the string n times."
   ]
  },
  {
   "cell_type": "code",
   "execution_count": 13,
   "metadata": {},
   "outputs": [
    {
     "data": {
      "text/plain": [
       "'alex alex '"
      ]
     },
     "execution_count": 13,
     "metadata": {},
     "output_type": "execute_result"
    }
   ],
   "source": [
    "def repeater(n):\n",
    "    return lambda x: x * n\n",
    "\n",
    "repeat_2 = repeater(2)\n",
    "repeat_3 = repeater(3)\n",
    "repeat_4 = repeater(4)\n",
    "\n",
    "repeat_2('alex ')           # repater(2)('alex ')"
   ]
  },
  {
   "cell_type": "code",
   "execution_count": 11,
   "metadata": {},
   "outputs": [
    {
     "data": {
      "text/plain": [
       "'alex alex alex '"
      ]
     },
     "execution_count": 11,
     "metadata": {},
     "output_type": "execute_result"
    }
   ],
   "source": [
    "repeat_3('alex ')"
   ]
  },
  {
   "cell_type": "code",
   "execution_count": 12,
   "metadata": {},
   "outputs": [
    {
     "data": {
      "text/plain": [
       "'alex alex alex alex '"
      ]
     },
     "execution_count": 12,
     "metadata": {},
     "output_type": "execute_result"
    }
   ],
   "source": [
    "repeat_4('alex ')"
   ]
  },
  {
   "cell_type": "code",
   "execution_count": 14,
   "metadata": {},
   "outputs": [],
   "source": [
    "# Task 7:\n",
    "   # Define a simple function (def) named functioner using lambda to create your own print function with emoji faces. \n",
    "   # Such as:\n",
    "        # these functions were derived from the \"functioner\" function\n",
    "     #   myPrint_smile(\"hello\")\n",
    "     #   myPrint_sad(\"hello\")\n",
    "     #   myPrint_neutral(\"hello\")"
   ]
  },
  {
   "cell_type": "code",
   "execution_count": 15,
   "metadata": {},
   "outputs": [
    {
     "name": "stdout",
     "output_type": "stream",
     "text": [
      "I am happy :)\n"
     ]
    }
   ],
   "source": [
    "def mood(emoji= None):\n",
    "    return lambda msg: print(msg, emoji)\n",
    "\n",
    "smile = mood(':)')\n",
    "sad = mood(':(')\n",
    "neutral = mood(':|')\n",
    "\n",
    "smile('I am happy')"
   ]
  },
  {
   "cell_type": "code",
   "execution_count": 16,
   "metadata": {},
   "outputs": [
    {
     "name": "stdout",
     "output_type": "stream",
     "text": [
      "I am not happy :(\n"
     ]
    }
   ],
   "source": [
    "sad('I am not happy')"
   ]
  },
  {
   "cell_type": "code",
   "execution_count": 17,
   "metadata": {},
   "outputs": [
    {
     "name": "stdout",
     "output_type": "stream",
     "text": [
      "Not happy not sad :|\n"
     ]
    }
   ],
   "source": [
    "neutral('Not happy not sad')"
   ]
  }
 ],
 "metadata": {
  "kernelspec": {
   "display_name": "Python 3",
   "language": "python",
   "name": "python3"
  },
  "language_info": {
   "codemirror_mode": {
    "name": "ipython",
    "version": 3
   },
   "file_extension": ".py",
   "mimetype": "text/x-python",
   "name": "python",
   "nbconvert_exporter": "python",
   "pygments_lexer": "ipython3",
   "version": "3.8.5"
  }
 },
 "nbformat": 4,
 "nbformat_minor": 4
}
