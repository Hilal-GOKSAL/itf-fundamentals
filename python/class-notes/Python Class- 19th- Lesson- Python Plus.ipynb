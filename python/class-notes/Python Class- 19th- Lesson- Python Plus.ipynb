{
 "cells": [
  {
   "cell_type": "markdown",
   "metadata": {},
   "source": [
    "# Reading Files"
   ]
  },
  {
   "cell_type": "code",
   "execution_count": 1,
   "metadata": {},
   "outputs": [
    {
     "data": {
      "text/plain": [
       "'C:\\\\Users\\\\Bilgisayar\\\\Clarusway- Python Classes (EN)'"
      ]
     },
     "execution_count": 1,
     "metadata": {},
     "output_type": "execute_result"
    }
   ],
   "source": [
    "pwd"
   ]
  },
  {
   "cell_type": "code",
   "execution_count": 2,
   "metadata": {},
   "outputs": [
    {
     "name": "stdout",
     "output_type": "stream",
     "text": [
      "Orca is a kind of Dolphin.\n",
      "Blue Whale is the largest animal known on earth.\n",
      "Sharks are the sister group of the Rays (batoids).\n",
      "The Tuna Fish can  weigh up to 250 kg.\n",
      "Squid and Octopus are in the same classes.\n"
     ]
    }
   ],
   "source": [
    "sea = open(\"fishes.txt\", \"r\")\n",
    "\n",
    "print(sea.read())\n",
    "sea.close()"
   ]
  },
  {
   "cell_type": "code",
   "execution_count": 3,
   "metadata": {},
   "outputs": [
    {
     "name": "stdout",
     "output_type": "stream",
     "text": [
      "Orca is a kind of Dolphin.\n",
      "Blue W\n"
     ]
    }
   ],
   "source": [
    "sea = open(\"fishes.txt\", \"r\")\n",
    "\n",
    "print(sea.read(33))\n",
    "sea.close()"
   ]
  },
  {
   "cell_type": "code",
   "execution_count": 4,
   "metadata": {},
   "outputs": [
    {
     "name": "stdout",
     "output_type": "stream",
     "text": [
      "Orca is a kind of Dolphin.\n",
      "Blue W\n",
      "hale is the largest anima\n"
     ]
    }
   ],
   "source": [
    "sea = open(\"fishes.txt\", \"r\")\n",
    "\n",
    "print(sea.read(33))\n",
    "print(sea.read(25))\n",
    "sea.close()"
   ]
  },
  {
   "cell_type": "code",
   "execution_count": 5,
   "metadata": {},
   "outputs": [
    {
     "name": "stdout",
     "output_type": "stream",
     "text": [
      "Orca is a kind of Dolphin.\n",
      "Blue W\n",
      "Orca is a kind of Dolphin\n"
     ]
    }
   ],
   "source": [
    "sea = open(\"fishes.txt\", \"r\")\n",
    "\n",
    "print(sea.read(33))\n",
    "sea.seek(0)\n",
    "print(sea.read(25))\n",
    "sea.close()"
   ]
  },
  {
   "cell_type": "code",
   "execution_count": 6,
   "metadata": {},
   "outputs": [
    {
     "name": "stdout",
     "output_type": "stream",
     "text": [
      "Orca is a kind of Dolphin.\n",
      "Blue W\n",
      "Orca is a kind of Dolphin\n",
      "25\n"
     ]
    }
   ],
   "source": [
    "sea = open(\"fishes.txt\", \"r\")\n",
    "\n",
    "print(sea.read(33))\n",
    "sea.seek(0)\n",
    "print(sea.read(25))\n",
    "print(sea.tell())\n",
    "sea.close()"
   ]
  },
  {
   "cell_type": "code",
   "execution_count": 7,
   "metadata": {},
   "outputs": [
    {
     "name": "stdout",
     "output_type": "stream",
     "text": [
      "['Orca is a kind of Dolphin.\\n', 'Blue Whale is the largest animal known on earth.\\n', 'Sharks are the sister group of the Rays (batoids).\\n', 'The Tuna Fish can  weigh up to 250 kg.\\n', 'Squid and Octopus are in the same classes.']\n"
     ]
    }
   ],
   "source": [
    "sea = open(\"fishes.txt\", \"r\")\n",
    "print(sea.readlines())"
   ]
  },
  {
   "cell_type": "code",
   "execution_count": 8,
   "metadata": {},
   "outputs": [
    {
     "name": "stdout",
     "output_type": "stream",
     "text": [
      "['Orca is a kind of Dolphin.\\n', 'Blue Whale is the largest animal known on earth.\\n', 'Sharks are the sister group of the Rays (batoids).\\n', 'The Tuna Fish can  weigh up to 250 kg.\\n', 'Squid and Octopus are in the same classes.']\n",
      "<class 'list'>\n"
     ]
    }
   ],
   "source": [
    "sea = open(\"fishes.txt\", \"r\")\n",
    "print(sea.readlines())\n",
    "print(type(sea.readlines()))"
   ]
  },
  {
   "cell_type": "code",
   "execution_count": 12,
   "metadata": {},
   "outputs": [
    {
     "name": "stdout",
     "output_type": "stream",
     "text": [
      "Orca is a kind of Dolphin.\n",
      "\n",
      "<class 'list'>\n"
     ]
    }
   ],
   "source": [
    "sea = open(\"fishes.txt\", \"r\")\n",
    "print(sea.readlines()[0])\n",
    "print(type(sea.readlines()))\n",
    "sea.close()"
   ]
  },
  {
   "cell_type": "code",
   "execution_count": 20,
   "metadata": {},
   "outputs": [
    {
     "name": "stdout",
     "output_type": "stream",
     "text": [
      "Orca is a kind of Dolphin.\n",
      "\n",
      "Blue Whale is the largest animal known on earth.\n",
      "\n",
      "Sharks are the sister group of the Rays (batoids).\n",
      "\n",
      "The Tuna Fish can  weigh up to 250 kg.\n",
      "\n",
      "Squid and Octopus are in the same classes.\n",
      "\n",
      "<class 'list'>\n"
     ]
    }
   ],
   "source": [
    "sea = open(\"fishes.txt\", \"r\")\n",
    "print(sea.readline())\n",
    "print(sea.readline())\n",
    "print(sea.readline())\n",
    "print(sea.readline())\n",
    "print(sea.readline())\n",
    "print(sea.readline())           # first line\n",
    "\n",
    "\n",
    "print(type(sea.readlines()))    # the rest of the lines\n",
    "sea.close()"
   ]
  },
  {
   "cell_type": "code",
   "execution_count": 22,
   "metadata": {},
   "outputs": [
    {
     "name": "stdout",
     "output_type": "stream",
     "text": [
      "The Tuna Fish can  weigh up to 250 kg.\n",
      "\n"
     ]
    }
   ],
   "source": [
    "sea_2 = open('fishes.txt', 'r')\n",
    "print(sea_2.readlines()[3])\n",
    "sea.close()"
   ]
  },
  {
   "cell_type": "code",
   "execution_count": 25,
   "metadata": {},
   "outputs": [
    {
     "name": "stdout",
     "output_type": "stream",
     "text": [
      "Orca is a kind of Dolphin\n"
     ]
    }
   ],
   "source": [
    "sea = open('fishes.txt', 'r')\n",
    "first_line = sea.readline()\n",
    "print(first_line.strip('.\\n'))\n",
    "sea.close()"
   ]
  },
  {
   "cell_type": "code",
   "execution_count": 26,
   "metadata": {},
   "outputs": [],
   "source": [
    "# You may have noticed that the type of the sea.readlines() objects is the list. \n",
    "# Attention !\n",
    "        # Although it is very good to read relatively small files with this method, but when large files are involved, this method can be inefficient."
   ]
  },
  {
   "cell_type": "code",
   "execution_count": 27,
   "metadata": {},
   "outputs": [],
   "source": [
    "# Task 1:\n",
    "    # Consider the rumi.txt file you created before.\n",
    "                # I want to sing\n",
    "                # Like the birds sing,\n",
    "                # Not worrying about\n",
    "                # Who hears or\n",
    "                # What they think.\n",
    "    # Read and display the entire file in a list form.\n",
    "    # Close the file.\n",
    "    \n",
    "    "
   ]
  },
  {
   "cell_type": "code",
   "execution_count": 28,
   "metadata": {},
   "outputs": [
    {
     "name": "stdout",
     "output_type": "stream",
     "text": [
      "['     I want to sing\\n', '     Like the birds sing,\\n', '     Not worrying about\\n', '     Who hears or \\n', '     What they think.']\n"
     ]
    }
   ],
   "source": [
    "rumi = open(\"rumi.txt\", \"r\")\n",
    "\n",
    "print(rumi.readlines())\n",
    "\n",
    "rumi.close()\n"
   ]
  },
  {
   "cell_type": "markdown",
   "metadata": {},
   "source": [
    "# Reading the Files with Loops"
   ]
  },
  {
   "cell_type": "code",
   "execution_count": 30,
   "metadata": {},
   "outputs": [
    {
     "name": "stdout",
     "output_type": "stream",
     "text": [
      "Orca is a kind of Dolphin.\n",
      "\n",
      "Blue Whale is the largest animal known on earth.\n",
      "\n",
      "Sharks are the sister group of the Rays (batoids).\n",
      "\n",
      "The Tuna Fish can  weigh up to 250 kg.\n",
      "\n",
      "Squid and Octopus are in the same classes.\n"
     ]
    },
    {
     "data": {
      "text/plain": [
       "<function TextIOWrapper.close()>"
      ]
     },
     "execution_count": 30,
     "metadata": {},
     "output_type": "execute_result"
    }
   ],
   "source": [
    "# The most efficient way to read the contents of a file is using the for loop. Let's take a look at an example of how we do this.\n",
    "\n",
    "sea = open(\"fishes.txt\", \"r\")\n",
    "\n",
    "for line in sea:\n",
    "    print(line)\n",
    "    \n",
    "sea.close"
   ]
  },
  {
   "cell_type": "code",
   "execution_count": 1,
   "metadata": {},
   "outputs": [
    {
     "name": "stdout",
     "output_type": "stream",
     "text": [
      "Orca is a kind of Dolphin.\n",
      "\n",
      "Blue Whale is the largest animal known on earth.\n",
      "\n",
      "Sharks are the sister group of the Rays (batoids).\n",
      "\n",
      "The Tuna Fish can  weigh up to 250 kg.\n",
      "\n",
      "Squid and Octopus are in the same classes.\n"
     ]
    }
   ],
   "source": [
    "sea = open(\"fishes.txt\", \"r\")\n",
    "\n",
    "print(sea.readline())\n",
    "print(sea.readline())\n",
    "print(sea.readline())\n",
    "print(sea.readline())\n",
    "print(sea.readline())\n",
    "\n",
    "sea.close()"
   ]
  },
  {
   "cell_type": "code",
   "execution_count": 2,
   "metadata": {},
   "outputs": [
    {
     "name": "stdout",
     "output_type": "stream",
     "text": [
      "Orca is a kind of Dolphin.\n",
      "\n",
      "Blue Whale is the largest animal known on earth.\n",
      "\n",
      "Sharks are the sister group of the Rays (batoids).\n",
      "\n",
      "The Tuna Fish can  weigh up to 250 kg.\n",
      "\n",
      "Squid and Octopus are in the same classes.\n"
     ]
    }
   ],
   "source": [
    "sea = open(\"fishes.txt\", \"r\")\n",
    "\n",
    "for line in sea.readlines():\n",
    "    print(line)\n",
    "\n",
    "sea.close()"
   ]
  },
  {
   "cell_type": "code",
   "execution_count": 3,
   "metadata": {},
   "outputs": [
    {
     "name": "stdout",
     "output_type": "stream",
     "text": [
      "Orca is a kind of Dolphin.\n",
      "\n",
      "Blue Whale is the largest animal known on earth.\n",
      "\n",
      "Sharks are the sister group of the Rays (batoids).\n",
      "\n",
      "The Tuna Fish can  weigh up to 250 kg.\n",
      "\n",
      "Squid and Octopus are in the same classes.\n"
     ]
    }
   ],
   "source": [
    "sea = open(\"fishes.txt\", \"r\")\n",
    "\n",
    "sea_ls = sea.readlines()             # we can assign the iterable object to an varaible.\n",
    "\n",
    "for line in sea_ls :\n",
    "    print(line)\n",
    "\n",
    "sea.close()"
   ]
  },
  {
   "cell_type": "code",
   "execution_count": 4,
   "metadata": {},
   "outputs": [
    {
     "name": "stdout",
     "output_type": "stream",
     "text": [
      "     I want to sing\n",
      "\n",
      "     Like the birds sing,\n",
      "\n",
      "     Not worrying about\n",
      "\n",
      "     Who hears or \n",
      "\n",
      "     What they think.\n"
     ]
    },
    {
     "data": {
      "text/plain": [
       "<function TextIOWrapper.close()>"
      ]
     },
     "execution_count": 4,
     "metadata": {},
     "output_type": "execute_result"
    }
   ],
   "source": [
    "rumi = open(\"rumi.txt\", \"r\")\n",
    "\n",
    "for line in rumi:\n",
    "    print(line)\n",
    "    \n",
    "rumi.close"
   ]
  },
  {
   "cell_type": "code",
   "execution_count": 5,
   "metadata": {},
   "outputs": [
    {
     "name": "stdout",
     "output_type": "stream",
     "text": [
      "     I want to sing\n",
      "\n",
      "     Like the birds sing,\n",
      "\n",
      "     Not worrying about\n",
      "\n",
      "     Who hears or \n",
      "\n",
      "     What they think.\n"
     ]
    },
    {
     "data": {
      "text/plain": [
       "<function TextIOWrapper.close()>"
      ]
     },
     "execution_count": 5,
     "metadata": {},
     "output_type": "execute_result"
    }
   ],
   "source": [
    "rumi = open(\"rumi.txt\", \"r\")\n",
    "\n",
    "for line in rumi.readlines():\n",
    "    print(line)\n",
    "    \n",
    "rumi.close"
   ]
  },
  {
   "cell_type": "markdown",
   "metadata": {},
   "source": [
    "# The Matter of Closing Files"
   ]
  },
  {
   "cell_type": "code",
   "execution_count": 7,
   "metadata": {},
   "outputs": [],
   "source": [
    "# * Workflow of working with files to be followed:\n",
    "    # opening the file ==> Working with the file ==> Closing the file"
   ]
  },
  {
   "cell_type": "code",
   "execution_count": 8,
   "metadata": {},
   "outputs": [],
   "source": [
    "# Normally, when the program finishes running, that file is closed. But this does not happen at times and people forget to close\n",
    "# these files that have been opened while working with them.\n",
    "\n",
    "# If we do not want to lose the data we are working with, we should keep in mind that the file should be closed as soon as\n",
    "# our work is finished."
   ]
  },
  {
   "cell_type": "code",
   "execution_count": 9,
   "metadata": {},
   "outputs": [],
   "source": [
    "# As we mentioned, we can do the closing process with the close() method, but there is slightly easier way to do this.\n",
    "\n",
    "# Using the with.... as ... block.\n",
    "\n",
    "# In fact, the actual use of the with... as ... block is to make sure that all the necessary functions are called.\n",
    "\n",
    "#---> with open(\"my_file.txt\", \"r\", encoding= \"utf-8\") as f: code block"
   ]
  },
  {
   "cell_type": "code",
   "execution_count": 12,
   "metadata": {},
   "outputs": [],
   "source": [
    "# Two ways of closing a file:\n",
    "\n",
    "# 1st way;\n",
    "f = open(\"my_file.txt\", \"r\")\n",
    "#some code\n",
    "#some code\n",
    "#some code\n",
    "#some code\n",
    "#some code\n",
    "#some code\n",
    "f.close()\n",
    "\n",
    "\n",
    "# 2nd way;\n",
    "with open(\"my_file.txt\", \"r\") as f:                      # in here you don't worry about to closing a file.\n",
    "        #some code\n",
    "        #some code\n",
    "        #some code\n",
    "        #some code\n",
    "        #some code\n",
    "        #some code\n",
    "        pass"
   ]
  },
  {
   "cell_type": "code",
   "execution_count": 14,
   "metadata": {},
   "outputs": [
    {
     "name": "stdout",
     "output_type": "stream",
     "text": [
      "Orca is a kind of Dolphin.\n",
      "\n",
      "Blue Whale is the largest animal known on earth.\n",
      "\n",
      "Sharks are the sister group of the Rays (batoids).\n",
      "\n",
      "The Tuna Fish can  weigh up to 250 kg.\n",
      "\n",
      "Squid and Octopus are in the same classes.\n"
     ]
    }
   ],
   "source": [
    "with open('fishes.txt', 'r') as sea:\n",
    "    for line in sea:\n",
    "        print(line)"
   ]
  },
  {
   "cell_type": "code",
   "execution_count": 15,
   "metadata": {},
   "outputs": [
    {
     "ename": "ValueError",
     "evalue": "I/O operation on closed file.",
     "output_type": "error",
     "traceback": [
      "\u001b[1;31m---------------------------------------------------------------------------\u001b[0m",
      "\u001b[1;31mValueError\u001b[0m                                Traceback (most recent call last)",
      "\u001b[1;32m<ipython-input-15-6b02ed663bc0>\u001b[0m in \u001b[0;36m<module>\u001b[1;34m\u001b[0m\n\u001b[1;32m----> 1\u001b[1;33m \u001b[0msea\u001b[0m\u001b[1;33m.\u001b[0m\u001b[0mread\u001b[0m\u001b[1;33m(\u001b[0m\u001b[1;33m)\u001b[0m\u001b[1;33m\u001b[0m\u001b[1;33m\u001b[0m\u001b[0m\n\u001b[0m",
      "\u001b[1;31mValueError\u001b[0m: I/O operation on closed file."
     ]
    }
   ],
   "source": [
    "sea.read()     # we cannot make an operation on closed file."
   ]
  },
  {
   "cell_type": "markdown",
   "metadata": {},
   "source": [
    "# Writting Files "
   ]
  },
  {
   "cell_type": "markdown",
   "metadata": {},
   "source": [
    "###  Writing to File with .write( ) Method\n",
    "###  Writing to File with .writelines( ) Method\n",
    "###  Appending to Files using 'a' Mode"
   ]
  },
  {
   "cell_type": "code",
   "execution_count": null,
   "metadata": {},
   "outputs": [],
   "source": []
  },
  {
   "cell_type": "code",
   "execution_count": null,
   "metadata": {},
   "outputs": [],
   "source": []
  },
  {
   "cell_type": "markdown",
   "metadata": {},
   "source": [
    "######  Writing to File with .write( ) Method"
   ]
  },
  {
   "cell_type": "code",
   "execution_count": 16,
   "metadata": {},
   "outputs": [],
   "source": [
    "# As we mentioned earlier, we can overwrite a text to a file using 'w' mode, which means that every time we use 'w', the content\n",
    "# of the file is deleted and new content is written. If there isn't any file then it will be created automatically.\n",
    "\n",
    "# Tips:\n",
    "        # Note that data in the other type that we intend to write to the file must be converted to string type before the \n",
    "        # writing process."
   ]
  },
  {
   "cell_type": "code",
   "execution_count": 17,
   "metadata": {},
   "outputs": [
    {
     "name": "stdout",
     "output_type": "stream",
     "text": [
      "This is the first line of my text file\n"
     ]
    }
   ],
   "source": [
    "# Let's create and write string data to a file. We're going to use .write() method for writing:\n",
    "\n",
    "with open(\"dummy_file.txt\", \"w\", encoding= \"utf-8\") as file:\n",
    "# we create  and open the file\n",
    "\n",
    "    file.write('This is the first line of my text file')\n",
    "    # writes str data into file\n",
    "    \n",
    "with open(\"dummy_file.txt\", \"r\", encoding=\"utf-8\") as file:\n",
    "    print(file.read())   # reads the content of the 'dummy_file'"
   ]
  },
  {
   "cell_type": "code",
   "execution_count": 21,
   "metadata": {},
   "outputs": [],
   "source": [
    "with open(\"dummy_file.txt\", \"w\") as f:\n",
    "    f.write(\"This is the NEW line of my text file.\")"
   ]
  },
  {
   "cell_type": "code",
   "execution_count": 22,
   "metadata": {},
   "outputs": [
    {
     "name": "stdout",
     "output_type": "stream",
     "text": [
      "This is the NEW line of my text file.\n"
     ]
    }
   ],
   "source": [
    "with open(\"dummy_file.txt\", \"r\") as f:\n",
    "    print(f.read())"
   ]
  },
  {
   "cell_type": "code",
   "execution_count": 23,
   "metadata": {},
   "outputs": [],
   "source": [
    "# When you write strings to a file using the .write() method, the string data is written exactly as it is.\n",
    "\n",
    "# Whenever you use .write() method, each string joined together into one. Therefore you have to put newline characters (\\n),\n",
    "# separators or spaces, etc. manually if you want.\n",
    "# Consider the following example:"
   ]
  },
  {
   "cell_type": "code",
   "execution_count": 24,
   "metadata": {},
   "outputs": [],
   "source": [
    "# Let's write 5 sentences into the dummy_file.txt file we created before and then read the content of that file.\n",
    "\n",
    "with open(\"dummy_file.txt\", \"w\") as file:\n",
    "    file.write(\"My first sentence\")\n",
    "    file.write(\"My second sentence,\")\n",
    "    file.write(\"My third sentence\\n\")\n",
    "    file.write(\"My fourth sentence \")\n",
    "    file.write(\"My last sentence\")"
   ]
  },
  {
   "cell_type": "code",
   "execution_count": 25,
   "metadata": {},
   "outputs": [
    {
     "name": "stdout",
     "output_type": "stream",
     "text": [
      "My first sentenceMy second sentence,My third sentence\n",
      "My fourth sentence My last sentence\n"
     ]
    }
   ],
   "source": [
    "with open(\"dummy_file.txt\", \"r\") as file:\n",
    "    print(file.read())"
   ]
  },
  {
   "cell_type": "code",
   "execution_count": 28,
   "metadata": {},
   "outputs": [],
   "source": [
    "with open(\"dummy_file.txt\", \"w\") as file:\n",
    "    file.write(\"My first sentence\\n\")\n",
    "    file.write(\"My second sentence,\\n\")\n",
    "    file.write(\"My third sentence\\n\")\n",
    "    file.write(\"My fourth sentence\\n\")\n",
    "    file.write(\"My last sentence\")"
   ]
  },
  {
   "cell_type": "code",
   "execution_count": 29,
   "metadata": {},
   "outputs": [
    {
     "name": "stdout",
     "output_type": "stream",
     "text": [
      "My first sentence\n",
      "My second sentence,\n",
      "My third sentence\n",
      "My fourth sentence\n",
      "My last sentence\n"
     ]
    }
   ],
   "source": [
    "with open(\"dummy_file.txt\", \"r\") as file:\n",
    "    print(file.read())"
   ]
  },
  {
   "cell_type": "code",
   "execution_count": 30,
   "metadata": {},
   "outputs": [],
   "source": [
    "# Task 2: \n",
    "        # Now think of that we have a list of fruit names.\n",
    "        # Let's write them to a file named fruits.txt each on separate lines one after another.\n",
    "        # Read and display the entire content.\n",
    "        # Read and display the content in a list form.\n",
    "        # fruits = [\"Banana\", \"Orange\", \"Apple\", \"Strawberry\", \"Cherry\"]"
   ]
  },
  {
   "cell_type": "code",
   "execution_count": 32,
   "metadata": {},
   "outputs": [
    {
     "name": "stdout",
     "output_type": "stream",
     "text": [
      "Banana\n",
      "Orange\n",
      "Apple\n",
      "Strawberry\n",
      "Cherry\n",
      "\n",
      "['Banana\\n', 'Orange\\n', 'Apple\\n', 'Strawberry\\n', 'Cherry\\n']\n"
     ]
    }
   ],
   "source": [
    "fruits = [\"Banana\", \"Orange\", \"Apple\", \"Strawberry\", \"Cherry\"]\n",
    "with open(\"fruits.txt\", \"w\") as file:\n",
    "    for fruit in fruits:\n",
    "        file.write(fruit + \"\\n\")\n",
    "with open(\"fruits.txt\", \"r\") as file:\n",
    "    print(file.read())\n",
    "    \n",
    "with open(\"fruits.txt\", \"r\") as file:\n",
    "    print(file.readlines())"
   ]
  },
  {
   "cell_type": "code",
   "execution_count": null,
   "metadata": {},
   "outputs": [],
   "source": [
    "# Task 3:\n",
    "    # Now, think of that we have a list of flower names.\n",
    "    # Let's write them to a file named flowers.txt each on separate lines one ofter another and separated by an empyt line.\n",
    "    # flowers = ['Jasmine', 'Rose', 'Lily', 'Daisy', 'Tulip']"
   ]
  },
  {
   "cell_type": "code",
   "execution_count": 2,
   "metadata": {},
   "outputs": [
    {
     "name": "stdout",
     "output_type": "stream",
     "text": [
      "Jasmine\n",
      "\n",
      "Rose\n",
      "\n",
      "Lily\n",
      "\n",
      "Daisy\n",
      "\n",
      "Tulip\n",
      "\n",
      "\n"
     ]
    }
   ],
   "source": [
    "flowers = ['Jasmine', 'Rose', 'Lily', 'Daisy', 'Tulip']\n",
    "\n",
    "with open(\"flowers.txt\", \"w\") as file:\n",
    "    for flower in flowers:\n",
    "        file.write(flower + \"\\n\\n\")\n",
    "with open(\"flowers.txt\", \"r\") as file:\n",
    "    print(file.read())"
   ]
  },
  {
   "cell_type": "code",
   "execution_count": null,
   "metadata": {},
   "outputs": [],
   "source": [
    "# Make connections:\n",
    "# How are these two methods connected? .readlines() vs. .writelines()\n",
    "\n",
    "# writing to file with .writelines() method:\n",
    "# There is another method for writing data to the files. It is .writelines() method. Unlike .write() method, .writelines() takes\n",
    "# the iterable sequence of strings and writes them to the file.\n",
    "\n",
    "# The difference between these two methods is just similar to the logic of difference between .read() and .readlines()."
   ]
  },
  {
   "cell_type": "code",
   "execution_count": 6,
   "metadata": {},
   "outputs": [
    {
     "name": "stdout",
     "output_type": "stream",
     "text": [
      "Banana\n",
      "Orange\n",
      "Apple\n",
      "Strawberry\n",
      "Cherry\n",
      "\n"
     ]
    }
   ],
   "source": [
    "fruits = ['Banana\\n', 'Orange\\n', 'Apple\\n', 'Strawberry\\n', 'Cherry\\n']\n",
    "\n",
    "with open('fruits_2.txt',  'w') as file:\n",
    "    file.writelines(fruits)\n",
    "with open('fruits_2.txt', 'r') as file:\n",
    "    print(file.read())"
   ]
  },
  {
   "cell_type": "code",
   "execution_count": 7,
   "metadata": {},
   "outputs": [],
   "source": [
    "# Task 4:\n",
    "    # Use the same list of flower names,\n",
    "    # Modify the list for use,\n",
    "    # Overwrite them to the same flowers.txt file each on separate lines one after another.\n",
    "    # flowers = ['Jasmine', 'Rose', 'Lily', 'Daisy', 'Tulip']"
   ]
  },
  {
   "cell_type": "code",
   "execution_count": 8,
   "metadata": {},
   "outputs": [
    {
     "name": "stdout",
     "output_type": "stream",
     "text": [
      "Jasmine\n",
      "Rose\n",
      "Lily\n",
      "Daisy\n",
      "Tulip\n",
      "\n"
     ]
    }
   ],
   "source": [
    "flowers = ['Jasmine\\n', 'Rose\\n', 'Lily\\n', 'Daisy\\n', 'Tulip\\n']\n",
    "\n",
    "with open(\"flowers.txt\", \"w\") as file:\n",
    "    file.writelines(flowers)               # takes \"flowers\" as an iterator\n",
    "\n",
    "with open(\"flowers.txt\", \"r\") as file:\n",
    "    print(file.read())"
   ]
  },
  {
   "cell_type": "markdown",
   "metadata": {},
   "source": [
    "# Appending to File with 'a' "
   ]
  },
  {
   "cell_type": "code",
   "execution_count": 9,
   "metadata": {},
   "outputs": [],
   "source": [
    "# Unlike the previous writing mode (\"w\"), in most cases when we want to add new content to a file, deleting the existing content is undesirable.\n",
    "# Therefore, there is a need for another mode that both keeps the existing content of the file and saves the new content to the \n",
    "# continuation of the file. In Python, we meet this need with 'a' mode which stands for append."
   ]
  },
  {
   "cell_type": "code",
   "execution_count": 10,
   "metadata": {},
   "outputs": [],
   "source": [
    "# Task 5:\n",
    "    # Let's add 'melon' to our existing fruits.txt file as the last line,\n",
    "    # Read and display the entire file content,\n",
    "    # Read and display the entire file content line by line in a list form.\n",
    "    "
   ]
  },
  {
   "cell_type": "code",
   "execution_count": 11,
   "metadata": {},
   "outputs": [
    {
     "name": "stdout",
     "output_type": "stream",
     "text": [
      "Banana\n",
      "Orange\n",
      "Apple\n",
      "Strawberry\n",
      "Cherry\n",
      "Melon\n",
      "['Banana\\n', 'Orange\\n', 'Apple\\n', 'Strawberry\\n', 'Cherry\\n', 'Melon']\n"
     ]
    }
   ],
   "source": [
    "with open(\"fruits.txt\", \"a\") as file:\n",
    "    file.write('Melon')\n",
    "with open(\"fruits.txt\", \"r\") as file:\n",
    "    print(file.read())\n",
    "with open(\"fruits.txt\", \"r\") as file:\n",
    "    print(file.readlines())"
   ]
  },
  {
   "cell_type": "code",
   "execution_count": 12,
   "metadata": {},
   "outputs": [
    {
     "name": "stdout",
     "output_type": "stream",
     "text": [
      "6\n",
      "Jasmine\n",
      "Rose\n",
      "Lily\n",
      "Daisy\n",
      "Tulip\n",
      "Orchid\n"
     ]
    }
   ],
   "source": [
    "with open(\"flowers.txt\", \"a\") as file:\n",
    "    print(file.write('Orchid'))\n",
    "\n",
    "with open(\"flowers.txt\", \"r\") as file:\n",
    "    print(file.read())\n",
    " "
   ]
  },
  {
   "cell_type": "code",
   "execution_count": 13,
   "metadata": {},
   "outputs": [
    {
     "name": "stdout",
     "output_type": "stream",
     "text": [
      "Jasmine\n",
      "Rose\n",
      "Lily\n",
      "Daisy\n",
      "Tulip\n",
      "OrchidViolet\n"
     ]
    }
   ],
   "source": [
    "with open(\"flowers.txt\", \"a\") as file:\n",
    "    file.write('Violet')\n",
    "\n",
    "with open(\"flowers.txt\", \"r\") as file:\n",
    "    print(file.read())\n",
    " "
   ]
  }
 ],
 "metadata": {
  "kernelspec": {
   "display_name": "Python 3",
   "language": "python",
   "name": "python3"
  },
  "language_info": {
   "codemirror_mode": {
    "name": "ipython",
    "version": 3
   },
   "file_extension": ".py",
   "mimetype": "text/x-python",
   "name": "python",
   "nbconvert_exporter": "python",
   "pygments_lexer": "ipython3",
   "version": "3.8.5"
  }
 },
 "nbformat": 4,
 "nbformat_minor": 4
}
