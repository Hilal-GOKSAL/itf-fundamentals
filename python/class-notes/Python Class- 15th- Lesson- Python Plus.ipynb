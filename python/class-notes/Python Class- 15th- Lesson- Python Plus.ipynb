{
 "cells": [
  {
   "cell_type": "code",
   "execution_count": 2,
   "metadata": {},
   "outputs": [
    {
     "name": "stdout",
     "output_type": "stream",
     "text": [
      "Hello!\n"
     ]
    }
   ],
   "source": [
    "print(\"Hello!\")"
   ]
  },
  {
   "cell_type": "code",
   "execution_count": 3,
   "metadata": {},
   "outputs": [
    {
     "name": "stdout",
     "output_type": "stream",
     "text": [
      "Hilal\n",
      "Hello Hilal\n"
     ]
    }
   ],
   "source": [
    "print('Hello', input())"
   ]
  },
  {
   "cell_type": "code",
   "execution_count": 4,
   "metadata": {},
   "outputs": [],
   "source": [
    "def say_hello():\n",
    "    print('Hello', input())"
   ]
  },
  {
   "cell_type": "code",
   "execution_count": 5,
   "metadata": {},
   "outputs": [
    {
     "name": "stdout",
     "output_type": "stream",
     "text": [
      "Adam Smith\n",
      "Hello Adam Smith\n"
     ]
    }
   ],
   "source": [
    "say_hello()"
   ]
  },
  {
   "cell_type": "code",
   "execution_count": 6,
   "metadata": {},
   "outputs": [],
   "source": [
    "def say_hello_2(a):\n",
    "    print('Hello', a)"
   ]
  },
  {
   "cell_type": "code",
   "execution_count": 7,
   "metadata": {},
   "outputs": [
    {
     "name": "stdout",
     "output_type": "stream",
     "text": [
      "Hello Adam Smith!\n"
     ]
    }
   ],
   "source": [
    "say_hello_2(\"Adam Smith!\")"
   ]
  },
  {
   "cell_type": "code",
   "execution_count": 9,
   "metadata": {},
   "outputs": [
    {
     "name": "stdout",
     "output_type": "stream",
     "text": [
      "Micheal\n",
      "Hello Micheal\n"
     ]
    }
   ],
   "source": [
    "first_name = input()\n",
    "\n",
    "def say_hello_3(a):\n",
    "    print('Hello', a)\n",
    "say_hello_3(a = first_name)"
   ]
  },
  {
   "cell_type": "code",
   "execution_count": 12,
   "metadata": {},
   "outputs": [
    {
     "name": "stdout",
     "output_type": "stream",
     "text": [
      "Take the 1000 volts and run!\n"
     ]
    }
   ],
   "source": [
    "def parrot(voltage, action = 'Voom'):\n",
    "    print(f'Take the {voltage} and {action}')\n",
    "    \n",
    "parrot('1000 volts', 'run!')"
   ]
  },
  {
   "cell_type": "code",
   "execution_count": 13,
   "metadata": {},
   "outputs": [
    {
     "ename": "TypeError",
     "evalue": "parrot() got an unexpected keyword argument 'call'",
     "output_type": "error",
     "traceback": [
      "\u001b[1;31m---------------------------------------------------------------------------\u001b[0m",
      "\u001b[1;31mTypeError\u001b[0m                                 Traceback (most recent call last)",
      "\u001b[1;32m<ipython-input-13-5b5e6031a946>\u001b[0m in \u001b[0;36m<module>\u001b[1;34m\u001b[0m\n\u001b[0;32m      2\u001b[0m     \u001b[0mprint\u001b[0m\u001b[1;33m(\u001b[0m\u001b[1;34mf'Take the {voltage} and {action}'\u001b[0m\u001b[1;33m)\u001b[0m\u001b[1;33m\u001b[0m\u001b[1;33m\u001b[0m\u001b[0m\n\u001b[0;32m      3\u001b[0m \u001b[1;33m\u001b[0m\u001b[0m\n\u001b[1;32m----> 4\u001b[1;33m \u001b[0mparrot\u001b[0m\u001b[1;33m(\u001b[0m\u001b[1;34m'1000 volts'\u001b[0m\u001b[1;33m,\u001b[0m \u001b[1;34m'run!'\u001b[0m\u001b[1;33m,\u001b[0m \u001b[0mcall\u001b[0m \u001b[1;33m=\u001b[0m \u001b[1;34m'Hey there!'\u001b[0m\u001b[1;33m)\u001b[0m\u001b[1;33m\u001b[0m\u001b[1;33m\u001b[0m\u001b[0m\n\u001b[0m",
      "\u001b[1;31mTypeError\u001b[0m: parrot() got an unexpected keyword argument 'call'"
     ]
    }
   ],
   "source": [
    "def parrot(voltage, action = 'Voom'):\n",
    "    print(f'Take the {voltage} and {action}')\n",
    "    \n",
    "parrot('1000 volts', 'run!', call = 'Hey there!')"
   ]
  },
  {
   "cell_type": "code",
   "execution_count": 14,
   "metadata": {},
   "outputs": [
    {
     "ename": "TypeError",
     "evalue": "parrot() missing 1 required positional argument: 'voltage'",
     "output_type": "error",
     "traceback": [
      "\u001b[1;31m---------------------------------------------------------------------------\u001b[0m",
      "\u001b[1;31mTypeError\u001b[0m                                 Traceback (most recent call last)",
      "\u001b[1;32m<ipython-input-14-348c99f5809c>\u001b[0m in \u001b[0;36m<module>\u001b[1;34m\u001b[0m\n\u001b[0;32m      2\u001b[0m     \u001b[0mprint\u001b[0m\u001b[1;33m(\u001b[0m\u001b[1;34mf'Take the {voltage} and {action}'\u001b[0m\u001b[1;33m)\u001b[0m\u001b[1;33m\u001b[0m\u001b[1;33m\u001b[0m\u001b[0m\n\u001b[0;32m      3\u001b[0m \u001b[1;33m\u001b[0m\u001b[0m\n\u001b[1;32m----> 4\u001b[1;33m \u001b[0mparrot\u001b[0m\u001b[1;33m(\u001b[0m\u001b[1;33m)\u001b[0m\u001b[1;33m\u001b[0m\u001b[1;33m\u001b[0m\u001b[0m\n\u001b[0m",
      "\u001b[1;31mTypeError\u001b[0m: parrot() missing 1 required positional argument: 'voltage'"
     ]
    }
   ],
   "source": [
    "def parrot(voltage, action = 'Voom'):\n",
    "    print(f'Take the {voltage} and {action}')\n",
    "    \n",
    "parrot()"
   ]
  },
  {
   "cell_type": "code",
   "execution_count": 15,
   "metadata": {},
   "outputs": [
    {
     "name": "stdout",
     "output_type": "stream",
     "text": [
      "Take the 1 and Voom\n"
     ]
    }
   ],
   "source": [
    "def parrot(voltage, action = 'Voom'):\n",
    "    print(f'Take the {voltage} and {action}')\n",
    "    \n",
    "parrot(1)    # as we have one positional arguments at least we have to asssign one value to it. Unless it gives an error."
   ]
  },
  {
   "cell_type": "code",
   "execution_count": 16,
   "metadata": {},
   "outputs": [
    {
     "ename": "TypeError",
     "evalue": "parrot() takes from 1 to 2 positional arguments but 3 were given",
     "output_type": "error",
     "traceback": [
      "\u001b[1;31m---------------------------------------------------------------------------\u001b[0m",
      "\u001b[1;31mTypeError\u001b[0m                                 Traceback (most recent call last)",
      "\u001b[1;32m<ipython-input-16-5501966bb41b>\u001b[0m in \u001b[0;36m<module>\u001b[1;34m\u001b[0m\n\u001b[0;32m      2\u001b[0m     \u001b[0mprint\u001b[0m\u001b[1;33m(\u001b[0m\u001b[1;34mf'Take the {voltage} and {action}'\u001b[0m\u001b[1;33m)\u001b[0m\u001b[1;33m\u001b[0m\u001b[1;33m\u001b[0m\u001b[0m\n\u001b[0;32m      3\u001b[0m \u001b[1;33m\u001b[0m\u001b[0m\n\u001b[1;32m----> 4\u001b[1;33m \u001b[0mparrot\u001b[0m\u001b[1;33m(\u001b[0m\u001b[1;36m1\u001b[0m\u001b[1;33m,\u001b[0m \u001b[1;34m'split'\u001b[0m\u001b[1;33m,\u001b[0m \u001b[1;34m'done'\u001b[0m\u001b[1;33m)\u001b[0m\u001b[1;33m\u001b[0m\u001b[1;33m\u001b[0m\u001b[0m\n\u001b[0m",
      "\u001b[1;31mTypeError\u001b[0m: parrot() takes from 1 to 2 positional arguments but 3 were given"
     ]
    }
   ],
   "source": [
    "def parrot(voltage, action = 'Voom'):\n",
    "    print(f'Take the {voltage} and {action}')\n",
    "    \n",
    "parrot(1, 'split', 'done')"
   ]
  },
  {
   "cell_type": "markdown",
   "metadata": {},
   "source": [
    "What if I don't know how many arguments should I have at the beginning? "
   ]
  },
  {
   "cell_type": "markdown",
   "metadata": {},
   "source": [
    "# Arbitrary Number of Arguments"
   ]
  },
  {
   "cell_type": "markdown",
   "metadata": {},
   "source": [
    "'*args' and '***kwargs'"
   ]
  },
  {
   "cell_type": "markdown",
   "metadata": {},
   "source": [
    " *args and *kwargs \n",
    " \n",
    " --> The arguments we have used in the functions so far limit us to a certain extent. If we don't define the default values for the arguments, we will always need to pass the exact numbers of the arguments to match the number of the parameters defined in the function. But, there will be some situations when you might want to pass an arbitrary number of arguments."
   ]
  },
  {
   "cell_type": "markdown",
   "metadata": {},
   "source": [
    "Finally, the least frequently used option is to specify that a function can be called with an arbitrary number of arguments. These arguments will be wrapped up in a tuple. Before the variable number of arguments, zero or more normal arguments may occur."
   ]
  },
  {
   "cell_type": "code",
   "execution_count": null,
   "metadata": {},
   "outputs": [],
   "source": [
    "def name(*parameter):\n",
    "\n",
    "name(multiple arguments)"
   ]
  },
  {
   "cell_type": "code",
   "execution_count": null,
   "metadata": {},
   "outputs": [],
   "source": [
    "def name(**parameter):\n",
    "\n",
    "name(multiple arguments)"
   ]
  },
  {
   "cell_type": "code",
   "execution_count": 17,
   "metadata": {},
   "outputs": [],
   "source": [
    "# The formula syntax is: *args"
   ]
  },
  {
   "cell_type": "markdown",
   "metadata": {},
   "source": [
    "Normally, these variadic arguments will be last in the list of formal parameters becuase they scoop up all remaining input arguments that are passed into the function."
   ]
  },
  {
   "cell_type": "markdown",
   "metadata": {},
   "source": [
    "Any formal parameters which occur after the *args parameter are 'keyword-only' arguments, meaning that they can only be used as keywords rather than positional arguments."
   ]
  },
  {
   "cell_type": "code",
   "execution_count": 18,
   "metadata": {},
   "outputs": [
    {
     "name": "stdout",
     "output_type": "stream",
     "text": [
      "I want to get orange and banana\n"
     ]
    }
   ],
   "source": [
    "def fruiterer(fruit1, fruit2):\n",
    "    print('I want to get', fruit1, 'and', fruit2)\n",
    "    \n",
    "fruiterer('orange', 'banana')"
   ]
  },
  {
   "cell_type": "markdown",
   "metadata": {},
   "source": [
    "What if the user wants to get more than two kinds of fruit? Since we don't know how many kinds of fruit each user will enter, using 'arbitrary numbers of arguments' is the most intelligent method. Consider the following example:"
   ]
  },
  {
   "cell_type": "code",
   "execution_count": 23,
   "metadata": {},
   "outputs": [
    {
     "name": "stdout",
     "output_type": "stream",
     "text": [
      "I want to get:\n",
      "- orange\n",
      "- banana\n",
      "- melon\n",
      "- ananas\n",
      "<class 'tuple'>\n"
     ]
    }
   ],
   "source": [
    "def fruiterer_2(*fruit):\n",
    "    print('I want to get:') \n",
    "    for i in fruit:\n",
    "        print('-', i)\n",
    "    print(type(fruit))\n",
    "    \n",
    "fruiterer_2('orange', 'banana', 'melon', 'ananas')"
   ]
  },
  {
   "cell_type": "code",
   "execution_count": 25,
   "metadata": {},
   "outputs": [],
   "source": [
    "# Task 1:\n",
    "    # Define a function named slicer to collect even numbers into the list events, odd numbers into the list odds from \n",
    "    # the given numbers by using *args.\n",
    "    # slicer(1,2,3,4,5,6,7,8,9)\n",
    "    # output like: even list: [2,4,6,8]\n",
    "                #  odd list : [1,3,5,7]"
   ]
  },
  {
   "cell_type": "code",
   "execution_count": 7,
   "metadata": {},
   "outputs": [
    {
     "name": "stdout",
     "output_type": "stream",
     "text": [
      "even list:  [2, 4, 6, 8, 10, 12, 14]\n",
      "odd list:  [1, 3, 5, 7, 9, 11, 13, 15]\n"
     ]
    }
   ],
   "source": [
    "def slicer(*numbers):               # *args\n",
    "    even = []\n",
    "    odd = []\n",
    "    for n in numbers:\n",
    "        if n % 2 == 0:\n",
    "            even.append(n)\n",
    "        else:\n",
    "            odd.append(n)\n",
    "    print('even list: ', even) \n",
    "    print('odd list: ', odd)\n",
    "\n",
    "        \n",
    "slicer(1,2,3,4,5,6,7,8,9,10,11,12,13,14,15)"
   ]
  },
  {
   "cell_type": "markdown",
   "metadata": {},
   "source": [
    "As you can see above, we passed a list of fruits (arguments) into one parameter (fruit). It is very useful.\n"
   ]
  },
  {
   "cell_type": "markdown",
   "metadata": {},
   "source": [
    "If you need to prefer to use arbitrary keyword arguments (**kwargs), you  can use it in the same way."
   ]
  },
  {
   "cell_type": "markdown",
   "metadata": {},
   "source": [
    "The formula syntax is: **kwargs"
   ]
  },
  {
   "cell_type": "markdown",
   "metadata": {},
   "source": [
    "the **kwargs works in accordance with the format of the dicts.\n",
    "\n",
    "-- *args works in  accordance with the format of the tuples."
   ]
  },
  {
   "cell_type": "code",
   "execution_count": 13,
   "metadata": {},
   "outputs": [
    {
     "name": "stdout",
     "output_type": "stream",
     "text": [
      "Lions are Carnivores\n",
      "Bears are Omnivores\n",
      "Deers are Herbivores\n",
      "Human are Nomnivores\n",
      "\n",
      "Kwargs collection is <class 'dict'>\n",
      "kwargs.items() type is:  <class 'dict_items'>\n",
      "dict_items([('Carnivores', 'Lions'), ('Omnivores', 'Bears'), ('Herbivores', 'Deers'), ('Nomnivores', 'Human')])\n"
     ]
    }
   ],
   "source": [
    "def animals(**kwargs):\n",
    "    for key, value in kwargs.items():\n",
    "        print(value, \"are\", key)\n",
    "    print()\n",
    "    print('Kwargs collection is', type(kwargs))\n",
    "    print('kwargs.items() type is: ', type(kwargs.items()))\n",
    "    print(kwargs.items())\n",
    "    \n",
    "animals(Carnivores = 'Lions', Omnivores = 'Bears', Herbivores = 'Deers', Nomnivores = 'Human')    # pay attetion to key-value pairs."
   ]
  },
  {
   "cell_type": "code",
   "execution_count": 14,
   "metadata": {},
   "outputs": [],
   "source": [
    "# Task 2: \n",
    "    # Define a function named organizer to collect the given names into the list names, ages into the list ages by using *kwargs.\n",
    "    # organizer(Beth = 26, Oscar = 42, Justin = 18, Frank = 33)\n",
    "    # output will be like: ['Beth', 'Oscar', 'Justin', 'Frank']\n",
    "                    #      [26, 42, 18, 33]"
   ]
  },
  {
   "cell_type": "code",
   "execution_count": 16,
   "metadata": {},
   "outputs": [
    {
     "name": "stdout",
     "output_type": "stream",
     "text": [
      "['Beth', 'Oscar', 'Justin', 'Frank']\n",
      "[26, 42, 18, 33]\n",
      "dict_items([('Beth', 26), ('Oscar', 42), ('Justin', 18), ('Frank', 33)])\n"
     ]
    }
   ],
   "source": [
    "def organizer(**people):                # you can also write kwargs but it's meaningful to give a relatable name to your dictionary for the purpose to remember ehenever you visit your code.\n",
    "    names = []\n",
    "    ages = []\n",
    "    for key, value in  people.items():\n",
    "        names.append(key)\n",
    "        ages.append(value)\n",
    "    print(names, ages, sep='\\n')\n",
    "    print(people.items())\n",
    "    \n",
    "organizer(Beth = 26, Oscar = 42, Justin = 18, Frank = 33)"
   ]
  },
  {
   "cell_type": "code",
   "execution_count": 17,
   "metadata": {},
   "outputs": [
    {
     "name": "stdout",
     "output_type": "stream",
     "text": [
      "Here are the names of brothers: \n",
      "tom\n",
      "sue\n",
      "tim\n"
     ]
    }
   ],
   "source": [
    "def brothers(bro1, bro2, bro3):\n",
    "    print('Here are the names of brothers: ')\n",
    "    print(bro1, bro2, bro3, sep='\\n')\n",
    "\n",
    "family = ['tom', 'sue', 'tim']\n",
    "brothers(*family)                    # calling a function using *args"
   ]
  },
  {
   "cell_type": "code",
   "execution_count": 18,
   "metadata": {},
   "outputs": [],
   "source": [
    "# Task 3:\n",
    "    # Define a function named merger to print the following output from the given tuple genius.\n",
    "    # Call the function using variable genius as *args.\n",
    "    # input : genius = (\"Bill\", \"Rossum\", \"Guiido van\", \"Gates\")\n",
    "    # Output: \"For me, Bill Gates and Guido van  Rossum are geniuses.\""
   ]
  },
  {
   "cell_type": "code",
   "execution_count": 22,
   "metadata": {},
   "outputs": [],
   "source": [
    "# ** unit testing : test to fail. Reverse engineering"
   ]
  },
  {
   "cell_type": "code",
   "execution_count": 20,
   "metadata": {},
   "outputs": [
    {
     "name": "stdout",
     "output_type": "stream",
     "text": [
      "For me, Bill Gates and Guiido van Rossum are genuises.\n"
     ]
    }
   ],
   "source": [
    "def merger(arg1, arg2, arg3, arg4):\n",
    "    print(f\"For me, {arg1} {arg4} and {arg3} {arg2} are genuises.\")\n",
    "    \n",
    "genius = (\"Bill\", \"Rossum\", \"Guiido van\", \"Gates\")   \n",
    "merger(*genius)"
   ]
  },
  {
   "cell_type": "code",
   "execution_count": 24,
   "metadata": {},
   "outputs": [
    {
     "name": "stdout",
     "output_type": "stream",
     "text": [
      "Fred belongs to Generation X\n",
      "Marry belongs to Generation Y\n"
     ]
    }
   ],
   "source": [
    "def gene(x,y):                               # defined by positional args\n",
    "    print(x, \"belongs to Generation X\")\n",
    "    print(y, \"belongs to Generation Y\")\n",
    "\n",
    "dict_gene = {'y': 'Marry', \"x\": \"Fred\"}\n",
    "gene(**dict_gene)                            # we call the function by a single argument(variable)\n",
    "\n",
    "                                            # Calling a function using ** kwargs. \n",
    "                                            # Pay attetion to the type of kwargs. Since it works with keys, the type is a dict."
   ]
  },
  {
   "cell_type": "code",
   "execution_count": 25,
   "metadata": {},
   "outputs": [],
   "source": [
    "# Task 4: \n",
    "    # Create a dictionary named friends with the names (as keys) and ages(as values) of your three friends.\n",
    "    # Define a function named meaner to prints the average of your friends ages.\n",
    "    # Call the function using variable friends as ** kwargs."
   ]
  },
  {
   "cell_type": "code",
   "execution_count": 30,
   "metadata": {},
   "outputs": [
    {
     "name": "stdout",
     "output_type": "stream",
     "text": [
      "The average ages for my friends is : 33.33\n"
     ]
    }
   ],
   "source": [
    "friends = {\"Adam\": 33, \"Joe\": 40, \"Sue\": 27}\n",
    "\n",
    "def meaner(Adam, Joe, Sue):                             # we are putting keys in function.\n",
    "    avg = round((Adam + Joe + Sue)/3, 2)\n",
    "    print(f'The average ages for my friends is : {avg}')\n",
    "\n",
    "meaner(**friends)"
   ]
  },
  {
   "cell_type": "code",
   "execution_count": 38,
   "metadata": {},
   "outputs": [
    {
     "name": "stdout",
     "output_type": "stream",
     "text": [
      "Fred belongs to Generation X\n",
      "Marry belongs to Generation Y\n"
     ]
    }
   ],
   "source": [
    "def gene(x='Solomon', y='David'):            # defined by kwargs\n",
    "    #(default values assigned to x and y)\n",
    "    print(x, 'belongs to Generation X')\n",
    "    print(y, 'belongs to Generation Y')\n",
    "\n",
    "dict_gene = {'y': 'Marry', 'x': 'Fred'}\n",
    "gene(**dict_gene)"
   ]
  },
  {
   "cell_type": "code",
   "execution_count": 39,
   "metadata": {},
   "outputs": [
    {
     "name": "stdout",
     "output_type": "stream",
     "text": [
      "Solomon belongs to Generation X\n",
      "David belongs to Generation Y\n"
     ]
    }
   ],
   "source": [
    "def gene(x='Solomon', y='David'):            # defined by kwargs\n",
    "    #(default values assigned to x and y)\n",
    "    print(x, 'belongs to Generation X')\n",
    "    print(y, 'belongs to Generation Y')\n",
    "\n",
    "dict_gene = {'y': 'Marry', 'x': 'Fred'}\n",
    "gene()                                 # if we leave empty inside the function it will go with default values."
   ]
  }
 ],
 "metadata": {
  "kernelspec": {
   "display_name": "Python 3",
   "language": "python",
   "name": "python3"
  },
  "language_info": {
   "codemirror_mode": {
    "name": "ipython",
    "version": 3
   },
   "file_extension": ".py",
   "mimetype": "text/x-python",
   "name": "python",
   "nbconvert_exporter": "python",
   "pygments_lexer": "ipython3",
   "version": "3.8.5"
  }
 },
 "nbformat": 4,
 "nbformat_minor": 4
}
