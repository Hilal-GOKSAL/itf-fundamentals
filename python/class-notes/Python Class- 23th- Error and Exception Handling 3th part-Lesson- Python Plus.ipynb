{
 "cells": [
  {
   "cell_type": "markdown",
   "metadata": {},
   "source": [
    "# Exception Handling (recap)"
   ]
  },
  {
   "cell_type": "code",
   "execution_count": 1,
   "metadata": {},
   "outputs": [
    {
     "name": "stdout",
     "output_type": "stream",
     "text": [
      "Please enter the first number: 4\n",
      "Please enter the second number: 5\n",
      "Result: 0.8\n"
     ]
    }
   ],
   "source": [
    "while True:\n",
    "    num1 = int(input('Please enter the first number: '))\n",
    "    num2 = int(input('Please enter the second number: '))\n",
    "    try:\n",
    "        div = num1 / num2\n",
    "        print(f'Result: {div}')\n",
    "        break\n",
    "    except ZeroDivisionError:\n",
    "        print('You cannot divide by Zero! Please try again.')"
   ]
  },
  {
   "cell_type": "code",
   "execution_count": 2,
   "metadata": {},
   "outputs": [
    {
     "name": "stdout",
     "output_type": "stream",
     "text": [
      "Please enter the first number: 7\n",
      "Please enter the second number: 0\n",
      "You cannot divide by Zero! Please try again.\n",
      "Thank you for using my division calculator!\n"
     ]
    }
   ],
   "source": [
    "while True:\n",
    "    num1 = int(input('Please enter the first number: '))\n",
    "    num2 = int(input('Please enter the second number: '))\n",
    "    try:\n",
    "        div = num1 / num2\n",
    "    except ZeroDivisionError:\n",
    "        print('You cannot divide by Zero! Please try again.')\n",
    "    else:\n",
    "        print(f'The result : {div}')\n",
    "    finally:\n",
    "        print('Thank you for using my division calculator!')\n",
    "        break"
   ]
  },
  {
   "cell_type": "code",
   "execution_count": 5,
   "metadata": {},
   "outputs": [
    {
     "name": "stdout",
     "output_type": "stream",
     "text": [
      "Please enter the first number: 7\n",
      "Please enter the second number: 3\n",
      "The result : 2.3333333333333335\n",
      "Thank you for using my division calculator!\n"
     ]
    }
   ],
   "source": [
    "while True:\n",
    "    num1 = int(input('Please enter the first number: '))\n",
    "    num2 = int(input('Please enter the second number: '))\n",
    "    try:\n",
    "        div = num1 / num2\n",
    "        \n",
    "    except ZeroDivisionError:\n",
    "        print('You cannot divide by Zero! Please try again.')\n",
    "    else:\n",
    "        print(f'The result : {div}')\n",
    "    finally:\n",
    "        print('Thank you for using my division calculator!')\n",
    "        break"
   ]
  },
  {
   "cell_type": "code",
   "execution_count": 6,
   "metadata": {},
   "outputs": [
    {
     "name": "stdout",
     "output_type": "stream",
     "text": [
      "Nothing went wrong\n"
     ]
    }
   ],
   "source": [
    "try:\n",
    "    x = 4 / 1\n",
    "except:\n",
    "    print('Something went wrong')\n",
    "else:\n",
    "    print('Nothing went wrong')"
   ]
  },
  {
   "cell_type": "code",
   "execution_count": 7,
   "metadata": {},
   "outputs": [
    {
     "name": "stdout",
     "output_type": "stream",
     "text": [
      "Something went wrong\n"
     ]
    }
   ],
   "source": [
    "try:\n",
    "    x = 4 / 0\n",
    "except:\n",
    "    print('Something went wrong')\n",
    "else:\n",
    "    print('Nothing went wrong')"
   ]
  },
  {
   "cell_type": "code",
   "execution_count": 9,
   "metadata": {},
   "outputs": [
    {
     "name": "stdout",
     "output_type": "stream",
     "text": [
      "Something went wrong\n"
     ]
    }
   ],
   "source": [
    "try:\n",
    "    x = 4 / 'k'\n",
    "except:\n",
    "    print('Something went wrong')\n",
    "else:\n",
    "    print('Nothing went wrong')"
   ]
  },
  {
   "cell_type": "code",
   "execution_count": 10,
   "metadata": {},
   "outputs": [
    {
     "name": "stdout",
     "output_type": "stream",
     "text": [
      "4\n",
      "k\n",
      "Something went wrong\n"
     ]
    }
   ],
   "source": [
    "try:\n",
    "    num1 = int(input())\n",
    "    num2 = int(input())\n",
    "    div = num1 / num2\n",
    "    print(div)\n",
    "except:\n",
    "    print('Something went wrong')\n",
    "else:\n",
    "    print('Nothing went wrong')"
   ]
  },
  {
   "cell_type": "code",
   "execution_count": 11,
   "metadata": {},
   "outputs": [
    {
     "name": "stdout",
     "output_type": "stream",
     "text": [
      "4\n",
      "j\n"
     ]
    },
    {
     "ename": "ValueError",
     "evalue": "invalid literal for int() with base 10: 'j'",
     "output_type": "error",
     "traceback": [
      "\u001b[1;31m---------------------------------------------------------------------------\u001b[0m",
      "\u001b[1;31mValueError\u001b[0m                                Traceback (most recent call last)",
      "\u001b[1;32m<ipython-input-11-2ac48ff7ea90>\u001b[0m in \u001b[0;36m<module>\u001b[1;34m\u001b[0m\n\u001b[0;32m      1\u001b[0m \u001b[0mnum1\u001b[0m \u001b[1;33m=\u001b[0m \u001b[0mint\u001b[0m\u001b[1;33m(\u001b[0m\u001b[0minput\u001b[0m\u001b[1;33m(\u001b[0m\u001b[1;33m)\u001b[0m\u001b[1;33m)\u001b[0m\u001b[1;33m\u001b[0m\u001b[1;33m\u001b[0m\u001b[0m\n\u001b[1;32m----> 2\u001b[1;33m \u001b[0mnum2\u001b[0m \u001b[1;33m=\u001b[0m \u001b[0mint\u001b[0m\u001b[1;33m(\u001b[0m\u001b[0minput\u001b[0m\u001b[1;33m(\u001b[0m\u001b[1;33m)\u001b[0m\u001b[1;33m)\u001b[0m\u001b[1;33m\u001b[0m\u001b[1;33m\u001b[0m\u001b[0m\n\u001b[0m\u001b[0;32m      3\u001b[0m \u001b[1;32mtry\u001b[0m\u001b[1;33m:\u001b[0m\u001b[1;33m\u001b[0m\u001b[1;33m\u001b[0m\u001b[0m\n\u001b[0;32m      4\u001b[0m     \u001b[0mdiv\u001b[0m \u001b[1;33m=\u001b[0m \u001b[0mnum1\u001b[0m \u001b[1;33m/\u001b[0m \u001b[0mnum2\u001b[0m\u001b[1;33m\u001b[0m\u001b[1;33m\u001b[0m\u001b[0m\n\u001b[0;32m      5\u001b[0m     \u001b[0mprint\u001b[0m\u001b[1;33m(\u001b[0m\u001b[0mdiv\u001b[0m\u001b[1;33m)\u001b[0m\u001b[1;33m\u001b[0m\u001b[1;33m\u001b[0m\u001b[0m\n",
      "\u001b[1;31mValueError\u001b[0m: invalid literal for int() with base 10: 'j'"
     ]
    }
   ],
   "source": [
    "num1 = int(input())\n",
    "num2 = int(input())\n",
    "try:\n",
    "    div = num1 / num2\n",
    "    print(div)\n",
    "except:\n",
    "    print('Something went wrong')\n",
    "else:\n",
    "    print('Nothing went wrong')"
   ]
  },
  {
   "cell_type": "code",
   "execution_count": 12,
   "metadata": {},
   "outputs": [
    {
     "name": "stdout",
     "output_type": "stream",
     "text": [
      "4\n",
      "k\n",
      "Something went wrong. Error: invalid literal for int() with base 10: 'k'\n"
     ]
    }
   ],
   "source": [
    "try:\n",
    "    num1 = int(input())\n",
    "    num2 = int(input())\n",
    "    div = num1 / num2\n",
    "    print(div)\n",
    "except Exception as e:\n",
    "    print(f'Something went wrong. Error: {e}')\n",
    "else:\n",
    "    print('Nothing went wrong')"
   ]
  },
  {
   "cell_type": "code",
   "execution_count": 13,
   "metadata": {},
   "outputs": [
    {
     "name": "stdout",
     "output_type": "stream",
     "text": [
      "4\n",
      "k\n",
      "Something went wrong. Error: invalid literal for int() with base 10: 'k'\n",
      "End of the program!\n"
     ]
    }
   ],
   "source": [
    "try:\n",
    "    num1 = int(input())\n",
    "    num2 = int(input())\n",
    "    div = num1 / num2\n",
    "    print(div)\n",
    "except Exception as e:\n",
    "    print(f'Something went wrong. Error: {e}')\n",
    "else:\n",
    "    print('Nothing went wrong')\n",
    "finally:\n",
    "    print('End of the program!')"
   ]
  },
  {
   "cell_type": "code",
   "execution_count": 14,
   "metadata": {},
   "outputs": [
    {
     "name": "stdout",
     "output_type": "stream",
     "text": [
      "5\n",
      "l\n",
      "Something went wrong. Error: invalid literal for int() with base 10: 'l'\n"
     ]
    }
   ],
   "source": [
    "try:\n",
    "    num1 = int(input())\n",
    "    num2 = int(input())\n",
    "    div = num1 / num2\n",
    "    print(div)\n",
    "except ZeroDivisionError:\n",
    "    print('Cannot divide by Zero!')\n",
    "except Exception as e:\n",
    "    print(f'Something went wrong. Error: {e}')\n"
   ]
  },
  {
   "cell_type": "code",
   "execution_count": 15,
   "metadata": {},
   "outputs": [
    {
     "name": "stdout",
     "output_type": "stream",
     "text": [
      "5\n",
      "0\n",
      "Cannot divide by Zero!\n"
     ]
    }
   ],
   "source": [
    "try:\n",
    "    num1 = int(input())\n",
    "    num2 = int(input())\n",
    "    div = num1 / num2\n",
    "    print(div)\n",
    "except ZeroDivisionError:\n",
    "    print('Cannot divide by Zero!')\n",
    "except Exception as e:\n",
    "    print(f'Something went wrong. Error: {e}')"
   ]
  },
  {
   "cell_type": "code",
   "execution_count": 16,
   "metadata": {},
   "outputs": [
    {
     "name": "stdout",
     "output_type": "stream",
     "text": [
      "5\n",
      "1\n",
      "5.0\n",
      "This is always executed!\n"
     ]
    }
   ],
   "source": [
    "try:\n",
    "    num1 = int(input())\n",
    "    num2 = int(input())\n",
    "    div = num1 / num2\n",
    "    print(div)\n",
    "except ZeroDivisionError:\n",
    "    print('Cannot divide by Zero!')\n",
    "except Exception as e:\n",
    "    print(f'Something went wrong. Error: {e}')\n",
    "finally:\n",
    "    print('This is always executed!')"
   ]
  },
  {
   "cell_type": "code",
   "execution_count": 17,
   "metadata": {},
   "outputs": [
    {
     "name": "stdout",
     "output_type": "stream",
     "text": [
      "5\n",
      "1\n",
      "5.0\n",
      "All is good!\n",
      "This is always executed!\n"
     ]
    }
   ],
   "source": [
    "try:\n",
    "    num1 = int(input())\n",
    "    num2 = int(input())\n",
    "    div = num1 / num2\n",
    "    print(div)\n",
    "except ZeroDivisionError:\n",
    "    print('Cannot divide by Zero!')\n",
    "except Exception as e:\n",
    "    print(f'Something went wrong. Error: {e}')\n",
    "else:\n",
    "    print('All is good!')\n",
    "finally:\n",
    "    print('This is always executed!')"
   ]
  },
  {
   "cell_type": "code",
   "execution_count": 19,
   "metadata": {},
   "outputs": [
    {
     "name": "stdout",
     "output_type": "stream",
     "text": [
      "5\n",
      "k\n",
      "This is always executed!\n"
     ]
    },
    {
     "ename": "ValueError",
     "evalue": "invalid literal for int() with base 10: 'k'",
     "output_type": "error",
     "traceback": [
      "\u001b[1;31m---------------------------------------------------------------------------\u001b[0m",
      "\u001b[1;31mValueError\u001b[0m                                Traceback (most recent call last)",
      "\u001b[1;32m<ipython-input-19-4b45fbd0634e>\u001b[0m in \u001b[0;36m<module>\u001b[1;34m\u001b[0m\n\u001b[0;32m      1\u001b[0m \u001b[1;32mtry\u001b[0m\u001b[1;33m:\u001b[0m\u001b[1;33m\u001b[0m\u001b[1;33m\u001b[0m\u001b[0m\n\u001b[0;32m      2\u001b[0m     \u001b[0mnum1\u001b[0m \u001b[1;33m=\u001b[0m \u001b[0mint\u001b[0m\u001b[1;33m(\u001b[0m\u001b[0minput\u001b[0m\u001b[1;33m(\u001b[0m\u001b[1;33m)\u001b[0m\u001b[1;33m)\u001b[0m\u001b[1;33m\u001b[0m\u001b[1;33m\u001b[0m\u001b[0m\n\u001b[1;32m----> 3\u001b[1;33m     \u001b[0mnum2\u001b[0m \u001b[1;33m=\u001b[0m \u001b[0mint\u001b[0m\u001b[1;33m(\u001b[0m\u001b[0minput\u001b[0m\u001b[1;33m(\u001b[0m\u001b[1;33m)\u001b[0m\u001b[1;33m)\u001b[0m\u001b[1;33m\u001b[0m\u001b[1;33m\u001b[0m\u001b[0m\n\u001b[0m\u001b[0;32m      4\u001b[0m     \u001b[0mdiv\u001b[0m \u001b[1;33m=\u001b[0m \u001b[0mnum1\u001b[0m \u001b[1;33m/\u001b[0m \u001b[0mnum2\u001b[0m\u001b[1;33m\u001b[0m\u001b[1;33m\u001b[0m\u001b[0m\n\u001b[0;32m      5\u001b[0m     \u001b[0mprint\u001b[0m\u001b[1;33m(\u001b[0m\u001b[0mdiv\u001b[0m\u001b[1;33m)\u001b[0m\u001b[1;33m\u001b[0m\u001b[1;33m\u001b[0m\u001b[0m\n",
      "\u001b[1;31mValueError\u001b[0m: invalid literal for int() with base 10: 'k'"
     ]
    }
   ],
   "source": [
    "try:\n",
    "    num1 = int(input())\n",
    "    num2 = int(input())\n",
    "    div = num1 / num2\n",
    "    print(div)\n",
    "except ZeroDivisionError:\n",
    "    print('Cannot divide by Zero!')\n",
    "#except Exception as e:\n",
    "#    print(f'Something went wrong. Error: {e}')\n",
    "else:\n",
    "    print('All is good!')\n",
    "finally:\n",
    "    print('This is always executed!')"
   ]
  },
  {
   "cell_type": "code",
   "execution_count": 20,
   "metadata": {},
   "outputs": [],
   "source": [
    "# Task 1:\n",
    "    # Using while loop and try...except block,\n",
    "    # To select the favorite fruit from the given fruits list, write a program that requests an index number from the user \n",
    "        # and prints the selected fruit on the screen  (eg: \"My favorite fruit is mango\")\n",
    "    # Considering the possible exceptions caused by the user's entry, display warning messages, and continue to ask for an \n",
    "        # index number from the user until valid input is taken.\n",
    "        \n",
    "        # fruits = [\"banana\", \"mango\", \"pear\", \"apple\", \"kiwi\", \"grape\"]"
   ]
  },
  {
   "cell_type": "code",
   "execution_count": 23,
   "metadata": {},
   "outputs": [
    {
     "name": "stdout",
     "output_type": "stream",
     "text": [
      "Please make a selection between 0 and 5 7\n",
      "Your selection is not valid please try again.\n",
      "Please make a selection between 0 and 5 k\n",
      "Please enter integers only.\n",
      "Please make a selection between 0 and 5 4\n",
      "Your favorite fruit is: kiwi\n"
     ]
    }
   ],
   "source": [
    "fruits = [\"banana\", \"mango\", \"pear\", \"apple\", \"kiwi\", \"grape\"]\n",
    "\n",
    "while True:\n",
    "    try:\n",
    "        index = int(input(f\"Please make a selection between {0} and {len(fruits)-1} \"))\n",
    "        print(f'Your favorite fruit is: {fruits[index]}')\n",
    "        break\n",
    "    except IndexError:\n",
    "        print('Your selection is not valid please try again.')\n",
    "    except ValueError:\n",
    "        print('Please enter integers only.')\n",
    "        "
   ]
  },
  {
   "cell_type": "code",
   "execution_count": 24,
   "metadata": {},
   "outputs": [
    {
     "name": "stdout",
     "output_type": "stream",
     "text": [
      "Please make a selection between 0 and 5 \n",
      "Please enter integers only.\n",
      "Please make a selection between 0 and 5 None\n",
      "Please enter integers only.\n",
      "Please make a selection between 0 and 5 -7\n",
      "Your selection is not valid please try again.\n",
      "Please make a selection between 0 and 5 3\n",
      "Your favorite fruit is: apple\n"
     ]
    }
   ],
   "source": [
    "fruits = [\"banana\", \"mango\", \"pear\", \"apple\", \"kiwi\", \"grape\"]\n",
    "# TypeError: as we converted input variable into integer even if we enter minus or boolean variable it always returns ValueError.\n",
    "\n",
    "while True:\n",
    "    try:\n",
    "        index = int(input(f\"Please make a selection between {0} and {len(fruits)-1} \"))\n",
    "        print(f'Your favorite fruit is: {fruits[index]}')\n",
    "        break\n",
    "    except IndexError:\n",
    "        print('Your selection is not valid please try again.')\n",
    "    except ValueError:\n",
    "        print('Please enter integers only.')\n",
    "        "
   ]
  },
  {
   "cell_type": "code",
   "execution_count": 25,
   "metadata": {},
   "outputs": [
    {
     "name": "stdout",
     "output_type": "stream",
     "text": [
      "Please make a selection between 0 and 5 -7\n",
      "Your selection is not valid please try again.\n",
      "Your error is: list index out of range\n",
      "Please make a selection between 0 and 5 3\n",
      "Your favorite fruit is: apple\n"
     ]
    }
   ],
   "source": [
    "fruits = [\"banana\", \"mango\", \"pear\", \"apple\", \"kiwi\", \"grape\"]\n",
    "# TypeError: as we converted input variable into integer even if we enter minus or boolean variable it always returns ValueError.\n",
    "\n",
    "while True:\n",
    "    try:\n",
    "        index = int(input(f\"Please make a selection between {0} and {len(fruits)-1} \"))\n",
    "        print(f'Your favorite fruit is: {fruits[index]}')\n",
    "        break\n",
    "    except IndexError as e:\n",
    "        print('Your selection is not valid please try again.')\n",
    "        print(f'Your error is: {e}')\n",
    "    except ValueError as e:\n",
    "        print('Please enter integers only.')\n",
    "        print(f'Your error is: {e}')\n",
    "        "
   ]
  },
  {
   "cell_type": "code",
   "execution_count": 26,
   "metadata": {},
   "outputs": [],
   "source": [
    "# Task 2:\n",
    "    # Using while loop and full try....except block,\n",
    "    # At this time, in addition to the previous program,\n",
    "    # Give the user 3 chances to enter an input, and whenever the user raises an exception, decrease the counter by 1\n",
    "        # displaying that \"warning message, you gave n right left. Try again!\"\n",
    "    # If no exception raise, display a message: \"Congrats! You've entered a valid input.\"\n",
    "    # In all circumstances, display a message: \"Our fruits are always fresh!\"\n",
    "    \n",
    "    # example: input ==> 1, output ==> # My favorite fruit is mango.\n",
    "                                       # Congrats! You've entered a valid input.\n",
    "                                       # Our fruits are always fresh!"
   ]
  },
  {
   "cell_type": "code",
   "execution_count": 27,
   "metadata": {},
   "outputs": [
    {
     "name": "stdout",
     "output_type": "stream",
     "text": [
      "Please make a selection between 0 and 5 5\n",
      "Your favorite fruit is: grape\n",
      "Congrats! You've entered a valid input.\n",
      "Our fruits are always fresh!\n"
     ]
    }
   ],
   "source": [
    "fruits = [\"banana\", \"mango\", \"pear\", \"apple\", \"kiwi\", \"grape\"]\n",
    "count = 3\n",
    "\n",
    "while count > 0:\n",
    "    try:\n",
    "        index = int(input(f\"Please make a selection between {0} and {len(fruits)-1} \"))\n",
    "        print(f'Your favorite fruit is: {fruits[index]}')\n",
    "        \n",
    "    except IndexError as e:\n",
    "        print('Your selection is not valid please try again.')\n",
    "        print(f'Your error is: {e}')\n",
    "        count -= 1\n",
    "        print(f'Warning: you have {count} attempts left! Please try again')\n",
    "    except ValueError as e:\n",
    "        print('Please enter integers only.')\n",
    "        print(f'Your error is: {e}')\n",
    "        count -= 1\n",
    "        print(f'Warning: you have {count} attempts left! Please try again')\n",
    "    else:\n",
    "        print(\"Congrats! You've entered a valid input.\")\n",
    "        break\n",
    "\n",
    "    finally:\n",
    "        print(\"Our fruits are always fresh!\")\n",
    "    \n",
    "\n"
   ]
  },
  {
   "cell_type": "code",
   "execution_count": 28,
   "metadata": {},
   "outputs": [
    {
     "name": "stdout",
     "output_type": "stream",
     "text": [
      "Please make a selection between 0 and 5 7\n",
      "Your selection is not valid please try again.\n",
      "Your error is: list index out of range\n",
      "Warning: you have 2 attempts left! Please try again\n",
      "Our fruits are always fresh!\n",
      "Please make a selection between 0 and 5 8\n",
      "Your selection is not valid please try again.\n",
      "Your error is: list index out of range\n",
      "Warning: you have 1 attempts left! Please try again\n",
      "Our fruits are always fresh!\n",
      "Please make a selection between 0 and 5 k\n",
      "Please enter integers only.\n",
      "Your error is: invalid literal for int() with base 10: 'k'\n",
      "Warning: you have 0 attempts left! Please try again\n",
      "Our fruits are always fresh!\n"
     ]
    }
   ],
   "source": [
    "fruits = [\"banana\", \"mango\", \"pear\", \"apple\", \"kiwi\", \"grape\"]\n",
    "count = 3\n",
    "\n",
    "while count > 0:\n",
    "    try:\n",
    "        index = int(input(f\"Please make a selection between {0} and {len(fruits)-1} \"))\n",
    "        print(f'Your favorite fruit is: {fruits[index]}')\n",
    "        \n",
    "    except IndexError as e:\n",
    "        print('Your selection is not valid please try again.')\n",
    "        print(f'Your error is: {e}')\n",
    "        count -= 1\n",
    "        print(f'Warning: you have {count} attempts left! Please try again')\n",
    "    except ValueError as e:\n",
    "        print('Please enter integers only.')\n",
    "        print(f'Your error is: {e}')\n",
    "        count -= 1\n",
    "        print(f'Warning: you have {count} attempts left! Please try again')\n",
    "    else:\n",
    "        print(\"Congrats! You've entered a valid input.\")\n",
    "        break\n",
    "\n",
    "    finally:\n",
    "        print(\"Our fruits are always fresh!\")\n",
    "    \n",
    "\n"
   ]
  },
  {
   "cell_type": "markdown",
   "metadata": {},
   "source": [
    "# Packages and Modules (recap)"
   ]
  },
  {
   "cell_type": "code",
   "execution_count": null,
   "metadata": {},
   "outputs": [],
   "source": [
    "import module_A\n",
    "func_of_modA()"
   ]
  },
  {
   "cell_type": "code",
   "execution_count": null,
   "metadata": {},
   "outputs": [],
   "source": [
    "from module_A import func1, func2, func71\n",
    "func71()"
   ]
  }
 ],
 "metadata": {
  "kernelspec": {
   "display_name": "Python 3",
   "language": "python",
   "name": "python3"
  },
  "language_info": {
   "codemirror_mode": {
    "name": "ipython",
    "version": 3
   },
   "file_extension": ".py",
   "mimetype": "text/x-python",
   "name": "python",
   "nbconvert_exporter": "python",
   "pygments_lexer": "ipython3",
   "version": "3.8.5"
  }
 },
 "nbformat": 4,
 "nbformat_minor": 4
}
