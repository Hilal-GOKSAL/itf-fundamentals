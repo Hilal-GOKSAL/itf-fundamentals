{
 "cells": [
  {
   "cell_type": "markdown",
   "metadata": {},
   "source": [
    "# Loading Modules "
   ]
  },
  {
   "cell_type": "markdown",
   "metadata": {},
   "source": [
    "### Funcdamentals  of Modules\n",
    "### How to Load a Module?\n",
    "### Built-in Modules"
   ]
  },
  {
   "cell_type": "code",
   "execution_count": 1,
   "metadata": {},
   "outputs": [],
   "source": [
    "# script.py\n",
    "# - A python file.\n",
    "# - You can open and edit then run it as a whole."
   ]
  },
  {
   "cell_type": "code",
   "execution_count": 3,
   "metadata": {},
   "outputs": [],
   "source": [
    "# module.py\n",
    "# You can import (load) it and then call a function or a variable and use it partially."
   ]
  },
  {
   "cell_type": "code",
   "execution_count": 5,
   "metadata": {},
   "outputs": [],
   "source": [
    "def add(a,b):\n",
    "    print(a + b)"
   ]
  },
  {
   "cell_type": "code",
   "execution_count": 6,
   "metadata": {},
   "outputs": [
    {
     "data": {
      "text/plain": [
       "'C:\\\\Users\\\\Bilgisayar\\\\Clarusway- Python Classes (EN)'"
      ]
     },
     "execution_count": 6,
     "metadata": {},
     "output_type": "execute_result"
    }
   ],
   "source": [
    "pwd"
   ]
  },
  {
   "cell_type": "code",
   "execution_count": null,
   "metadata": {},
   "outputs": [],
   "source": [
    "# from my_module import add  --> This is the way how you import a function from a module."
   ]
  },
  {
   "cell_type": "code",
   "execution_count": 7,
   "metadata": {},
   "outputs": [],
   "source": [
    "# from my_module import *  --> This is the way how you import all the functions (with '*') from a module."
   ]
  },
  {
   "cell_type": "code",
   "execution_count": null,
   "metadata": {},
   "outputs": [],
   "source": [
    "# my_module.add(a,b)  "
   ]
  },
  {
   "cell_type": "code",
   "execution_count": 8,
   "metadata": {},
   "outputs": [],
   "source": [
    "# Fundamentals of Modules\n",
    "# -script.py:\n",
    "    # A python file.\n",
    "    # You can open and edit then run it as a whole.\n",
    "\n",
    "# -module.py:\n",
    "    # You can import (load) it and then a call a function or a variable and use it partially.\n",
    "    # example of module: math- mathematical functions\n",
    "  # Summary:\n",
    "    # If you open and use this file(with a .py extension) directly, that is scrip, and\n",
    "    # If you load(import) this file(with a .py extension) and call and function from it, that's a module this time.\n"
   ]
  },
  {
   "cell_type": "markdown",
   "metadata": {},
   "source": [
    "#### How to Load a Module?"
   ]
  },
  {
   "cell_type": "code",
   "execution_count": null,
   "metadata": {},
   "outputs": [],
   "source": [
    "import my_module as mym  # loads my_module, we give a nickname to it\n",
    "\n",
    "mym.my_function()   # we can use it the same way\n",
    "\n",
    "print(mym.my_variable)"
   ]
  },
  {
   "cell_type": "markdown",
   "metadata": {},
   "source": [
    "* The number one thing that you have to do is you have to have that module in your directory (in  the same directory as in the same script that you are working on). "
   ]
  },
  {
   "cell_type": "markdown",
   "metadata": {},
   "source": [
    "* Loading a function in a module directly:\n",
    "\n",
    "from my_module import my_function as mnfc               # we've imported my_function named mfnc\n",
    "\n",
    "--mnfc()                                                # we use the function's alias directly."
   ]
  },
  {
   "cell_type": "markdown",
   "metadata": {},
   "source": [
    "* Loading more than one module:\n",
    "\n",
    "import module_1\n",
    "import module_2\n",
    "import module_3\n",
    " \n",
    " * The code stream of the current module starts here. "
   ]
  },
  {
   "cell_type": "code",
   "execution_count": 9,
   "metadata": {},
   "outputs": [
    {
     "name": "stdout",
     "output_type": "stream",
     "text": [
      "Requirement already satisfied: pandas in c:\\users\\bilgisayar\\anaconda3\\lib\\site-packages (1.1.3)\n",
      "Requirement already satisfied: python-dateutil>=2.7.3 in c:\\users\\bilgisayar\\anaconda3\\lib\\site-packages (from pandas) (2.8.1)\n",
      "Requirement already satisfied: numpy>=1.15.4 in c:\\users\\bilgisayar\\anaconda3\\lib\\site-packages (from pandas) (1.19.2)\n",
      "Requirement already satisfied: pytz>=2017.2 in c:\\users\\bilgisayar\\anaconda3\\lib\\site-packages (from pandas) (2020.1)\n",
      "Requirement already satisfied: six>=1.5 in c:\\users\\bilgisayar\\anaconda3\\lib\\site-packages (from python-dateutil>=2.7.3->pandas) (1.15.0)\n",
      "Note: you may need to restart the kernel to use updated packages.\n"
     ]
    }
   ],
   "source": [
    "pip install pandas"
   ]
  },
  {
   "cell_type": "code",
   "execution_count": 10,
   "metadata": {},
   "outputs": [
    {
     "name": "stdout",
     "output_type": "stream",
     "text": [
      "Requirement already satisfied: lxml in c:\\users\\bilgisayar\\anaconda3\\lib\\site-packages (4.6.1)\n",
      "Note: you may need to restart the kernel to use updated packages.\n"
     ]
    }
   ],
   "source": [
    "pip install lxml"
   ]
  },
  {
   "cell_type": "code",
   "execution_count": 11,
   "metadata": {},
   "outputs": [
    {
     "name": "stdout",
     "output_type": "stream",
     "text": [
      "Requirement already satisfied: numpy in c:\\users\\bilgisayar\\anaconda3\\lib\\site-packages (1.19.2)\n",
      "Note: you may need to restart the kernel to use updated packages.\n"
     ]
    }
   ],
   "source": [
    "pip install numpy"
   ]
  },
  {
   "cell_type": "code",
   "execution_count": 12,
   "metadata": {},
   "outputs": [],
   "source": [
    "import pandas as pd"
   ]
  },
  {
   "cell_type": "code",
   "execution_count": 15,
   "metadata": {},
   "outputs": [
    {
     "name": "stdout",
     "output_type": "stream",
     "text": [
      "['__doc__', '__loader__', '__name__', '__package__', '__spec__', 'acos', 'acosh', 'asin', 'asinh', 'atan', 'atan2', 'atanh', 'ceil', 'comb', 'copysign', 'cos', 'cosh', 'degrees', 'dist', 'e', 'erf', 'erfc', 'exp', 'expm1', 'fabs', 'factorial', 'floor', 'fmod', 'frexp', 'fsum', 'gamma', 'gcd', 'hypot', 'inf', 'isclose', 'isfinite', 'isinf', 'isnan', 'isqrt', 'ldexp', 'lgamma', 'log', 'log10', 'log1p', 'log2', 'modf', 'nan', 'perm', 'pi', 'pow', 'prod', 'radians', 'remainder', 'sin', 'sinh', 'sqrt', 'tan', 'tanh', 'tau', 'trunc']\n"
     ]
    }
   ],
   "source": [
    "import math\n",
    "print(dir(math))               # we are printing all the files, documents inside the math module."
   ]
  },
  {
   "cell_type": "code",
   "execution_count": 16,
   "metadata": {},
   "outputs": [
    {
     "data": {
      "text/plain": [
       "ModuleSpec(name='math', loader=<class '_frozen_importlib.BuiltinImporter'>, origin='built-in')"
      ]
     },
     "execution_count": 16,
     "metadata": {},
     "output_type": "execute_result"
    }
   ],
   "source": [
    "math.__spec__     # .__spec__ ==> this property that you're using to just understand what are the specifications of this module. "
   ]
  },
  {
   "cell_type": "code",
   "execution_count": 17,
   "metadata": {},
   "outputs": [],
   "source": [
    "# Task 1:\n",
    "    # Let's import pi, factorial, and log10 functions from math module.\n",
    "    # Print the value of pi, 4! and log10 of 100 using these functions."
   ]
  },
  {
   "cell_type": "code",
   "execution_count": 18,
   "metadata": {},
   "outputs": [],
   "source": [
    "from math import pi, factorial, log10"
   ]
  },
  {
   "cell_type": "code",
   "execution_count": 21,
   "metadata": {},
   "outputs": [
    {
     "name": "stdout",
     "output_type": "stream",
     "text": [
      "3.14\n",
      "24\n",
      "3.0\n"
     ]
    }
   ],
   "source": [
    "print(round(pi,  2))\n",
    "print(factorial(4))\n",
    "print(log10(1000))"
   ]
  },
  {
   "cell_type": "code",
   "execution_count": null,
   "metadata": {},
   "outputs": [],
   "source": [
    "# from math import *\n",
    "\n",
    "# print(round(pi,  2))\n",
    "# print(factorial(4))\n",
    "# print(log10(1000))"
   ]
  },
  {
   "cell_type": "code",
   "execution_count": 22,
   "metadata": {},
   "outputs": [],
   "source": [
    "# Task 2: \n",
    "    # Let's import punctuation and digits function from string module.\n",
    "    # Print the all punctuation marks and digits chars using these functions."
   ]
  },
  {
   "cell_type": "code",
   "execution_count": 23,
   "metadata": {},
   "outputs": [
    {
     "name": "stdout",
     "output_type": "stream",
     "text": [
      "!\"#$%&'()*+,-./:;<=>?@[\\]^_`{|}~\n",
      "0123456789\n"
     ]
    }
   ],
   "source": [
    "from string import punctuation, digits\n",
    "\n",
    "print(punctuation)\n",
    "print(digits)"
   ]
  },
  {
   "cell_type": "code",
   "execution_count": 24,
   "metadata": {},
   "outputs": [
    {
     "name": "stdout",
     "output_type": "stream",
     "text": [
      "['__add__', '__class__', '__contains__', '__delattr__', '__dir__', '__doc__', '__eq__', '__format__', '__ge__', '__getattribute__', '__getitem__', '__getnewargs__', '__gt__', '__hash__', '__init__', '__init_subclass__', '__iter__', '__le__', '__len__', '__lt__', '__mod__', '__mul__', '__ne__', '__new__', '__reduce__', '__reduce_ex__', '__repr__', '__rmod__', '__rmul__', '__setattr__', '__sizeof__', '__str__', '__subclasshook__', 'capitalize', 'casefold', 'center', 'count', 'encode', 'endswith', 'expandtabs', 'find', 'format', 'format_map', 'index', 'isalnum', 'isalpha', 'isascii', 'isdecimal', 'isdigit', 'isidentifier', 'islower', 'isnumeric', 'isprintable', 'isspace', 'istitle', 'isupper', 'join', 'ljust', 'lower', 'lstrip', 'maketrans', 'partition', 'replace', 'rfind', 'rindex', 'rjust', 'rpartition', 'rsplit', 'rstrip', 'split', 'splitlines', 'startswith', 'strip', 'swapcase', 'title', 'translate', 'upper', 'zfill']\n",
      "\n",
      "\n",
      "['__add__', '__class__', '__contains__', '__delattr__', '__dir__', '__doc__', '__eq__', '__format__', '__ge__', '__getattribute__', '__getitem__', '__getnewargs__', '__gt__', '__hash__', '__init__', '__init_subclass__', '__iter__', '__le__', '__len__', '__lt__', '__mod__', '__mul__', '__ne__', '__new__', '__reduce__', '__reduce_ex__', '__repr__', '__rmod__', '__rmul__', '__setattr__', '__sizeof__', '__str__', '__subclasshook__', 'capitalize', 'casefold', 'center', 'count', 'encode', 'endswith', 'expandtabs', 'find', 'format', 'format_map', 'index', 'isalnum', 'isalpha', 'isascii', 'isdecimal', 'isdigit', 'isidentifier', 'islower', 'isnumeric', 'isprintable', 'isspace', 'istitle', 'isupper', 'join', 'ljust', 'lower', 'lstrip', 'maketrans', 'partition', 'replace', 'rfind', 'rindex', 'rjust', 'rpartition', 'rsplit', 'rstrip', 'split', 'splitlines', 'startswith', 'strip', 'swapcase', 'title', 'translate', 'upper', 'zfill']\n"
     ]
    }
   ],
   "source": [
    "print(dir(punctuation))\n",
    "print()\n",
    "print()\n",
    "print(dir(digits))"
   ]
  },
  {
   "cell_type": "code",
   "execution_count": 25,
   "metadata": {},
   "outputs": [],
   "source": [
    "# Second way to import:\n",
    "# import string as str\n",
    "\n",
    "# print(st.punctuation)\n",
    "# print(st.digits)"
   ]
  },
  {
   "cell_type": "code",
   "execution_count": 26,
   "metadata": {},
   "outputs": [],
   "source": [
    "# Task 3:\n",
    "    # let's import today function from date object and now function from datetime object all from datetime module,\n",
    "    # Print the current date (yyyy-mm-dd) and time using these functions."
   ]
  },
  {
   "cell_type": "code",
   "execution_count": 27,
   "metadata": {},
   "outputs": [
    {
     "name": "stdout",
     "output_type": "stream",
     "text": [
      "2021-08-25\n",
      "2021-08-25 13:10:26.043543\n"
     ]
    }
   ],
   "source": [
    "import datetime as dt\n",
    "\n",
    "today = dt.date.today()\n",
    "now = dt.datetime.now()\n",
    "print(today, now, sep='\\n')"
   ]
  },
  {
   "cell_type": "code",
   "execution_count": 28,
   "metadata": {},
   "outputs": [],
   "source": [
    "# Task 4: \n",
    "    # Using datetime module, write a program to calculate the following.\n",
    "    # According to the general acceptance, Ali was born on 22 th April 571 AD and died on 8th June 632 AD.\n",
    "    # How many days have he lived in his life?"
   ]
  },
  {
   "cell_type": "code",
   "execution_count": 29,
   "metadata": {},
   "outputs": [
    {
     "data": {
      "text/plain": [
       "22327"
      ]
     },
     "execution_count": 29,
     "metadata": {},
     "output_type": "execute_result"
    }
   ],
   "source": [
    "from datetime import date\n",
    "\n",
    "birth = date(571, 4, 22)\n",
    "death = date(632, 6, 8)\n",
    "life_in_days = date.toordinal(death)- date.toordinal(birth)               # January 1st - 1st ordinal \n",
    "life_in_days"
   ]
  },
  {
   "cell_type": "code",
   "execution_count": 32,
   "metadata": {},
   "outputs": [
    {
     "name": "stdout",
     "output_type": "stream",
     "text": [
      "birth: \n",
      "208300\n",
      "death: \n",
      "230627\n",
      "days he lives: \n",
      "22327\n"
     ]
    }
   ],
   "source": [
    "# Second solution:\n",
    "from datetime import date\n",
    "\n",
    "birth = date.toordinal(date(571, 4, 22))\n",
    "death = date.toordinal(date(632, 6, 8))\n",
    "\n",
    "\n",
    "life_in_days = death- birth               # January 1st - 1st ordinal \n",
    "print('birth: ', birth, 'death: ', death, 'days he lives: ', life_in_days, sep='\\n')"
   ]
  },
  {
   "cell_type": "code",
   "execution_count": 34,
   "metadata": {},
   "outputs": [],
   "source": [
    "# Task 5:\n",
    "    # random is a module that contains functions that allows us to select randomly from various data types.\n",
    "    # Let's import choice function from random module,\n",
    "    # Print one of the element of the following list randomly.\n",
    "    # city = ['Stockholm', 'Istanbul', 'Seul', 'Cape Town']"
   ]
  },
  {
   "cell_type": "code",
   "execution_count": 35,
   "metadata": {},
   "outputs": [
    {
     "name": "stdout",
     "output_type": "stream",
     "text": [
      "Istanbul\n"
     ]
    }
   ],
   "source": [
    "from random import choice\n",
    "\n",
    "city = ['Stockholm', 'Istanbul', 'Seul', 'Cape Town']\n",
    "print(choice(city))"
   ]
  },
  {
   "cell_type": "code",
   "execution_count": 37,
   "metadata": {},
   "outputs": [
    {
     "name": "stdout",
     "output_type": "stream",
     "text": [
      "73\n"
     ]
    }
   ],
   "source": [
    "from random import choice\n",
    "\n",
    "print(choice(range(100)))"
   ]
  },
  {
   "cell_type": "markdown",
   "metadata": {},
   "source": [
    "# Packages"
   ]
  },
  {
   "cell_type": "markdown",
   "metadata": {},
   "source": [
    "### Package Initialization\n",
    "### pip - The Package Manager for Python"
   ]
  },
  {
   "cell_type": "code",
   "execution_count": 40,
   "metadata": {},
   "outputs": [
    {
     "name": "stdout",
     "output_type": "stream",
     "text": [
      "Package                            Version\n",
      "---------------------------------- -------------------\n",
      "alabaster                          0.7.12\n",
      "anaconda-client                    1.7.2\n",
      "anaconda-navigator                 1.10.0\n",
      "anaconda-project                   0.8.3\n",
      "argh                               0.26.2\n",
      "argon2-cffi                        20.1.0\n",
      "asn1crypto                         1.4.0\n",
      "astroid                            2.4.2\n",
      "astropy                            4.0.2\n",
      "async-generator                    1.10\n",
      "atomicwrites                       1.4.0\n",
      "attrs                              20.3.0\n",
      "autopep8                           1.5.4\n",
      "Babel                              2.8.1\n",
      "backcall                           0.2.0\n",
      "backports.functools-lru-cache      1.6.1\n",
      "backports.shutil-get-terminal-size 1.0.0\n",
      "backports.tempfile                 1.0\n",
      "backports.weakref                  1.0.post1\n",
      "bcrypt                             3.2.0\n",
      "beautifulsoup4                     4.9.3\n",
      "bitarray                           1.6.1\n",
      "bkcharts                           0.2\n",
      "bleach                             3.2.1\n",
      "bokeh                              2.2.3\n",
      "boto                               2.49.0\n",
      "Bottleneck                         1.3.2\n",
      "brotlipy                           0.7.0\n",
      "certifi                            2020.6.20\n",
      "cffi                               1.14.3\n",
      "chardet                            3.0.4\n",
      "click                              7.1.2\n",
      "cloudpickle                        1.6.0\n",
      "clyent                             1.2.2\n",
      "colorama                           0.4.4\n",
      "comtypes                           1.1.7\n",
      "conda                              4.9.2\n",
      "conda-build                        3.20.5\n",
      "conda-package-handling             1.7.2\n",
      "conda-verify                       3.4.2\n",
      "contextlib2                        0.6.0.post1\n",
      "cryptography                       3.1.1\n",
      "cycler                             0.10.0\n",
      "Cython                             0.29.21\n",
      "cytoolz                            0.11.0\n",
      "dask                               2.30.0\n",
      "decorator                          4.4.2\n",
      "defusedxml                         0.6.0\n",
      "diff-match-patch                   20200713\n",
      "distributed                        2.30.1\n",
      "docutils                           0.16\n",
      "entrypoints                        0.3\n",
      "et-xmlfile                         1.0.1\n",
      "fastcache                          1.1.0\n",
      "filelock                           3.0.12\n",
      "flake8                             3.8.4\n",
      "Flask                              1.1.2\n",
      "fsspec                             0.8.3\n",
      "future                             0.18.2\n",
      "gevent                             20.9.0\n",
      "glob2                              0.7\n",
      "googletrans                        3.0.0\n",
      "greenlet                           0.4.17\n",
      "h11                                0.9.0\n",
      "h2                                 3.2.0\n",
      "h5py                               2.10.0\n",
      "HeapDict                           1.0.1\n",
      "hpack                              3.0.0\n",
      "hstspreload                        2021.8.1\n",
      "html5lib                           1.1\n",
      "httpcore                           0.9.1\n",
      "httpx                              0.13.3\n",
      "hyperframe                         5.2.0\n",
      "idna                               2.10\n",
      "imageio                            2.9.0\n",
      "imagesize                          1.2.0\n",
      "importlib-metadata                 2.0.0\n",
      "iniconfig                          1.1.1\n",
      "intervaltree                       3.1.0\n",
      "ipykernel                          5.3.4\n",
      "ipython                            7.19.0\n",
      "ipython-genutils                   0.2.0\n",
      "ipywidgets                         7.5.1\n",
      "isort                              5.6.4\n",
      "itsdangerous                       1.1.0\n",
      "jdcal                              1.4.1\n",
      "jedi                               0.17.1\n",
      "Jinja2                             2.11.2\n",
      "joblib                             0.17.0\n",
      "json5                              0.9.5\n",
      "jsonschema                         3.2.0\n",
      "jupyter                            1.0.0\n",
      "jupyter-client                     6.1.7\n",
      "jupyter-console                    6.2.0\n",
      "jupyter-core                       4.6.3\n",
      "jupyterlab                         2.2.6\n",
      "jupyterlab-pygments                0.1.2\n",
      "jupyterlab-server                  1.2.0\n",
      "kaggle                             1.5.12\n",
      "keyring                            21.4.0\n",
      "kiwisolver                         1.3.0\n",
      "lazy-object-proxy                  1.4.3\n",
      "libarchive-c                       2.9\n",
      "llvmlite                           0.34.0\n",
      "locket                             0.2.0\n",
      "lxml                               4.6.1\n",
      "MarkupSafe                         1.1.1\n",
      "matplotlib                         3.3.2\n",
      "mccabe                             0.6.1\n",
      "menuinst                           1.4.16\n",
      "mistune                            0.8.4\n",
      "mkl-fft                            1.2.0\n",
      "mkl-random                         1.1.1\n",
      "mkl-service                        2.3.0\n",
      "mock                               4.0.2\n",
      "more-itertools                     8.6.0\n",
      "mpmath                             1.1.0\n",
      "msgpack                            1.0.0\n",
      "multipledispatch                   0.6.0\n",
      "navigator-updater                  0.2.1\n",
      "nbclient                           0.5.1\n",
      "nbconvert                          6.0.7\n",
      "nbformat                           5.0.8\n",
      "nest-asyncio                       1.4.2\n",
      "networkx                           2.5\n",
      "nltk                               3.5\n",
      "nose                               1.3.7\n",
      "notebook                           6.1.4\n",
      "numba                              0.51.2\n",
      "numexpr                            2.7.1\n",
      "numpy                              1.19.2\n",
      "numpydoc                           1.1.0\n",
      "olefile                            0.46\n",
      "openpyxl                           3.0.5\n",
      "packaging                          20.4\n",
      "pandas                             1.1.3\n",
      "pandocfilters                      1.4.3\n",
      "paramiko                           2.7.2\n",
      "parso                              0.7.0\n",
      "partd                              1.1.0\n",
      "path                               15.0.0\n",
      "pathlib2                           2.3.5\n",
      "pathtools                          0.1.2\n",
      "patsy                              0.5.1\n",
      "pep8                               1.7.1\n",
      "pexpect                            4.8.0\n",
      "pickleshare                        0.7.5\n",
      "Pillow                             8.0.1\n",
      "pip                                20.2.4\n",
      "pkginfo                            1.6.1\n",
      "pluggy                             0.13.1\n",
      "ply                                3.11\n",
      "prometheus-client                  0.8.0\n",
      "prompt-toolkit                     3.0.8\n",
      "psutil                             5.7.2\n",
      "py                                 1.9.0\n",
      "pycodestyle                        2.6.0\n",
      "pycosat                            0.6.3\n",
      "pycparser                          2.20\n",
      "pycurl                             7.43.0.6\n",
      "pydocstyle                         5.1.1\n",
      "pyflakes                           2.2.0\n",
      "Pygments                           2.7.2\n",
      "pylint                             2.6.0\n",
      "PyNaCl                             1.4.0\n",
      "pyodbc                             4.0.0-unsupported\n",
      "pyOpenSSL                          19.1.0\n",
      "Note: you may need to restart the kernel to use updated packages.\n",
      "pyparsing                          2.4.7\n",
      "pyreadline                         2.1\n",
      "pyrsistent                         0.17.3\n",
      "PySocks                            1.7.1\n",
      "pytest                             0.0.0\n",
      "python-dateutil                    2.8.1\n",
      "python-jsonrpc-server              0.4.0\n",
      "python-language-server             0.35.1\n",
      "python-slugify                     5.0.2\n",
      "pytz                               2020.1\n",
      "PyWavelets                         1.1.1\n",
      "pywin32                            227\n",
      "pywin32-ctypes                     0.2.0\n",
      "pywinpty                           0.5.7\n",
      "PyYAML                             5.3.1\n",
      "pyzmq                              19.0.2\n",
      "QDarkStyle                         2.8.1\n",
      "QtAwesome                          1.0.1\n",
      "qtconsole                          4.7.7\n",
      "QtPy                               1.9.0\n",
      "regex                              2020.10.15\n",
      "requests                           2.24.0\n",
      "rfc3986                            1.5.0\n",
      "rope                               0.18.0\n",
      "Rtree                              0.9.4\n",
      "ruamel-yaml                        0.15.87\n",
      "scikit-image                       0.17.2\n",
      "scikit-learn                       0.23.2\n",
      "scipy                              1.5.2\n",
      "seaborn                            0.11.0\n",
      "Send2Trash                         1.5.0\n",
      "setuptools                         50.3.1.post20201107\n",
      "simplegeneric                      0.8.1\n",
      "singledispatch                     3.4.0.3\n",
      "sip                                4.19.13\n",
      "six                                1.15.0\n",
      "sniffio                            1.2.0\n",
      "snowballstemmer                    2.0.0\n",
      "sortedcollections                  1.2.1\n",
      "sortedcontainers                   2.2.2\n",
      "soupsieve                          2.0.1\n",
      "Sphinx                             3.2.1\n",
      "sphinxcontrib-applehelp            1.0.2\n",
      "sphinxcontrib-devhelp              1.0.2\n",
      "sphinxcontrib-htmlhelp             1.0.3\n",
      "sphinxcontrib-jsmath               1.0.1\n",
      "sphinxcontrib-qthelp               1.0.3\n",
      "sphinxcontrib-serializinghtml      1.1.4\n",
      "sphinxcontrib-websupport           1.2.4\n",
      "spyder                             4.1.5\n",
      "spyder-kernels                     1.9.4\n",
      "SQLAlchemy                         1.3.20\n",
      "statsmodels                        0.12.0\n",
      "sympy                              1.6.2\n",
      "tables                             3.6.1\n",
      "tblib                              1.7.0\n",
      "terminado                          0.9.1\n",
      "testpath                           0.4.4\n",
      "text-unidecode                     1.3\n",
      "threadpoolctl                      2.1.0\n",
      "tifffile                           2020.10.1\n",
      "toml                               0.10.1\n",
      "toolz                              0.11.1\n",
      "tornado                            6.0.4\n",
      "tqdm                               4.50.2\n",
      "traitlets                          5.0.5\n",
      "typing-extensions                  3.7.4.3\n",
      "ujson                              4.0.1\n",
      "unicodecsv                         0.14.1\n",
      "urllib3                            1.25.11\n",
      "watchdog                           0.10.3\n",
      "wcwidth                            0.2.5\n",
      "webencodings                       0.5.1\n",
      "Werkzeug                           1.0.1\n",
      "wheel                              0.35.1\n",
      "widgetsnbextension                 3.5.1\n",
      "win-inet-pton                      1.1.0\n",
      "win-unicode-console                0.5\n",
      "wincertstore                       0.2\n",
      "wrapt                              1.11.2\n",
      "xlrd                               1.2.0\n",
      "XlsxWriter                         1.3.7\n",
      "xlwings                            0.20.8\n",
      "xlwt                               1.3.0\n",
      "xmltodict                          0.12.0\n",
      "yapf                               0.30.0\n",
      "zict                               2.0.0\n",
      "zipp                               3.4.0\n",
      "zope.event                         4.5.0\n",
      "zope.interface                     5.1.2\n"
     ]
    }
   ],
   "source": [
    "pip list"
   ]
  },
  {
   "cell_type": "markdown",
   "metadata": {},
   "source": [
    "### Package Initialization"
   ]
  },
  {
   "cell_type": "markdown",
   "metadata": {},
   "source": [
    "According to the official document of Python, \n",
    "* Packages are basically a way of structuring Python's module namespace by using \"dotted module names\".\n",
    "\n",
    "* In order to make the modules more systematically organized, we can use packages."
   ]
  },
  {
   "cell_type": "code",
   "execution_count": 41,
   "metadata": {},
   "outputs": [],
   "source": [
    "# Libraries\n",
    "    # Packages\n",
    "        # Modules(inside it expressions, functions)"
   ]
  },
  {
   "cell_type": "code",
   "execution_count": null,
   "metadata": {},
   "outputs": [],
   "source": [
    "# Library is major/ parent directory\n",
    "# Packages are like folders in the computer.\n",
    "# A sample diagram of package system of Python:\n",
    "\n",
    "#Package\n",
    "        Subpackage_1              Subpackage_2\n",
    "       module                        module\n",
    "       module                        module\n",
    "       module                        module\n",
    "         |                             |\n",
    "         "
   ]
  },
  {
   "cell_type": "code",
   "execution_count": null,
   "metadata": {},
   "outputs": [],
   "source": [
    "earth/                                          # Top-level package\n",
    "        __init__.py                             # Initialize the earth package\n",
    "        asia/                                   # Subpackage for file asia\n",
    "                __init__.py                     # Turn-on key\n",
    "                japan.py\n",
    "                mongolia.py                     # A module under a subpackage\n",
    "                pakistan.py\n",
    "                taiwan.py\n",
    "                ...\n",
    "        europe/                                 # Subpackage for file europe\n",
    "                __init__.py\n",
    "                germany.py                      # A module under a subpackage\n",
    "                england.py\n",
    "                turkey.py\n",
    "                kosovo.py\n",
    "                ...\n",
    "        america/                                # Subpackage for file america\n",
    "                __init__.py\n",
    "                canada.py\n",
    "                ustates.py\n",
    "                mexico.py\n",
    "                peru.py                         # A module under a subpackage\n",
    "                ...              "
   ]
  },
  {
   "cell_type": "markdown",
   "metadata": {},
   "source": [
    "* Absolute importing:"
   ]
  },
  {
   "cell_type": "code",
   "execution_count": null,
   "metadata": {},
   "outputs": [],
   "source": [
    "import earth.europe.kosovo                  # importing with naming package, subpackage and module\n",
    "\n",
    "earth.europe.kosovo.a_function()            # we want  to access a funcion defined in kosovo module"
   ]
  },
  {
   "cell_type": "code",
   "execution_count": null,
   "metadata": {},
   "outputs": [],
   "source": [
    "from earth import europe.kosovo             # importing with naming subpackage and module\n",
    "\n",
    "europe.kosovo.a_function()                  # we want to  access a function defined in kosovo module."
   ]
  },
  {
   "cell_type": "code",
   "execution_count": null,
   "metadata": {},
   "outputs": [],
   "source": [
    "from earth.europe import kosovo             # importing without naming package and subpackage\n",
    "\n",
    "kosovo.a_function()                         # we want to access a function defined in kosovo module"
   ]
  },
  {
   "cell_type": "code",
   "execution_count": null,
   "metadata": {},
   "outputs": [],
   "source": [
    "from earth.europe.kosovo import a_function  # importing without any naming \n",
    "\n",
    "a_function()                                # we use directly the  function's name\n",
    "\n",
    "\n",
    "# Which style you should use depends on your needs. But the key point is readabilitiy!"
   ]
  },
  {
   "cell_type": "markdown",
   "metadata": {},
   "source": [
    "# What is pip? "
   ]
  },
  {
   "cell_type": "markdown",
   "metadata": {},
   "source": [
    "* pip is the standard package manager for Python."
   ]
  },
  {
   "cell_type": "markdown",
   "metadata": {},
   "source": [
    "Now open your \"command prompt\" or \"jupyter cell\" and run the following syntax to make sure that you have pip installed. \n",
    "\n",
    "* pip --version"
   ]
  },
  {
   "cell_type": "markdown",
   "metadata": {},
   "source": [
    "This code should display your valid pip version which is 19.3.1 currently.\n",
    "If you have problems with installing or upgrading pip, you can follow the official guide for the best practice."
   ]
  },
  {
   "cell_type": "markdown",
   "metadata": {},
   "source": [
    "* pip install --upgrade pip"
   ]
  },
  {
   "cell_type": "markdown",
   "metadata": {},
   "source": [
    "The formula syntax is: pip command options"
   ]
  },
  {
   "cell_type": "markdown",
   "metadata": {},
   "source": [
    "* install\n",
    "\n",
    "--> The most common and essential command of pip is of course install. The most common syntax is:\n",
    "* pip install my_package\n",
    "\n",
    "\n",
    "--> If you want, you can use this command by adding the version number to the end of the syntax as follows:\n",
    "* pip install my_package==3.2.1"
   ]
  },
  {
   "cell_type": "markdown",
   "metadata": {},
   "source": [
    "* pip install python==3.8.1    # you can install specific version of the Python"
   ]
  },
  {
   "cell_type": "markdown",
   "metadata": {},
   "source": [
    "* pip list    # it's giving you a list of packages"
   ]
  },
  {
   "cell_type": "markdown",
   "metadata": {},
   "source": [
    "* pip show package_name   # it gives you the detailed information document for that specific package."
   ]
  },
  {
   "cell_type": "markdown",
   "metadata": {},
   "source": [
    "*  pip uninstall package_name   # to uninstall certain package from your memory."
   ]
  },
  {
   "cell_type": "code",
   "execution_count": 43,
   "metadata": {},
   "outputs": [],
   "source": [
    "# Task 6: Using pip command;\n",
    "    # List all packages already installed on your device\n",
    "    # Install numpy and pandas packages,\n",
    "    # Display the information of these packages,\n",
    "    # List all packages again that installed on your device."
   ]
  },
  {
   "cell_type": "code",
   "execution_count": 44,
   "metadata": {},
   "outputs": [
    {
     "name": "stdout",
     "output_type": "stream",
     "text": [
      "Requirement already satisfied: numpy in c:\\users\\bilgisayar\\anaconda3\\lib\\site-packages (1.19.2)\n",
      "Note: you may need to restart the kernel to use updated packages.\n"
     ]
    }
   ],
   "source": [
    "pip install numpy"
   ]
  },
  {
   "cell_type": "code",
   "execution_count": 45,
   "metadata": {},
   "outputs": [
    {
     "name": "stdout",
     "output_type": "stream",
     "text": [
      "Collecting numpy\n",
      "  Downloading numpy-1.21.2-cp38-cp38-win_amd64.whl (14.0 MB)\n",
      "Installing collected packages: numpy\n",
      "  Attempting uninstall: numpy\n",
      "    Found existing installation: numpy 1.19.2\n",
      "    Uninstalling numpy-1.19.2:\n",
      "      Successfully uninstalled numpy-1.19.2\n",
      "Note: you may need to restart the kernel to use updated packages.\n"
     ]
    },
    {
     "name": "stderr",
     "output_type": "stream",
     "text": [
      "ERROR: Could not install packages due to an EnvironmentError: [WinError 5] Erişim engellendi: 'C:\\\\Users\\\\Bilgisayar\\\\anaconda3\\\\Lib\\\\site-packages\\\\~umpy\\\\core\\\\_multiarray_tests.cp38-win_amd64.pyd'\n",
      "Consider using the `--user` option or check the permissions.\n",
      "\n"
     ]
    }
   ],
   "source": [
    "pip install --upgrade numpy"
   ]
  },
  {
   "cell_type": "code",
   "execution_count": 46,
   "metadata": {},
   "outputs": [
    {
     "name": "stdout",
     "output_type": "stream",
     "text": [
      "Requirement already satisfied: pandas in c:\\users\\bilgisayar\\anaconda3\\lib\\site-packages (1.1.3)Note: you may need to restart the kernel to use updated packages.\n",
      "Requirement already satisfied: pytz>=2017.2 in c:\\users\\bilgisayar\\anaconda3\\lib\\site-packages (from pandas) (2020.1)\n",
      "Requirement already satisfied: numpy>=1.15.4 in c:\\users\\bilgisayar\\anaconda3\\lib\\site-packages (from pandas) (1.21.2)\n",
      "Requirement already satisfied: python-dateutil>=2.7.3 in c:\\users\\bilgisayar\\anaconda3\\lib\\site-packages (from pandas) (2.8.1)\n",
      "Requirement already satisfied: six>=1.5 in c:\\users\\bilgisayar\\anaconda3\\lib\\site-packages (from python-dateutil>=2.7.3->pandas) (1.15.0)\n",
      "\n"
     ]
    }
   ],
   "source": [
    "pip install pandas"
   ]
  },
  {
   "cell_type": "code",
   "execution_count": 47,
   "metadata": {},
   "outputs": [
    {
     "name": "stdout",
     "output_type": "stream",
     "text": [
      "Name: pandas\n",
      "Version: 1.1.3\n",
      "Note: you may need to restart the kernel to use updated packages.Summary: Powerful data structures for data analysis, time series, and statistics\n",
      "\n",
      "Home-page: https://pandas.pydata.org\n",
      "Author: None\n",
      "Author-email: None\n",
      "License: BSD\n",
      "Location: c:\\users\\bilgisayar\\anaconda3\\lib\\site-packages\n",
      "Requires: numpy, python-dateutil, pytz\n",
      "Required-by: statsmodels, seaborn\n"
     ]
    }
   ],
   "source": [
    "pip show pandas"
   ]
  },
  {
   "cell_type": "code",
   "execution_count": 48,
   "metadata": {},
   "outputs": [
    {
     "name": "stdout",
     "output_type": "stream",
     "text": [
      "Name: numpy\n",
      "Version: 1.21.2\n",
      "Summary: NumPy is the fundamental package for array computing with Python.\n",
      "Home-page: https://www.numpy.org\n",
      "Author: Travis E. Oliphant et al.\n",
      "Author-email: None\n",
      "License: BSD\n",
      "Location: c:\\users\\bilgisayar\\anaconda3\\lib\\site-packages\n",
      "Requires: \n",
      "Required-by: tifffile, tables, statsmodels, seaborn, scipy, scikit-learn, scikit-image, PyWavelets, patsy, pandas, numexpr, numba, mkl-random, mkl-fft, matplotlib, imageio, h5py, Bottleneck, bokeh, bkcharts, astropy\n",
      "Note: you may need to restart the kernel to use updated packages.\n"
     ]
    }
   ],
   "source": [
    "pip show numpy"
   ]
  },
  {
   "cell_type": "code",
   "execution_count": 49,
   "metadata": {},
   "outputs": [
    {
     "name": "stdout",
     "output_type": "stream",
     "text": [
      "Package                            Version\n",
      "---------------------------------- -------------------\n",
      "alabaster                          0.7.12\n",
      "anaconda-client                    1.7.2\n",
      "anaconda-navigator                 1.10.0\n",
      "anaconda-project                   0.8.3\n",
      "argh                               0.26.2\n",
      "argon2-cffi                        20.1.0\n",
      "asn1crypto                         1.4.0\n",
      "astroid                            2.4.2\n",
      "astropy                            4.0.2\n",
      "async-generator                    1.10\n",
      "atomicwrites                       1.4.0\n",
      "attrs                              20.3.0\n",
      "autopep8                           1.5.4\n",
      "Babel                              2.8.1\n",
      "backcall                           0.2.0\n",
      "backports.functools-lru-cache      1.6.1\n",
      "backports.shutil-get-terminal-size 1.0.0\n",
      "backports.tempfile                 1.0\n",
      "backports.weakref                  1.0.post1\n",
      "bcrypt                             3.2.0\n",
      "beautifulsoup4                     4.9.3\n",
      "bitarray                           1.6.1\n",
      "bkcharts                           0.2\n",
      "bleach                             3.2.1\n",
      "bokeh                              2.2.3\n",
      "boto                               2.49.0\n",
      "Bottleneck                         1.3.2\n",
      "brotlipy                           0.7.0\n",
      "certifi                            2020.6.20\n",
      "cffi                               1.14.3\n",
      "chardet                            3.0.4\n",
      "click                              7.1.2\n",
      "cloudpickle                        1.6.0\n",
      "clyent                             1.2.2\n",
      "colorama                           0.4.4\n",
      "comtypes                           1.1.7\n",
      "conda                              4.9.2\n",
      "conda-build                        3.20.5\n",
      "conda-package-handling             1.7.2\n",
      "conda-verify                       3.4.2\n",
      "contextlib2                        0.6.0.post1\n",
      "cryptography                       3.1.1\n",
      "cycler                             0.10.0\n",
      "Cython                             0.29.21\n",
      "cytoolz                            0.11.0\n",
      "dask                               2.30.0\n",
      "decorator                          4.4.2\n",
      "defusedxml                         0.6.0\n",
      "diff-match-patch                   20200713\n",
      "distributed                        2.30.1\n",
      "docutils                           0.16\n",
      "entrypoints                        0.3\n",
      "et-xmlfile                         1.0.1\n",
      "fastcache                          1.1.0\n",
      "filelock                           3.0.12\n",
      "flake8                             3.8.4\n",
      "Flask                              1.1.2\n",
      "fsspec                             0.8.3\n",
      "future                             0.18.2\n",
      "gevent                             20.9.0\n",
      "glob2                              0.7\n",
      "googletrans                        3.0.0\n",
      "greenlet                           0.4.17\n",
      "h11                                0.9.0\n",
      "h2                                 3.2.0\n",
      "h5py                               2.10.0\n",
      "HeapDict                           1.0.1\n",
      "hpack                              3.0.0\n",
      "hstspreload                        2021.8.1\n",
      "html5lib                           1.1\n",
      "httpcore                           0.9.1\n",
      "httpx                              0.13.3\n",
      "hyperframe                         5.2.0\n",
      "idna                               2.10\n",
      "imageio                            2.9.0\n",
      "imagesize                          1.2.0\n",
      "importlib-metadata                 2.0.0\n",
      "iniconfig                          1.1.1\n",
      "intervaltree                       3.1.0\n",
      "ipykernel                          5.3.4\n",
      "ipython                            7.19.0\n",
      "ipython-genutils                   0.2.0\n",
      "ipywidgets                         7.5.1\n",
      "isort                              5.6.4\n",
      "itsdangerous                       1.1.0\n",
      "jdcal                              1.4.1\n",
      "jedi                               0.17.1\n",
      "Jinja2                             2.11.2\n",
      "joblib                             0.17.0\n",
      "json5                              0.9.5\n",
      "jsonschema                         3.2.0\n",
      "jupyter                            1.0.0\n",
      "jupyter-client                     6.1.7\n",
      "jupyter-console                    6.2.0\n",
      "jupyter-core                       4.6.3\n",
      "jupyterlab                         2.2.6\n",
      "jupyterlab-pygments                0.1.2\n",
      "jupyterlab-server                  1.2.0\n",
      "kaggle                             1.5.12\n",
      "keyring                            21.4.0\n",
      "kiwisolver                         1.3.0\n",
      "lazy-object-proxy                  1.4.3\n",
      "libarchive-c                       2.9\n",
      "llvmlite                           0.34.0\n",
      "locket                             0.2.0\n",
      "lxml                               4.6.1\n",
      "MarkupSafe                         1.1.1\n",
      "matplotlib                         3.3.2\n",
      "mccabe                             0.6.1\n",
      "menuinst                           1.4.16\n",
      "mistune                            0.8.4\n",
      "mkl-fft                            1.2.0\n",
      "mkl-random                         1.1.1\n",
      "mkl-service                        2.3.0\n",
      "mock                               4.0.2\n",
      "more-itertools                     8.6.0\n",
      "mpmath                             1.1.0\n",
      "msgpack                            1.0.0\n",
      "multipledispatch                   0.6.0\n",
      "navigator-updater                  0.2.1\n",
      "nbclient                           0.5.1\n",
      "nbconvert                          6.0.7\n",
      "nbformat                           5.0.8\n",
      "nest-asyncio                       1.4.2\n",
      "networkx                           2.5\n",
      "nltk                               3.5\n",
      "nose                               1.3.7\n",
      "notebook                           6.1.4\n",
      "numba                              0.51.2\n",
      "numexpr                            2.7.1\n",
      "numpy                              1.21.2\n",
      "numpydoc                           1.1.0\n",
      "olefile                            0.46\n",
      "openpyxl                           3.0.5\n",
      "packaging                          20.4\n",
      "pandas                             1.1.3\n",
      "pandocfilters                      1.4.3\n",
      "paramiko                           2.7.2\n",
      "parso                              0.7.0\n",
      "partd                              1.1.0\n",
      "path                               15.0.0\n",
      "pathlib2                           2.3.5\n",
      "pathtools                          0.1.2\n",
      "patsy                              0.5.1\n",
      "pep8                               1.7.1\n",
      "pexpect                            4.8.0\n",
      "pickleshare                        0.7.5\n",
      "Pillow                             8.0.1\n",
      "pip                                20.2.4\n",
      "pkginfo                            1.6.1\n",
      "pluggy                             0.13.1\n",
      "ply                                3.11\n",
      "prometheus-client                  0.8.0\n",
      "prompt-toolkit                     3.0.8\n",
      "psutil                             5.7.2\n",
      "py                                 1.9.0\n",
      "pycodestyle                        2.6.0\n",
      "pycosat                            0.6.3\n",
      "pycparser                          2.20\n",
      "pycurl                             7.43.0.6\n",
      "pydocstyle                         5.1.1\n",
      "pyflakes                           2.2.0\n",
      "Pygments                           2.7.2\n",
      "pylint                             2.6.0\n",
      "PyNaCl                             1.4.0\n",
      "pyodbc                             4.0.0-unsupported\n",
      "pyOpenSSL                          19.1.0\n",
      "pyparsing                          2.4.7\n",
      "pyreadline                         2.1\n",
      "pyrsistent                         0.17.3\n",
      "PySocks                            1.7.1\n",
      "pytest                             0.0.0\n",
      "python-dateutil                    2.8.1\n",
      "python-jsonrpc-server              0.4.0\n",
      "python-language-server             0.35.1\n",
      "python-slugify                     5.0.2\n",
      "pytz                               2020.1\n",
      "PyWavelets                         1.1.1\n",
      "pywin32                            227\n",
      "pywin32-ctypes                     0.2.0\n",
      "pywinpty                           0.5.7\n",
      "PyYAML                             5.3.1\n",
      "pyzmq                              19.0.2\n",
      "QDarkStyle                         2.8.1\n",
      "QtAwesome                          1.0.1\n",
      "qtconsole                          4.7.7\n",
      "QtPy                               1.9.0\n",
      "regex                              2020.10.15\n",
      "requests                           2.24.0\n",
      "rfc3986                            1.5.0\n",
      "rope                               0.18.0\n",
      "Rtree                              0.9.4\n",
      "ruamel-yaml                        0.15.87\n",
      "scikit-image                       0.17.2\n",
      "scikit-learn                       0.23.2\n",
      "scipy                              1.5.2\n",
      "seaborn                            0.11.0\n",
      "Send2Trash                         1.5.0\n",
      "setuptools                         50.3.1.post20201107\n",
      "simplegeneric                      0.8.1\n",
      "singledispatch                     3.4.0.3\n",
      "sip                                4.19.13\n",
      "six                                1.15.0\n",
      "sniffio                            1.2.0\n",
      "snowballstemmer                    2.0.0\n",
      "sortedcollections                  1.2.1\n",
      "sortedcontainers                   2.2.2\n",
      "soupsieve                          2.0.1\n",
      "Sphinx                             3.2.1\n",
      "sphinxcontrib-applehelp            1.0.2\n",
      "sphinxcontrib-devhelp              1.0.2\n",
      "sphinxcontrib-htmlhelp             1.0.3\n",
      "sphinxcontrib-jsmath               1.0.1\n",
      "sphinxcontrib-qthelp               1.0.3\n",
      "sphinxcontrib-serializinghtml      1.1.4\n",
      "sphinxcontrib-websupport           1.2.4\n",
      "spyder                             4.1.5\n",
      "spyder-kernels                     1.9.4\n",
      "SQLAlchemy                         1.3.20\n",
      "statsmodels                        0.12.0\n",
      "sympy                              1.6.2\n",
      "tables                             3.6.1\n",
      "tblib                              1.7.0\n",
      "terminado                          0.9.1\n",
      "testpath                           0.4.4\n",
      "text-unidecode                     1.3\n",
      "threadpoolctl                      2.1.0\n",
      "tifffile                           2020.10.1\n",
      "toml                               0.10.1\n",
      "toolz                              0.11.1\n",
      "tornado                            6.0.4\n",
      "tqdm                               4.50.2\n",
      "traitlets                          5.0.5\n",
      "typing-extensions                  3.7.4.3\n",
      "ujson                              4.0.1\n",
      "unicodecsv                         0.14.1\n",
      "urllib3                            1.25.11\n",
      "watchdog                           0.10.3\n",
      "wcwidth                            0.2.5\n",
      "webencodings                       0.5.1\n",
      "Werkzeug                           1.0.1\n",
      "wheel                              0.35.1\n",
      "widgetsnbextension                 3.5.1\n",
      "win-inet-pton                      1.1.0\n",
      "win-unicode-console                0.5\n",
      "wincertstore                       0.2\n",
      "wrapt                              1.11.2\n",
      "xlrd                               1.2.0\n",
      "XlsxWriter                         1.3.7\n",
      "xlwings                            0.20.8\n",
      "xlwt                               1.3.0\n",
      "xmltodict                          0.12.0\n",
      "yapf                               0.30.0\n",
      "zict                               2.0.0\n",
      "zipp                               3.4.0\n",
      "zope.event                         4.5.0\n",
      "zope.interface                     5.1.2\n",
      "Note: you may need to restart the kernel to use updated packages.\n"
     ]
    }
   ],
   "source": [
    "pip list"
   ]
  },
  {
   "cell_type": "code",
   "execution_count": 50,
   "metadata": {},
   "outputs": [
    {
     "data": {
      "text/plain": [
       "'C:\\\\Users\\\\Bilgisayar\\\\Clarusway- Python Classes (EN)'"
      ]
     },
     "execution_count": 50,
     "metadata": {},
     "output_type": "execute_result"
    }
   ],
   "source": [
    "pwd"
   ]
  },
  {
   "cell_type": "code",
   "execution_count": null,
   "metadata": {},
   "outputs": [],
   "source": []
  },
  {
   "cell_type": "code",
   "execution_count": null,
   "metadata": {},
   "outputs": [],
   "source": []
  }
 ],
 "metadata": {
  "kernelspec": {
   "display_name": "Python 3",
   "language": "python",
   "name": "python3"
  },
  "language_info": {
   "codemirror_mode": {
    "name": "ipython",
    "version": 3
   },
   "file_extension": ".py",
   "mimetype": "text/x-python",
   "name": "python",
   "nbconvert_exporter": "python",
   "pygments_lexer": "ipython3",
   "version": "3.8.5"
  }
 },
 "nbformat": 4,
 "nbformat_minor": 4
}
