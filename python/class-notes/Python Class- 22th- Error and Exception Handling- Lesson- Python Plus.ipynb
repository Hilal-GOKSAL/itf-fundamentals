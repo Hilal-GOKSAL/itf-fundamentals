{
 "cells": [
  {
   "cell_type": "markdown",
   "metadata": {},
   "source": [
    "# Errors"
   ]
  },
  {
   "cell_type": "markdown",
   "metadata": {},
   "source": [
    "###  Introduction\n",
    "###  Syntax Errors\n",
    "###  Common Errors"
   ]
  },
  {
   "cell_type": "code",
   "execution_count": 1,
   "metadata": {},
   "outputs": [
    {
     "ename": "SyntaxError",
     "evalue": "unexpected EOF while parsing (<ipython-input-1-541f1842bf97>, line 4)",
     "output_type": "error",
     "traceback": [
      "\u001b[1;36m  File \u001b[1;32m\"<ipython-input-1-541f1842bf97>\"\u001b[1;36m, line \u001b[1;32m4\u001b[0m\n\u001b[1;33m    print(\"Don't say 'I never make a mistake'\"\u001b[0m\n\u001b[1;37m                                              ^\u001b[0m\n\u001b[1;31mSyntaxError\u001b[0m\u001b[1;31m:\u001b[0m unexpected EOF while parsing\n"
     ]
    }
   ],
   "source": [
    "# Sometimes you can see that the codes with the simplest syntax can give an error when you never expected.\n",
    "\n",
    "# Consider the following example:\n",
    "print(\"Don't say 'I never make a mistake'\""
   ]
  },
  {
   "cell_type": "code",
   "execution_count": 2,
   "metadata": {},
   "outputs": [],
   "source": [
    "# In the error message appeared on the screen, there is the term Traceback.\n",
    "\n",
    "# It is actually a module of 614 lines of Pyhon code.\n",
    "\n",
    "# This module provides a standard interface to extract, format and print stack traces of Python programs."
   ]
  },
  {
   "cell_type": "code",
   "execution_count": null,
   "metadata": {},
   "outputs": [],
   "source": [
    "# It exactly mimics the behavior of the Python interpreter when it prints a stack trace.\n",
    "\n",
    "# In this way, it allows you to follow the line and character of the error and trace it.\n",
    "\n",
    "# Tips:\n",
    "        # Concentrate on the last lines of the error messages."
   ]
  },
  {
   "cell_type": "code",
   "execution_count": 3,
   "metadata": {},
   "outputs": [],
   "source": [
    "# The names of module- Traceback- appears when your code causes an error and it reports detailed information on that \n",
    "# specific error, demonstrating the particular files in which the error occurred.\n",
    "\n",
    "\n",
    "# In these error messages, the most important thing that a programmer should be interested in is the last lines in the most cases."
   ]
  },
  {
   "cell_type": "code",
   "execution_count": 4,
   "metadata": {},
   "outputs": [],
   "source": [
    "# In the example, the last two lines indicate that this error type is a Syntax error and it also indicates in which line and in which character (with the ^ sign) the error raised.\n",
    "\n",
    "# Attention: Do not panic when you see those error lines. Do not hesitate to read carefully what they are saying to you."
   ]
  },
  {
   "cell_type": "markdown",
   "metadata": {},
   "source": [
    "# Syntax Errors"
   ]
  },
  {
   "cell_type": "code",
   "execution_count": 5,
   "metadata": {},
   "outputs": [],
   "source": [
    "# In the previous example (shown below), you must have seen the mysterious word SyntaxError, which you will likely encounter frequently during your time in Python.\n",
    "\n",
    "# A wide variety of errors in Python are called SyntaxError. \n",
    "# Typically, they indicate a problem that Python encountered when trying to compile your program, or that your code could not be run."
   ]
  },
  {
   "cell_type": "code",
   "execution_count": null,
   "metadata": {},
   "outputs": [],
   "source": [
    "camelCase = 'This is a way of writing in programming'\n",
    "CameCase = 'This is a capital Camel Case'"
   ]
  },
  {
   "cell_type": "markdown",
   "metadata": {},
   "source": [
    "# Common Errors"
   ]
  },
  {
   "cell_type": "markdown",
   "metadata": {},
   "source": [
    "#####  Quotes\n",
    "#####  Wrong Parantheses\n",
    "#####  Wrong Spelling & Typo\n",
    "#####  Indents"
   ]
  },
  {
   "cell_type": "markdown",
   "metadata": {},
   "source": [
    "* In the Matter of Quotes lesson, we have elobareted on how sensitive programming language Python is to quotation marks. So it's critical not to forget to enclose a string in quotes of the same type.\n",
    "\n",
    "* Tips:\n",
    "        * Keep this simple advice in your mind; triple quotes for multi-line strings, double or single quotes for ordinary strings."
   ]
  },
  {
   "cell_type": "markdown",
   "metadata": {},
   "source": [
    "* One of the most common syntax errors is the wrong number of parantheses in function calls. e.g. print(len(my_list[2:]) ==> it should be another parantheses."
   ]
  },
  {
   "cell_type": "markdown",
   "metadata": {},
   "source": [
    "* The most commonmistake made by programmers is the wrong spelling keywords, function names, and variable names, e.g. True, and true, print  and prit or pirnt. \n",
    "\n",
    "    * Avoid!: Do not confuse uppercase and lowercase letter of the keywords. Keep in your mind that Python is a case- sensitive programming language."
   ]
  },
  {
   "cell_type": "markdown",
   "metadata": {},
   "source": [
    "* Indents are also very common errors for programmers.\n",
    "\n",
    "    * Avoid: Do not forget to put the appropriate indent where necessary. Keep in your mind that Python is a indent-sensitive programming language."
   ]
  },
  {
   "cell_type": "code",
   "execution_count": 6,
   "metadata": {},
   "outputs": [
    {
     "ename": "SyntaxError",
     "evalue": "invalid syntax (<ipython-input-6-a0dc80ff15ea>, line 5)",
     "output_type": "error",
     "traceback": [
      "\u001b[1;36m  File \u001b[1;32m\"<ipython-input-6-a0dc80ff15ea>\"\u001b[1;36m, line \u001b[1;32m5\u001b[0m\n\u001b[1;33m    else\u001b[0m\n\u001b[1;37m        ^\u001b[0m\n\u001b[1;31mSyntaxError\u001b[0m\u001b[1;31m:\u001b[0m invalid syntax\n"
     ]
    }
   ],
   "source": [
    "status = []\n",
    "\n",
    "if status:\n",
    "    print(\"'Hello World\")\n",
    "else                                 # a colon : should be put here\n",
    "    print(\"Hello Universe'\")"
   ]
  },
  {
   "cell_type": "code",
   "execution_count": 7,
   "metadata": {},
   "outputs": [
    {
     "ename": "NameError",
     "evalue": "name 'X' is not defined",
     "output_type": "error",
     "traceback": [
      "\u001b[1;31m---------------------------------------------------------------------------\u001b[0m",
      "\u001b[1;31mNameError\u001b[0m                                 Traceback (most recent call last)",
      "\u001b[1;32m<ipython-input-7-0d879e16cf63>\u001b[0m in \u001b[0;36m<module>\u001b[1;34m\u001b[0m\n\u001b[0;32m      3\u001b[0m \u001b[1;33m\u001b[0m\u001b[0m\n\u001b[0;32m      4\u001b[0m \u001b[1;32mfor\u001b[0m \u001b[0mi\u001b[0m \u001b[1;32min\u001b[0m \u001b[0my\u001b[0m\u001b[1;33m:\u001b[0m\u001b[1;33m\u001b[0m\u001b[1;33m\u001b[0m\u001b[0m\n\u001b[1;32m----> 5\u001b[1;33m     \u001b[1;32mfor\u001b[0m \u001b[0mj\u001b[0m \u001b[1;32min\u001b[0m \u001b[0mX\u001b[0m\u001b[1;33m:\u001b[0m\u001b[1;33m\u001b[0m\u001b[1;33m\u001b[0m\u001b[0m\n\u001b[0m\u001b[0;32m      6\u001b[0m         \u001b[0mprint\u001b[0m\u001b[1;33m(\u001b[0m\u001b[0mtype\u001b[0m\u001b[1;33m(\u001b[0m\u001b[1;33m[\u001b[0m\u001b[0mtuple\u001b[0m\u001b[1;33m(\u001b[0m\u001b[0mi\u001b[0m \u001b[1;33m+\u001b[0m \u001b[0mj\u001b[0m\u001b[1;33m)\u001b[0m\u001b[1;33m]\u001b[0m\u001b[1;33m)\u001b[0m\u001b[1;33m)\u001b[0m\u001b[1;33m\u001b[0m\u001b[1;33m\u001b[0m\u001b[0m\n",
      "\u001b[1;31mNameError\u001b[0m: name 'X' is not defined"
     ]
    }
   ],
   "source": [
    "x = [\"1\", \"2\", \"3\"]\n",
    "y = [\"USA\", \"Japan\", \"Spain\"]\n",
    "\n",
    "for i in y:\n",
    "    for j in X:                         # NameError  : case of \"x\" should be the same\n",
    "        print(type([tuple(i + j)]))"
   ]
  },
  {
   "cell_type": "markdown",
   "metadata": {},
   "source": [
    "# Exceptions"
   ]
  },
  {
   "cell_type": "markdown",
   "metadata": {},
   "source": [
    "###  Introduction\n",
    "###  Common  Exceptions"
   ]
  },
  {
   "cell_type": "code",
   "execution_count": 8,
   "metadata": {},
   "outputs": [],
   "source": [
    "# What is the difference? Syntax Erors vs. Exception Errors ?"
   ]
  },
  {
   "cell_type": "markdown",
   "metadata": {},
   "source": [
    "* If your program is running but you still get some error messages for several reasons, you probably get an error warning called exception.\n",
    "\n",
    "* This is because of defective line of codes in your program.\n",
    "\n",
    "* What is the difference between Syntax errors and Exception errors? \n",
    "        * Syntax Errors: These types of errors are detected during compiling the program into byte-code.\n",
    "        * Exception Errors: These types of errors are detected during the program execution (interpretation) process."
   ]
  },
  {
   "cell_type": "code",
   "execution_count": 9,
   "metadata": {},
   "outputs": [
    {
     "name": "stdout",
     "output_type": "stream",
     "text": [
      "Here we go!\n",
      "I will be the second text\n",
      "It is time for an  error message :(\n"
     ]
    },
    {
     "ename": "TypeError",
     "evalue": "can only concatenate str (not \"int\") to str",
     "output_type": "error",
     "traceback": [
      "\u001b[1;31m---------------------------------------------------------------------------\u001b[0m",
      "\u001b[1;31mTypeError\u001b[0m                                 Traceback (most recent call last)",
      "\u001b[1;32m<ipython-input-9-cc9c65898486>\u001b[0m in \u001b[0;36m<module>\u001b[1;34m\u001b[0m\n\u001b[0;32m      4\u001b[0m \u001b[0mb\u001b[0m \u001b[1;33m=\u001b[0m \u001b[1;36m5\u001b[0m\u001b[1;33m\u001b[0m\u001b[1;33m\u001b[0m\u001b[0m\n\u001b[0;32m      5\u001b[0m \u001b[0mprint\u001b[0m\u001b[1;33m(\u001b[0m\u001b[1;34m'It is time for an  error message :('\u001b[0m\u001b[1;33m)\u001b[0m\u001b[1;33m\u001b[0m\u001b[1;33m\u001b[0m\u001b[0m\n\u001b[1;32m----> 6\u001b[1;33m \u001b[0mprint\u001b[0m\u001b[1;33m(\u001b[0m\u001b[0ma\u001b[0m \u001b[1;33m+\u001b[0m \u001b[0mb\u001b[0m\u001b[1;33m)\u001b[0m                                 \u001b[1;31m# it won't be printed\u001b[0m\u001b[1;33m\u001b[0m\u001b[1;33m\u001b[0m\u001b[0m\n\u001b[0m\u001b[0;32m      7\u001b[0m \u001b[0mprint\u001b[0m\u001b[1;33m(\u001b[0m\u001b[1;34m\"Sorry, but I won't be printed\"\u001b[0m\u001b[1;33m)\u001b[0m       \u001b[1;31m# it won't be printed\u001b[0m\u001b[1;33m\u001b[0m\u001b[1;33m\u001b[0m\u001b[0m\n",
      "\u001b[1;31mTypeError\u001b[0m: can only concatenate str (not \"int\") to str"
     ]
    }
   ],
   "source": [
    "print('Here we go!')\n",
    "print('I will be the second text')\n",
    "a= '3'\n",
    "b = 5\n",
    "print('It is time for an  error message :(')\n",
    "print(a + b)                                 # it won't be printed\n",
    "print(\"Sorry, but I won't be printed\")       # it won't be printed"
   ]
  },
  {
   "cell_type": "markdown",
   "metadata": {},
   "source": [
    " * The first three print( ) functions printed their own content, but the last two print( ) functions did not work and we received an exception error mesaage (that is our program was partially executed). \n"
   ]
  },
  {
   "cell_type": "markdown",
   "metadata": {},
   "source": [
    "* As we stated before, you should look at the last line of the error message which says that this is the TypeError. It's obvious, right? There is a wrong use of types of variables (a is a str type and b is an int)."
   ]
  },
  {
   "cell_type": "markdown",
   "metadata": {},
   "source": [
    "* Similar to the syntax errors, almost all exception error messages also have a text value (associated value) following the error message explaining what the error is related to."
   ]
  },
  {
   "cell_type": "code",
   "execution_count": 10,
   "metadata": {},
   "outputs": [],
   "source": [
    "# Three common  exception errors: \n",
    "        # ValueError\n",
    "        # NameError\n",
    "        # TypeError"
   ]
  },
  {
   "cell_type": "markdown",
   "metadata": {},
   "source": [
    "* ValueError: Raised when an operation or function receives an argument that has the right type but an inappropriate value, and the situation is not described by a more precise exception such as IndexError.\n"
   ]
  },
  {
   "cell_type": "markdown",
   "metadata": {},
   "source": [
    "* In othe words; to encounter a ValueError in Python means that it is a problem with the content of the object you tried to assign the value to."
   ]
  },
  {
   "cell_type": "code",
   "execution_count": 1,
   "metadata": {},
   "outputs": [
    {
     "ename": "ValueError",
     "evalue": "invalid literal for int() with base 10: 'ten'",
     "output_type": "error",
     "traceback": [
      "\u001b[1;31m---------------------------------------------------------------------------\u001b[0m",
      "\u001b[1;31mValueError\u001b[0m                                Traceback (most recent call last)",
      "\u001b[1;32m<ipython-input-1-fe86acc464d3>\u001b[0m in \u001b[0;36m<module>\u001b[1;34m\u001b[0m\n\u001b[1;32m----> 1\u001b[1;33m \u001b[0mprint\u001b[0m\u001b[1;33m(\u001b[0m\u001b[0mint\u001b[0m\u001b[1;33m(\u001b[0m\u001b[1;34m\"ten\"\u001b[0m\u001b[1;33m)\u001b[0m\u001b[1;33m)\u001b[0m\u001b[1;33m\u001b[0m\u001b[1;33m\u001b[0m\u001b[0m\n\u001b[0m",
      "\u001b[1;31mValueError\u001b[0m: invalid literal for int() with base 10: 'ten'"
     ]
    }
   ],
   "source": [
    "print(int(\"ten\"))"
   ]
  },
  {
   "cell_type": "code",
   "execution_count": 2,
   "metadata": {},
   "outputs": [],
   "source": [
    "# Task 1: Try to set a code to raise ValueError intentionally using the math module."
   ]
  },
  {
   "cell_type": "code",
   "execution_count": 3,
   "metadata": {},
   "outputs": [
    {
     "name": "stdout",
     "output_type": "stream",
     "text": [
      "I am trying to get the square root of a negative number.\n"
     ]
    },
    {
     "ename": "ValueError",
     "evalue": "math domain error",
     "output_type": "error",
     "traceback": [
      "\u001b[1;31m---------------------------------------------------------------------------\u001b[0m",
      "\u001b[1;31mValueError\u001b[0m                                Traceback (most recent call last)",
      "\u001b[1;32m<ipython-input-3-c1e6685ced4e>\u001b[0m in \u001b[0;36m<module>\u001b[1;34m\u001b[0m\n\u001b[0;32m      1\u001b[0m \u001b[1;32mimport\u001b[0m \u001b[0mmath\u001b[0m\u001b[1;33m\u001b[0m\u001b[1;33m\u001b[0m\u001b[0m\n\u001b[0;32m      2\u001b[0m \u001b[0mprint\u001b[0m\u001b[1;33m(\u001b[0m\u001b[1;34m\"I am trying to get the square root of a negative number.\"\u001b[0m\u001b[1;33m)\u001b[0m\u001b[1;33m\u001b[0m\u001b[1;33m\u001b[0m\u001b[0m\n\u001b[1;32m----> 3\u001b[1;33m \u001b[0mprint\u001b[0m\u001b[1;33m(\u001b[0m\u001b[0mmath\u001b[0m\u001b[1;33m.\u001b[0m\u001b[0msqrt\u001b[0m\u001b[1;33m(\u001b[0m\u001b[1;33m-\u001b[0m\u001b[1;36m10\u001b[0m\u001b[1;33m)\u001b[0m\u001b[1;33m)\u001b[0m\u001b[1;33m\u001b[0m\u001b[1;33m\u001b[0m\u001b[0m\n\u001b[0m",
      "\u001b[1;31mValueError\u001b[0m: math domain error"
     ]
    }
   ],
   "source": [
    "import math\n",
    "print(\"I am trying to get the square root of a negative number.\")\n",
    "print(math.sqrt(-10))"
   ]
  },
  {
   "cell_type": "markdown",
   "metadata": {},
   "source": [
    "* NameError: This error is usually raised if a variable you use in the code stream is not pre-defined or not properly defined.\n",
    "* In other words, it is raised when a local or global name is not found. This applies only to unqualified names.\n",
    "* The associated value is an error message that includes the name that could not be found."
   ]
  },
  {
   "cell_type": "code",
   "execution_count": 4,
   "metadata": {},
   "outputs": [
    {
     "ename": "NameError",
     "evalue": "name 'variable' is not defined",
     "output_type": "error",
     "traceback": [
      "\u001b[1;31m---------------------------------------------------------------------------\u001b[0m",
      "\u001b[1;31mNameError\u001b[0m                                 Traceback (most recent call last)",
      "\u001b[1;32m<ipython-input-4-4d9687973dd3>\u001b[0m in \u001b[0;36m<module>\u001b[1;34m\u001b[0m\n\u001b[1;32m----> 1\u001b[1;33m \u001b[0mprint\u001b[0m\u001b[1;33m(\u001b[0m\u001b[0mvariable\u001b[0m\u001b[1;33m)\u001b[0m\u001b[1;33m\u001b[0m\u001b[1;33m\u001b[0m\u001b[0m\n\u001b[0m\u001b[0;32m      2\u001b[0m \u001b[0mvariable\u001b[0m \u001b[1;33m=\u001b[0m \u001b[1;34m\"Don't ever give up!\"\u001b[0m\u001b[1;33m\u001b[0m\u001b[1;33m\u001b[0m\u001b[0m\n",
      "\u001b[1;31mNameError\u001b[0m: name 'variable' is not defined"
     ]
    }
   ],
   "source": [
    "print(variable)\n",
    "variable = \"Don't ever give up!\""
   ]
  },
  {
   "cell_type": "code",
   "execution_count": 5,
   "metadata": {},
   "outputs": [],
   "source": [
    "# Attention: \n",
    "    # Note that the NameError often raises due to lack of attention to these two things: case-sensitivity of Python and pre-defines of the variables."
   ]
  },
  {
   "cell_type": "code",
   "execution_count": 6,
   "metadata": {},
   "outputs": [],
   "source": [
    "# Task 2:\n",
    "    # Try to set a code to raise NameError intentionally."
   ]
  },
  {
   "cell_type": "code",
   "execution_count": 7,
   "metadata": {},
   "outputs": [
    {
     "name": "stdout",
     "output_type": "stream",
     "text": [
      "string value 1\n"
     ]
    },
    {
     "ename": "NameError",
     "evalue": "name 'C' is not defined",
     "output_type": "error",
     "traceback": [
      "\u001b[1;31m---------------------------------------------------------------------------\u001b[0m",
      "\u001b[1;31mNameError\u001b[0m                                 Traceback (most recent call last)",
      "\u001b[1;32m<ipython-input-7-f9b0666e22be>\u001b[0m in \u001b[0;36m<module>\u001b[1;34m\u001b[0m\n\u001b[0;32m      3\u001b[0m \u001b[1;33m\u001b[0m\u001b[0m\n\u001b[0;32m      4\u001b[0m \u001b[0mprint\u001b[0m\u001b[1;33m(\u001b[0m\u001b[0mb\u001b[0m\u001b[1;33m)\u001b[0m\u001b[1;33m\u001b[0m\u001b[1;33m\u001b[0m\u001b[0m\n\u001b[1;32m----> 5\u001b[1;33m \u001b[0mprint\u001b[0m\u001b[1;33m(\u001b[0m\u001b[0mC\u001b[0m\u001b[1;33m)\u001b[0m\u001b[1;33m\u001b[0m\u001b[1;33m\u001b[0m\u001b[0m\n\u001b[0m",
      "\u001b[1;31mNameError\u001b[0m: name 'C' is not defined"
     ]
    }
   ],
   "source": [
    "b = \"string value 1\"\n",
    "c = \"string value 2\"\n",
    "\n",
    "print(b)\n",
    "print(C)"
   ]
  },
  {
   "cell_type": "markdown",
   "metadata": {},
   "source": [
    "* TypeError: Raised when an operation or function is applied to an object of inappropriate type.\n",
    "* The associated value is a string giving details about the type mismatch."
   ]
  },
  {
   "cell_type": "code",
   "execution_count": 8,
   "metadata": {},
   "outputs": [
    {
     "ename": "TypeError",
     "evalue": "'str' object cannot be interpreted as an integer",
     "output_type": "error",
     "traceback": [
      "\u001b[1;31m---------------------------------------------------------------------------\u001b[0m",
      "\u001b[1;31mTypeError\u001b[0m                                 Traceback (most recent call last)",
      "\u001b[1;32m<ipython-input-8-f464f5cb774b>\u001b[0m in \u001b[0;36m<module>\u001b[1;34m\u001b[0m\n\u001b[1;32m----> 1\u001b[1;33m \u001b[1;32mfor\u001b[0m \u001b[0mi\u001b[0m \u001b[1;32min\u001b[0m \u001b[0mrange\u001b[0m\u001b[1;33m(\u001b[0m\u001b[1;34m\"x\"\u001b[0m\u001b[1;33m)\u001b[0m\u001b[1;33m:\u001b[0m\u001b[1;33m\u001b[0m\u001b[1;33m\u001b[0m\u001b[0m\n\u001b[0m\u001b[0;32m      2\u001b[0m     \u001b[0mprint\u001b[0m\u001b[1;33m(\u001b[0m\u001b[0mi\u001b[0m\u001b[1;33m)\u001b[0m\u001b[1;33m\u001b[0m\u001b[1;33m\u001b[0m\u001b[0m\n",
      "\u001b[1;31mTypeError\u001b[0m: 'str' object cannot be interpreted as an integer"
     ]
    }
   ],
   "source": [
    "for i in range(\"x\"):\n",
    "    print(i)"
   ]
  },
  {
   "cell_type": "code",
   "execution_count": 9,
   "metadata": {},
   "outputs": [],
   "source": [
    "x = '3'\n",
    "\n",
    "for i in range(int(x)):\n",
    "    pass"
   ]
  },
  {
   "cell_type": "markdown",
   "metadata": {},
   "source": [
    "* As in the previous example; altough it  requires int, we have tried to iterate the wrong type -str- object in the range() function.\n",
    "\n",
    "* Tips:\n",
    "        * The most useful way you can do about all the errors you can't deal with yourself is to search for the error message on the internet search engine.\n",
    "        * You can make sure that the errors that you will encounter and their solutions have been experienced by someone previously."
   ]
  },
  {
   "cell_type": "code",
   "execution_count": 10,
   "metadata": {},
   "outputs": [],
   "source": [
    "# Task 3:\n",
    "    # Try to set a code to raise TypeError intentionally."
   ]
  },
  {
   "cell_type": "code",
   "execution_count": 11,
   "metadata": {},
   "outputs": [
    {
     "ename": "TypeError",
     "evalue": "unsupported operand type(s) for +: 'int' and 'str'",
     "output_type": "error",
     "traceback": [
      "\u001b[1;31m---------------------------------------------------------------------------\u001b[0m",
      "\u001b[1;31mTypeError\u001b[0m                                 Traceback (most recent call last)",
      "\u001b[1;32m<ipython-input-11-5f6433d5f919>\u001b[0m in \u001b[0;36m<module>\u001b[1;34m\u001b[0m\n\u001b[1;32m----> 1\u001b[1;33m \u001b[0mprint\u001b[0m\u001b[1;33m(\u001b[0m\u001b[1;36m1\u001b[0m \u001b[1;33m+\u001b[0m \u001b[1;34m\"a\"\u001b[0m\u001b[1;33m)\u001b[0m\u001b[1;33m\u001b[0m\u001b[1;33m\u001b[0m\u001b[0m\n\u001b[0m",
      "\u001b[1;31mTypeError\u001b[0m: unsupported operand type(s) for +: 'int' and 'str'"
     ]
    }
   ],
   "source": [
    "print(1 + \"a\")"
   ]
  },
  {
   "cell_type": "markdown",
   "metadata": {},
   "source": [
    "# Exception Handling"
   ]
  },
  {
   "cell_type": "markdown",
   "metadata": {},
   "source": [
    "###  Introduction\n",
    "###  Full 'Exception Handling Block'\n",
    "###  Implementation of the Full 'Exception Handling Block'\n",
    "###  Several Handling Scenarios"
   ]
  },
  {
   "cell_type": "markdown",
   "metadata": {},
   "source": [
    "* In this lesson, you will learn the strategies we need to prevent exception errors from unnecessarily disrupting our program flow.\n",
    "\n",
    "* In some cases, you may need to anticipate exceptions that might disrupt your program flow and take action in advance.\n",
    "\n",
    "* This is where exception handling comes into play."
   ]
  },
  {
   "cell_type": "code",
   "execution_count": 12,
   "metadata": {},
   "outputs": [],
   "source": [
    "# For example, suppose we have a block of code that takes two numbers from the user, \n",
    "# divides the first number by the second number and prints the output of the division."
   ]
  },
  {
   "cell_type": "code",
   "execution_count": 13,
   "metadata": {},
   "outputs": [
    {
     "name": "stdout",
     "output_type": "stream",
     "text": [
      "The first number please: 6\n",
      "The second number please: 3\n",
      "The result of the division is:  2.0\n"
     ]
    }
   ],
   "source": [
    "while True:\n",
    "    no_one = int(input(\"The first number please: \"))\n",
    "    no_two = int(input(\"The second number please: \"))\n",
    "    division = no_one / no_two\n",
    "    print(\"The result of the division is: \", division)\n",
    "    break\n",
    "    \n",
    "# Let's input 6 and 3 first, then 7 and 2 accordingly."
   ]
  },
  {
   "cell_type": "code",
   "execution_count": 14,
   "metadata": {},
   "outputs": [
    {
     "name": "stdout",
     "output_type": "stream",
     "text": [
      "The first number please: 7\n",
      "The second number please: 2\n",
      "The result of the division is:  3.5\n"
     ]
    }
   ],
   "source": [
    "while True:\n",
    "    no_one = int(input(\"The first number please: \"))\n",
    "    no_two = int(input(\"The second number please: \"))\n",
    "    division = no_one / no_two\n",
    "    print(\"The result of the division is: \", division)\n",
    "    break"
   ]
  },
  {
   "cell_type": "code",
   "execution_count": 15,
   "metadata": {},
   "outputs": [
    {
     "name": "stdout",
     "output_type": "stream",
     "text": [
      "The first number please: 4\n",
      "The second number please: 0\n"
     ]
    },
    {
     "ename": "ZeroDivisionError",
     "evalue": "division by zero",
     "output_type": "error",
     "traceback": [
      "\u001b[1;31m---------------------------------------------------------------------------\u001b[0m",
      "\u001b[1;31mZeroDivisionError\u001b[0m                         Traceback (most recent call last)",
      "\u001b[1;32m<ipython-input-15-559bb441a273>\u001b[0m in \u001b[0;36m<module>\u001b[1;34m\u001b[0m\n\u001b[0;32m      3\u001b[0m     \u001b[0mno_one\u001b[0m \u001b[1;33m=\u001b[0m \u001b[0mint\u001b[0m\u001b[1;33m(\u001b[0m\u001b[0minput\u001b[0m\u001b[1;33m(\u001b[0m\u001b[1;34m\"The first number please: \"\u001b[0m\u001b[1;33m)\u001b[0m\u001b[1;33m)\u001b[0m\u001b[1;33m\u001b[0m\u001b[1;33m\u001b[0m\u001b[0m\n\u001b[0;32m      4\u001b[0m     \u001b[0mno_two\u001b[0m \u001b[1;33m=\u001b[0m \u001b[0mint\u001b[0m\u001b[1;33m(\u001b[0m\u001b[0minput\u001b[0m\u001b[1;33m(\u001b[0m\u001b[1;34m\"The second number please: \"\u001b[0m\u001b[1;33m)\u001b[0m\u001b[1;33m)\u001b[0m\u001b[1;33m\u001b[0m\u001b[1;33m\u001b[0m\u001b[0m\n\u001b[1;32m----> 5\u001b[1;33m     \u001b[0mdivision\u001b[0m \u001b[1;33m=\u001b[0m \u001b[0mno_one\u001b[0m \u001b[1;33m/\u001b[0m \u001b[0mno_two\u001b[0m\u001b[1;33m\u001b[0m\u001b[1;33m\u001b[0m\u001b[0m\n\u001b[0m\u001b[0;32m      6\u001b[0m     \u001b[0mprint\u001b[0m\u001b[1;33m(\u001b[0m\u001b[1;34m\"The result of the division is: \"\u001b[0m\u001b[1;33m,\u001b[0m \u001b[0mdivision\u001b[0m\u001b[1;33m)\u001b[0m\u001b[1;33m\u001b[0m\u001b[1;33m\u001b[0m\u001b[0m\n\u001b[0;32m      7\u001b[0m     \u001b[1;32mbreak\u001b[0m\u001b[1;33m\u001b[0m\u001b[1;33m\u001b[0m\u001b[0m\n",
      "\u001b[1;31mZeroDivisionError\u001b[0m: division by zero"
     ]
    }
   ],
   "source": [
    "# Let's see what happens if we input 4 and 0.\n",
    "while True:\n",
    "    no_one = int(input(\"The first number please: \"))\n",
    "    no_two = int(input(\"The second number please: \"))\n",
    "    division = no_one / no_two                                    # ZeroDivisionError: division by zero\n",
    "    print(\"The result of the division is: \", division)\n",
    "    break"
   ]
  },
  {
   "cell_type": "markdown",
   "metadata": {},
   "source": [
    "* We can ensure that our program continues without hesitation by using the try-except statement."
   ]
  },
  {
   "cell_type": "markdown",
   "metadata": {},
   "source": [
    "* The basic structure of try-except statement looks like:"
   ]
  },
  {
   "cell_type": "code",
   "execution_count": null,
   "metadata": {},
   "outputs": [],
   "source": [
    "try: \n",
    "    code block to be normally executed\n",
    "    \n",
    "except: \n",
    "    code block to be exceptionally executed"
   ]
  },
  {
   "cell_type": "code",
   "execution_count": 16,
   "metadata": {},
   "outputs": [
    {
     "name": "stdout",
     "output_type": "stream",
     "text": [
      "The first number please: 5\n",
      "The second number please: 0\n",
      "Something went wrong... Try again.\n",
      "The first number please: 4\n",
      "The second number please: 2\n",
      "The result of the division is:  2.0\n"
     ]
    }
   ],
   "source": [
    "# Let's fix this exception problem using try-except statement as follows and pass the numbers 5 and 0.\n",
    "\n",
    "while True:\n",
    "    no_one = int(input(\"The first number please: \"))\n",
    "    no_two = int(input(\"The second number please: \"))\n",
    "    try:\n",
    "        division = no_one / no_two                                   \n",
    "        print(\"The result of the division is: \", division)\n",
    "        break\n",
    "    except:\n",
    "        print(\"Something went wrong... Try again.\")"
   ]
  },
  {
   "cell_type": "code",
   "execution_count": 17,
   "metadata": {},
   "outputs": [
    {
     "name": "stdout",
     "output_type": "stream",
     "text": [
      "The first number please: 5\n",
      "The second number please: 0\n",
      "You can't divide by zero! Try again.\n",
      "The first number please: 4\n",
      "The second number please: k\n"
     ]
    },
    {
     "ename": "ValueError",
     "evalue": "invalid literal for int() with base 10: 'k'",
     "output_type": "error",
     "traceback": [
      "\u001b[1;31m---------------------------------------------------------------------------\u001b[0m",
      "\u001b[1;31mValueError\u001b[0m                                Traceback (most recent call last)",
      "\u001b[1;32m<ipython-input-17-af8de7af8955>\u001b[0m in \u001b[0;36m<module>\u001b[1;34m\u001b[0m\n\u001b[0;32m      3\u001b[0m \u001b[1;32mwhile\u001b[0m \u001b[1;32mTrue\u001b[0m\u001b[1;33m:\u001b[0m\u001b[1;33m\u001b[0m\u001b[1;33m\u001b[0m\u001b[0m\n\u001b[0;32m      4\u001b[0m     \u001b[0mno_one\u001b[0m \u001b[1;33m=\u001b[0m \u001b[0mint\u001b[0m\u001b[1;33m(\u001b[0m\u001b[0minput\u001b[0m\u001b[1;33m(\u001b[0m\u001b[1;34m\"The first number please: \"\u001b[0m\u001b[1;33m)\u001b[0m\u001b[1;33m)\u001b[0m\u001b[1;33m\u001b[0m\u001b[1;33m\u001b[0m\u001b[0m\n\u001b[1;32m----> 5\u001b[1;33m     \u001b[0mno_two\u001b[0m \u001b[1;33m=\u001b[0m \u001b[0mint\u001b[0m\u001b[1;33m(\u001b[0m\u001b[0minput\u001b[0m\u001b[1;33m(\u001b[0m\u001b[1;34m\"The second number please: \"\u001b[0m\u001b[1;33m)\u001b[0m\u001b[1;33m)\u001b[0m\u001b[1;33m\u001b[0m\u001b[1;33m\u001b[0m\u001b[0m\n\u001b[0m\u001b[0;32m      6\u001b[0m     \u001b[1;32mtry\u001b[0m\u001b[1;33m:\u001b[0m\u001b[1;33m\u001b[0m\u001b[1;33m\u001b[0m\u001b[0m\n\u001b[0;32m      7\u001b[0m         \u001b[0mdivision\u001b[0m \u001b[1;33m=\u001b[0m \u001b[0mno_one\u001b[0m \u001b[1;33m/\u001b[0m \u001b[0mno_two\u001b[0m\u001b[1;33m\u001b[0m\u001b[1;33m\u001b[0m\u001b[0m\n",
      "\u001b[1;31mValueError\u001b[0m: invalid literal for int() with base 10: 'k'"
     ]
    }
   ],
   "source": [
    "# This time let's specify the exception type which is ZeroDivisionError:\n",
    "\n",
    "while True:\n",
    "    no_one = int(input(\"The first number please: \"))\n",
    "    no_two = int(input(\"The second number please: \"))\n",
    "    try:\n",
    "        division = no_one / no_two                                   \n",
    "        print(\"The result of the division is: \", division)\n",
    "        break\n",
    "    except ZeroDivisionError:                                          # We specify the exception error\n",
    "        print(\"You can't divide by zero! Try again.\")\n",
    "        \n",
    "# Tips: Of course, whendo this, we anticipate which exception error we will encounter."
   ]
  },
  {
   "cell_type": "code",
   "execution_count": 1,
   "metadata": {},
   "outputs": [
    {
     "name": "stdout",
     "output_type": "stream",
     "text": [
      "The first number please: 5\n",
      "The second number please: k\n",
      "Something went wrong! Try again.\n"
     ]
    }
   ],
   "source": [
    "\n",
    "while True:\n",
    "    no_one = int(input(\"The first number please: \"))\n",
    "    no_two = input(\"The second number please: \")\n",
    "    try:\n",
    "        division = no_one / no_two                                   \n",
    "        print(\"The result of the division is: \", division)\n",
    "        break\n",
    "    except:                                          \n",
    "        print(\"Something went wrong! Try again.\")\n",
    "        break"
   ]
  },
  {
   "cell_type": "code",
   "execution_count": 2,
   "metadata": {},
   "outputs": [],
   "source": [
    "# Task 4: \n",
    "    # Try to open a non-existing file named my_file.txt to read using try-except block,\n",
    "    # Give the following message in case of exception raises:\n",
    "        # \"There is not such a file or the path is incorrect.\""
   ]
  },
  {
   "cell_type": "code",
   "execution_count": 3,
   "metadata": {},
   "outputs": [
    {
     "name": "stdout",
     "output_type": "stream",
     "text": [
      "The file does not exist or the pathname is incorrect!\n"
     ]
    }
   ],
   "source": [
    "try:\n",
    "    with open(\"new_file.txt\", \"r\") as file:\n",
    "        print(file.read())\n",
    "except:\n",
    "    print(\"The file does not exist or the pathname is incorrect!\")"
   ]
  },
  {
   "cell_type": "code",
   "execution_count": 6,
   "metadata": {},
   "outputs": [
    {
     "ename": "FileNotFoundError",
     "evalue": "[Errno 2] No such file or directory: 'new_file.txt'",
     "output_type": "error",
     "traceback": [
      "\u001b[1;31m---------------------------------------------------------------------------\u001b[0m",
      "\u001b[1;31mFileNotFoundError\u001b[0m                         Traceback (most recent call last)",
      "\u001b[1;32m<ipython-input-6-60448220a510>\u001b[0m in \u001b[0;36m<module>\u001b[1;34m\u001b[0m\n\u001b[1;32m----> 1\u001b[1;33m \u001b[1;32mwith\u001b[0m \u001b[0mopen\u001b[0m\u001b[1;33m(\u001b[0m\u001b[1;34m\"new_file.txt\"\u001b[0m\u001b[1;33m,\u001b[0m \u001b[1;34m\"r\"\u001b[0m\u001b[1;33m)\u001b[0m \u001b[1;32mas\u001b[0m \u001b[0mfile\u001b[0m\u001b[1;33m:\u001b[0m\u001b[1;33m\u001b[0m\u001b[1;33m\u001b[0m\u001b[0m\n\u001b[0m\u001b[0;32m      2\u001b[0m         \u001b[0mprint\u001b[0m\u001b[1;33m(\u001b[0m\u001b[0mfile\u001b[0m\u001b[1;33m.\u001b[0m\u001b[0mread\u001b[0m\u001b[1;33m(\u001b[0m\u001b[1;33m)\u001b[0m\u001b[1;33m)\u001b[0m\u001b[1;33m\u001b[0m\u001b[1;33m\u001b[0m\u001b[0m\n",
      "\u001b[1;31mFileNotFoundError\u001b[0m: [Errno 2] No such file or directory: 'new_file.txt'"
     ]
    }
   ],
   "source": [
    "with open(\"new_file.txt\", \"r\") as file:\n",
    "        print(file.read())"
   ]
  },
  {
   "cell_type": "code",
   "execution_count": 7,
   "metadata": {},
   "outputs": [
    {
     "name": "stdout",
     "output_type": "stream",
     "text": [
      "The file does not exist or the pathname is incorrect!\n"
     ]
    }
   ],
   "source": [
    "try:\n",
    "    with open(\"new_file.txt\", \"r\") as file:\n",
    "        print(file.read())\n",
    "except FileNotFoundError:\n",
    "    print(\"The file does not exist or the pathname is incorrect!\")"
   ]
  },
  {
   "cell_type": "markdown",
   "metadata": {},
   "source": [
    "# Full 'Exception Handling Block' "
   ]
  },
  {
   "cell_type": "markdown",
   "metadata": {},
   "source": [
    "* The full version of try-except statement is as follows:\n",
    "\n",
    "            try:\n",
    "                statements   \n",
    "                ...           try- execute this as a normal part of the program\n",
    "                \n",
    "              \n",
    "            except:\n",
    "                statements\n",
    "                ...           except- execute this when there is an exception\n",
    "                \n",
    "             \n",
    "            else:\n",
    "                statements\n",
    "                ....          else- execute this only if no exceptions are raised\n",
    "                \n",
    "                \n",
    "            \n",
    "            finally:\n",
    "                statements\n",
    "                ...           finally - always execute this"
   ]
  },
  {
   "cell_type": "markdown",
   "metadata": {},
   "source": [
    "* Let's make some explanations about the process:\n",
    "\n",
    "        * First, Python executes all statements between try and except.\n",
    "        \n",
    "        * If there is no exception, then the try block is successfully executed and finished.\n",
    "        \n",
    "        * If an exception raises, the rest of the try block is ignored. After that, Python interpreter checks if the type of exception matches the exception specified after the except keyword, it executes the except block and resumes executing the program after try-except block.\n",
    "        \n",
    "        * If an exception doesn't match the exception named in the except syntax, it is known an unhandled exception and execution of your program stops with a traceback error message.\n",
    "        \n",
    "        * The else-block is only executed if there raised no exceptions.\n",
    "        \n",
    "        * We can use a finally syntax at the end of the block. A finally syntax is always executed before leaving the try-except block, whether an exception was raised or not."
   ]
  },
  {
   "cell_type": "code",
   "execution_count": 8,
   "metadata": {},
   "outputs": [],
   "source": [
    "# Execute try: exception ==> stop running the try block and move to except block\n",
    "     #          |--> match the selected exception\n",
    "     #                      |--> The selected exception doesn't match: Ignore the rest of the exception block and stop running with a traceback error message.\n",
    "                    \n",
    "     #                      |--> The selected exception matches: Execute exception block and complete the try block\n",
    "        \n",
    "     #                      |\n",
    "     #                      |--> EXECUTE FINALLY BLOCK\n",
    "        \n",
    "    #          no exception ==> ignore except block and start executing else block\n",
    "    #                       |\n",
    "    #                       |--> EXECUTE FINALLY BLOCK"
   ]
  },
  {
   "cell_type": "markdown",
   "metadata": {},
   "source": [
    "# Implementation of the Full 'Exception Handling Block'"
   ]
  },
  {
   "cell_type": "code",
   "execution_count": 4,
   "metadata": {},
   "outputs": [
    {
     "name": "stdout",
     "output_type": "stream",
     "text": [
      "The first number please: 8\n",
      "The second number please: 4\n",
      "The result of the division is:  2.0\n",
      "Thanks for using our mini division calculator! Come again!\n"
     ]
    }
   ],
   "source": [
    "while True:\n",
    "    no_one = int(input(\"The first number please: \"))\n",
    "    no_two = int(input(\"The second number please: \"))\n",
    "    try:\n",
    "        division = no_one / no_two                              # Normal part of the program                              \n",
    "    except ZeroDivisionError:    \n",
    "        print(\"You can't divide by zero! Try again.\")           # Executes when division by zero\n",
    "    else:\n",
    "        print(\"The result of the division is: \", division)      # Executes if there is no exception\n",
    "    finally:\n",
    "        print(\"Thanks for using our mini division calculator! Come again!\")\n",
    "        break                                                   # Exists the while loop"
   ]
  },
  {
   "cell_type": "code",
   "execution_count": 2,
   "metadata": {},
   "outputs": [
    {
     "name": "stdout",
     "output_type": "stream",
     "text": [
      "The first number please: 4\n",
      "The second number please: 2\n",
      "The result of the division is: 2.0\n",
      "Thanks for using our mini division calculator! Come again!\n"
     ]
    }
   ],
   "source": [
    "while True:\n",
    "    no_one = int(input(\"The first number please: \"))\n",
    "    no_two = int(input(\"The second number please: \"))\n",
    "    try:\n",
    "        division = no_one / no_two                              # Normal part of the program\n",
    "        print(f'The result of the division is: {division}')\n",
    "        break\n",
    "    except ZeroDivisionError:    \n",
    "        print(\"You can't divide by zero! Try again.\")           # Executes when division by zero\n",
    "    else:\n",
    "        print(\"The result of the division is: \", division)      # Executes if there is no exception\n",
    "    finally:\n",
    "        print(\"Thanks for using our mini division calculator! Come again!\")\n",
    "        break                                                   # Exists the while loop"
   ]
  },
  {
   "cell_type": "code",
   "execution_count": 7,
   "metadata": {},
   "outputs": [
    {
     "name": "stdout",
     "output_type": "stream",
     "text": [
      "The first number please: 7\n",
      "The second number please: 0\n",
      "You can't divide by zero! Try again.\n",
      "Thanks for using our mini division calculator! Come again!\n",
      "The first number please: 7\n",
      "The second number please: k\n"
     ]
    },
    {
     "ename": "ValueError",
     "evalue": "invalid literal for int() with base 10: 'k'",
     "output_type": "error",
     "traceback": [
      "\u001b[1;31m---------------------------------------------------------------------------\u001b[0m",
      "\u001b[1;31mValueError\u001b[0m                                Traceback (most recent call last)",
      "\u001b[1;32m<ipython-input-7-bf8ae6eb3c58>\u001b[0m in \u001b[0;36m<module>\u001b[1;34m\u001b[0m\n\u001b[0;32m      1\u001b[0m \u001b[1;32mwhile\u001b[0m \u001b[1;32mTrue\u001b[0m\u001b[1;33m:\u001b[0m\u001b[1;33m\u001b[0m\u001b[1;33m\u001b[0m\u001b[0m\n\u001b[0;32m      2\u001b[0m     \u001b[0mno_one\u001b[0m \u001b[1;33m=\u001b[0m \u001b[0mint\u001b[0m\u001b[1;33m(\u001b[0m\u001b[0minput\u001b[0m\u001b[1;33m(\u001b[0m\u001b[1;34m\"The first number please: \"\u001b[0m\u001b[1;33m)\u001b[0m\u001b[1;33m)\u001b[0m\u001b[1;33m\u001b[0m\u001b[1;33m\u001b[0m\u001b[0m\n\u001b[1;32m----> 3\u001b[1;33m     \u001b[0mno_two\u001b[0m \u001b[1;33m=\u001b[0m \u001b[0mint\u001b[0m\u001b[1;33m(\u001b[0m\u001b[0minput\u001b[0m\u001b[1;33m(\u001b[0m\u001b[1;34m\"The second number please: \"\u001b[0m\u001b[1;33m)\u001b[0m\u001b[1;33m)\u001b[0m\u001b[1;33m\u001b[0m\u001b[1;33m\u001b[0m\u001b[0m\n\u001b[0m\u001b[0;32m      4\u001b[0m     \u001b[1;32mtry\u001b[0m\u001b[1;33m:\u001b[0m\u001b[1;33m\u001b[0m\u001b[1;33m\u001b[0m\u001b[0m\n\u001b[0;32m      5\u001b[0m         \u001b[0mdivision\u001b[0m \u001b[1;33m=\u001b[0m \u001b[0mno_one\u001b[0m \u001b[1;33m/\u001b[0m \u001b[0mno_two\u001b[0m                              \u001b[1;31m# Normal part of the program\u001b[0m\u001b[1;33m\u001b[0m\u001b[1;33m\u001b[0m\u001b[0m\n",
      "\u001b[1;31mValueError\u001b[0m: invalid literal for int() with base 10: 'k'"
     ]
    }
   ],
   "source": [
    "while True:\n",
    "    no_one = int(input(\"The first number please: \"))\n",
    "    no_two = int(input(\"The second number please: \"))\n",
    "    try:\n",
    "        division = no_one / no_two                              # Normal part of the program  \n",
    "        print(f'The result of the division is: {division}')\n",
    "        break\n",
    "    except ZeroDivisionError:    \n",
    "        print(\"You can't divide by zero! Try again.\")           # Executes when division by zero\n",
    "    else:\n",
    "        print(\"The result of the division is: \", division)      # Executes if there is no exception\n",
    "    finally:\n",
    "        print(\"Thanks for using our mini division calculator! Come again!\")\n",
    "                                                         # Exists the while loop"
   ]
  },
  {
   "cell_type": "code",
   "execution_count": 8,
   "metadata": {},
   "outputs": [
    {
     "name": "stdout",
     "output_type": "stream",
     "text": [
      "The first number please: 4\n",
      "The second number please: 0\n",
      "Something went wrong... Try again.\n",
      "Probabaly it is because of 'division by zero' error\n"
     ]
    }
   ],
   "source": [
    "while True:\n",
    "    no_one = int(input(\"The first number please: \"))\n",
    "    no_two = int(input(\"The second number please: \"))\n",
    "    try:\n",
    "        division = no_one / no_two\n",
    "        print(\"The result of the division is: \", division)\n",
    "        break\n",
    "    except Exception as e:\n",
    "        print(\"Something went wrong... Try again.\")\n",
    "        print(\"Probabaly it is because of '{}' error\".format(e))\n",
    "        break"
   ]
  },
  {
   "cell_type": "code",
   "execution_count": 9,
   "metadata": {},
   "outputs": [
    {
     "name": "stdout",
     "output_type": "stream",
     "text": [
      "The first number please: 5\n",
      "The second number please: k\n",
      "invalid literal for int() with base 10: 'k'\n"
     ]
    }
   ],
   "source": [
    "try:    \n",
    "    while True:\n",
    "        no_one = int(input(\"The first number please: \"))\n",
    "        no_two = int(input(\"The second number please: \"))\n",
    "        try:\n",
    "            division = no_one / no_two\n",
    "            print(\"The result of the division is: \", division)\n",
    "            break\n",
    "        except Exception as e:\n",
    "            print(\"Something went wrong... Try again.\")\n",
    "            print(\"Probabaly it is because of '{}' error\".format(e))\n",
    "            break\n",
    "except Exception as e:\n",
    "    print(e)"
   ]
  },
  {
   "cell_type": "code",
   "execution_count": 10,
   "metadata": {},
   "outputs": [
    {
     "name": "stdout",
     "output_type": "stream",
     "text": [
      "All is good!\n"
     ]
    }
   ],
   "source": [
    "try:\n",
    "    x = 4 / 1\n",
    "except:\n",
    "    print(\"Something went wrong\")\n",
    "else:\n",
    "    print(\"All is good!\")"
   ]
  },
  {
   "cell_type": "code",
   "execution_count": 11,
   "metadata": {},
   "outputs": [
    {
     "name": "stdout",
     "output_type": "stream",
     "text": [
      "Something went wrong\n",
      "division by zero\n"
     ]
    }
   ],
   "source": [
    "try:\n",
    "    x = 4 / 0\n",
    "    print(x)\n",
    "except Exception as e:\n",
    "    print(\"Something went wrong\")\n",
    "    print(e)\n",
    "else:\n",
    "    print(\"All is good!\")"
   ]
  },
  {
   "cell_type": "code",
   "execution_count": 12,
   "metadata": {},
   "outputs": [
    {
     "name": "stdout",
     "output_type": "stream",
     "text": [
      "Something went wrong\n",
      "division by zero\n",
      "I am always executed!\n"
     ]
    }
   ],
   "source": [
    "try:\n",
    "    x = 4 / 0\n",
    "    print(x)\n",
    "except Exception as e:\n",
    "    print(\"Something went wrong\")\n",
    "    print(e)\n",
    "else:\n",
    "    print(\"All is good!\")\n",
    "finally:\n",
    "    print(\"I am always executed!\")"
   ]
  },
  {
   "cell_type": "code",
   "execution_count": 14,
   "metadata": {},
   "outputs": [
    {
     "name": "stdout",
     "output_type": "stream",
     "text": [
      "line1\n",
      "line2\n",
      "\n",
      "File existing and opened\n"
     ]
    }
   ],
   "source": [
    "try:\n",
    "    f = open('my_file.txt', 'r')\n",
    "    print(f.read())\n",
    "except:\n",
    "    print('Something went wrong')\n",
    "else:\n",
    "    print(\"File existing and opened\")\n",
    "finally:\n",
    "    f.close()"
   ]
  },
  {
   "cell_type": "code",
   "execution_count": 15,
   "metadata": {},
   "outputs": [
    {
     "ename": "ValueError",
     "evalue": "I/O operation on closed file.",
     "output_type": "error",
     "traceback": [
      "\u001b[1;31m---------------------------------------------------------------------------\u001b[0m",
      "\u001b[1;31mValueError\u001b[0m                                Traceback (most recent call last)",
      "\u001b[1;32m<ipython-input-15-571e9fb02258>\u001b[0m in \u001b[0;36m<module>\u001b[1;34m\u001b[0m\n\u001b[1;32m----> 1\u001b[1;33m \u001b[0mf\u001b[0m\u001b[1;33m.\u001b[0m\u001b[0mread\u001b[0m\u001b[1;33m(\u001b[0m\u001b[1;33m)\u001b[0m\u001b[1;33m\u001b[0m\u001b[1;33m\u001b[0m\u001b[0m\n\u001b[0m",
      "\u001b[1;31mValueError\u001b[0m: I/O operation on closed file."
     ]
    }
   ],
   "source": [
    "f.read()"
   ]
  },
  {
   "cell_type": "code",
   "execution_count": 16,
   "metadata": {},
   "outputs": [
    {
     "name": "stdout",
     "output_type": "stream",
     "text": [
      "Attempt to divide by Zero!\n"
     ]
    }
   ],
   "source": [
    "try: \n",
    "    x = 2 / 0\n",
    "except ZeroDivisionError:\n",
    "    print(\"Attempt to divide by Zero!\")\n",
    "except:\n",
    "    print(\"Something else went wrong\")"
   ]
  },
  {
   "cell_type": "code",
   "execution_count": 17,
   "metadata": {},
   "outputs": [
    {
     "name": "stdout",
     "output_type": "stream",
     "text": [
      "Something else went wrong\n"
     ]
    }
   ],
   "source": [
    "try: \n",
    "    x = 2 / k\n",
    "except ZeroDivisionError:\n",
    "    print(\"Attempt to divide by Zero!\")\n",
    "except:\n",
    "    print(\"Something else went wrong\")"
   ]
  },
  {
   "cell_type": "code",
   "execution_count": 18,
   "metadata": {},
   "outputs": [
    {
     "name": "stdout",
     "output_type": "stream",
     "text": [
      "The error is : name 'k' is not defined\n"
     ]
    }
   ],
   "source": [
    "try: \n",
    "    x = 2 / k\n",
    "except Exception as e:\n",
    "    print(f\"The error is : {e}\")\n"
   ]
  },
  {
   "cell_type": "code",
   "execution_count": 23,
   "metadata": {},
   "outputs": [
    {
     "name": "stdout",
     "output_type": "stream",
     "text": [
      "The error is : math domain error\n"
     ]
    }
   ],
   "source": [
    "import math \n",
    "\n",
    "try: \n",
    "    x = 2 / math.sqrt(-1)\n",
    "except Exception as e:\n",
    "    print(f\"The error is : {e}\")\n"
   ]
  },
  {
   "cell_type": "code",
   "execution_count": 22,
   "metadata": {},
   "outputs": [
    {
     "name": "stdout",
     "output_type": "stream",
     "text": [
      "The error is : unsupported operand type(s) for /: 'int' and 'str'\n"
     ]
    }
   ],
   "source": [
    "import math \n",
    "\n",
    "try: \n",
    "    x = 2 / ''\n",
    "except Exception as e:\n",
    "    print(f\"The error is : {e}\")"
   ]
  }
 ],
 "metadata": {
  "kernelspec": {
   "display_name": "Python 3",
   "language": "python",
   "name": "python3"
  },
  "language_info": {
   "codemirror_mode": {
    "name": "ipython",
    "version": 3
   },
   "file_extension": ".py",
   "mimetype": "text/x-python",
   "name": "python",
   "nbconvert_exporter": "python",
   "pygments_lexer": "ipython3",
   "version": "3.8.5"
  }
 },
 "nbformat": 4,
 "nbformat_minor": 4
}
