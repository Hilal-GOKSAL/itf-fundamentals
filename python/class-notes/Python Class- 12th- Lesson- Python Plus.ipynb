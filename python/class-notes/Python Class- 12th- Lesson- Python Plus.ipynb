{
 "cells": [
  {
   "cell_type": "markdown",
   "metadata": {},
   "source": [
    "# Python Plus"
   ]
  },
  {
   "cell_type": "markdown",
   "metadata": {},
   "source": [
    "#### Functions\n",
    "#### Modules & Packages\n",
    "#### Working with Files\n",
    "#### Errors & Exceptions Handling"
   ]
  },
  {
   "cell_type": "code",
   "execution_count": null,
   "metadata": {},
   "outputs": [],
   "source": []
  },
  {
   "cell_type": "code",
   "execution_count": null,
   "metadata": {},
   "outputs": [],
   "source": []
  },
  {
   "cell_type": "markdown",
   "metadata": {},
   "source": [
    "# Introduction to Functions "
   ]
  },
  {
   "cell_type": "markdown",
   "metadata": {},
   "source": [
    "Functions are basically block of code.\n",
    "\n",
    "--> # for loops, if-elif-else conditions, while loops"
   ]
  },
  {
   "cell_type": "code",
   "execution_count": null,
   "metadata": {},
   "outputs": [],
   "source": [
    "modules\n",
    "    functions"
   ]
  },
  {
   "cell_type": "code",
   "execution_count": null,
   "metadata": {},
   "outputs": [],
   "source": [
    "# Functions free us from choas:\n",
    "    for variable1 in iterable:\n",
    "        if condition1:\n",
    "            for variable2 in iterable2:\n",
    "                if condition2:\n",
    "                    for varaible3 in iterable3:\n",
    "                        if condition3:\n",
    "                            print(\"execute body1\")\n",
    "                        else:\n",
    "                            print(\"execute body2\")\n",
    "                else:\n",
    "                    print(\"execute body3\")\n",
    "        else:\n",
    "            print(\"execute body4\")\n",
    "            \n",
    "    #Functions frees us from choas"
   ]
  },
  {
   "cell_type": "code",
   "execution_count": null,
   "metadata": {},
   "outputs": [],
   "source": [
    "for variable in iterable:\n",
    "    if condition:\n",
    "        print(\"execute body\")\n",
    "    else:                                 # You can choose a piecee of code to convert into a function.\n",
    "        print(\"execute other body\")\n",
    "        \n",
    "            |\n",
    "            |\n",
    "            |\n",
    "            \n",
    "for variable in iterable:\n",
    "    if condition:\n",
    "        print(\"execute body\")\n",
    "    else:                                 # You can create a function which does what you want.\n",
    "        print(\"execute other body\")\n",
    "            |\n",
    "            |\n",
    "            |\n",
    "            \n",
    "my_function(iterable)                    # You can call and use your function whenever and whereever you want."
   ]
  },
  {
   "cell_type": "code",
   "execution_count": null,
   "metadata": {},
   "outputs": [],
   "source": [
    "# Reading a function is very easy in Python.\n",
    "\n",
    "    # multiply(2,5)\n",
    "    \n",
    "# name of      # arguments of the function\n",
    "#the function"
   ]
  },
  {
   "cell_type": "code",
   "execution_count": 12,
   "metadata": {},
   "outputs": [
    {
     "name": "stdout",
     "output_type": "stream",
     "text": [
      "10\n"
     ]
    }
   ],
   "source": [
    "def multiply(a,b):\n",
    "    print(a * b)\n",
    "    \n",
    "multiply(2,5)"
   ]
  },
  {
   "cell_type": "code",
   "execution_count": 13,
   "metadata": {},
   "outputs": [
    {
     "name": "stdout",
     "output_type": "stream",
     "text": [
      "15\n"
     ]
    }
   ],
   "source": [
    "multiply(3,5)"
   ]
  },
  {
   "cell_type": "code",
   "execution_count": 16,
   "metadata": {},
   "outputs": [
    {
     "name": "stdout",
     "output_type": "stream",
     "text": [
      "Say : I love you! \n"
     ]
    }
   ],
   "source": [
    "# Calling print() function:\n",
    "print(\"Say : I love you! \")\n",
    "    \n",
    "# print= name of the function\n",
    "# string inside the qoutes implies argument of the function "
   ]
  },
  {
   "cell_type": "markdown",
   "metadata": {},
   "source": [
    "# Built-in Functions"
   ]
  },
  {
   "cell_type": "code",
   "execution_count": null,
   "metadata": {},
   "outputs": [],
   "source": [
    "print()\n",
    "int()\n",
    "list()\n",
    "input()\n",
    "range()\n",
    "\n",
    "all(iterable)\n",
    "any(iterable)\n",
    "callable(object)"
   ]
  },
  {
   "cell_type": "code",
   "execution_count": 17,
   "metadata": {},
   "outputs": [
    {
     "data": {
      "text/plain": [
       "False"
      ]
     },
     "execution_count": 17,
     "metadata": {},
     "output_type": "execute_result"
    }
   ],
   "source": [
    "ls1 = [1,2,3,60, 0,]\n",
    "all(ls1)     # even one element has Falsy value all() function returns False."
   ]
  },
  {
   "cell_type": "code",
   "execution_count": 18,
   "metadata": {},
   "outputs": [
    {
     "data": {
      "text/plain": [
       "True"
      ]
     },
     "execution_count": 18,
     "metadata": {},
     "output_type": "execute_result"
    }
   ],
   "source": [
    "any(ls1)  # on the other hand, for function any() at least one Truty value lead to return True."
   ]
  },
  {
   "cell_type": "code",
   "execution_count": 19,
   "metadata": {},
   "outputs": [],
   "source": [
    "var1 = 100"
   ]
  },
  {
   "cell_type": "code",
   "execution_count": 20,
   "metadata": {},
   "outputs": [
    {
     "data": {
      "text/plain": [
       "False"
      ]
     },
     "execution_count": 20,
     "metadata": {},
     "output_type": "execute_result"
    }
   ],
   "source": [
    "callable(var1)"
   ]
  },
  {
   "cell_type": "code",
   "execution_count": 21,
   "metadata": {},
   "outputs": [
    {
     "name": "stdout",
     "output_type": "stream",
     "text": [
      "6\n"
     ]
    },
    {
     "data": {
      "text/plain": [
       "False"
      ]
     },
     "execution_count": 21,
     "metadata": {},
     "output_type": "execute_result"
    }
   ],
   "source": [
    "mult = multiply(2,3)\n",
    "callable(mult)"
   ]
  },
  {
   "cell_type": "code",
   "execution_count": null,
   "metadata": {},
   "outputs": [],
   "source": [
    "# Some of them help you convert data types:\n",
    "  bool(), float(), int(), str()  "
   ]
  },
  {
   "cell_type": "code",
   "execution_count": null,
   "metadata": {},
   "outputs": [],
   "source": [
    "# For creating and processing the collection types:\n",
    "    dict(), list(), tuple(), set(), len(), zip(), filter(function, iterable), enumerate(iterable)"
   ]
  },
  {
   "cell_type": "code",
   "execution_count": 22,
   "metadata": {},
   "outputs": [
    {
     "name": "stdout",
     "output_type": "stream",
     "text": [
      "{'one': 1, 'two': 2, 'three': 3, 'four': 4, 'five': 5}\n"
     ]
    }
   ],
   "source": [
    "text = [\"one\", \"two\", \"three\", \"four\", \"five\"]\n",
    "number = [1,2,3,4,5,6,7,8]\n",
    "dict1 = dict(zip(text, number))\n",
    "print(dict1)"
   ]
  },
  {
   "cell_type": "code",
   "execution_count": null,
   "metadata": {},
   "outputs": [],
   "source": [
    "# Some others tackle numbers.\n",
    "    max(), min(), sum(), round()"
   ]
  },
  {
   "cell_type": "code",
   "execution_count": null,
   "metadata": {},
   "outputs": [],
   "source": [
    "# The others are built for special purposes.\n",
    "    map(function, iterable, ...)\n",
    "    eval(expression[, globals[, locals]])\n",
    "    sorted(iterable)\n",
    "    open()\n",
    "    dir([object])\n",
    "    help([object])"
   ]
  },
  {
   "cell_type": "markdown",
   "metadata": {},
   "source": [
    "# all () function"
   ]
  },
  {
   "cell_type": "code",
   "execution_count": 23,
   "metadata": {},
   "outputs": [
    {
     "name": "stdout",
     "output_type": "stream",
     "text": [
      "True\n",
      "False\n",
      "True\n"
     ]
    }
   ],
   "source": [
    "names = [\"susan\", \"tom\", \"False\"]\n",
    "mood = [\"happy\", \"sad\", 0]\n",
    "empty = {}                                     # all()--> checks if the all the items are same or not.\n",
    "\n",
    "print(all(names), all(mood), all(empty), sep='\\n')"
   ]
  },
  {
   "cell_type": "code",
   "execution_count": null,
   "metadata": {},
   "outputs": [],
   "source": [
    "Truth table for all()\n",
    "\n",
    "WHEN                                                          RETURN VALUE\n",
    "All values are true --------                                    True\n",
    "All values are false--------                                    False\n",
    "One value is true (others are false) ------------               False\n",
    "One value is false (others are true)------------                False\n",
    "Empty Iterable ---------------------------------                True\n",
    "\n",
    "# all() function reminds \"and\" operator"
   ]
  },
  {
   "cell_type": "markdown",
   "metadata": {},
   "source": [
    "# any() function"
   ]
  },
  {
   "cell_type": "code",
   "execution_count": 24,
   "metadata": {},
   "outputs": [
    {
     "name": "stdout",
     "output_type": "stream",
     "text": [
      "True\n",
      "True\n",
      "False\n"
     ]
    }
   ],
   "source": [
    "listA = [\"susan\", \"tom\", False]\n",
    "listB = [None, (), 0]\n",
    "empty = {}\n",
    "\n",
    "print(any(names), any(mood), any(empty), sep='\\n')"
   ]
  },
  {
   "cell_type": "code",
   "execution_count": null,
   "metadata": {},
   "outputs": [],
   "source": [
    "# any\n",
    "\n",
    "Signature: any(iterable, /)\n",
    "Docstring:\n",
    "Return True if bool(x) is True for any x in the iterable.\n",
    "\n",
    "If the iterable is empty, return False.\n",
    "Type:      builtin_function_or_method"
   ]
  },
  {
   "cell_type": "code",
   "execution_count": null,
   "metadata": {},
   "outputs": [],
   "source": [
    "# any() function:\n",
    "\n",
    "CONDITION                                   RETURN VALUE\n",
    "All values are true ---------------------   True\n",
    "All values are false --------------------   False\n",
    "One value is true(others are false)------   True\n",
    "One value is false(others are true)------   True\n",
    "Empty iterable --------------------------   False\n",
    "\n",
    "# any() function reminds the \"or\" operator."
   ]
  },
  {
   "cell_type": "markdown",
   "metadata": {},
   "source": [
    "# filter(function, iterable) "
   ]
  },
  {
   "cell_type": "code",
   "execution_count": null,
   "metadata": {},
   "outputs": [],
   "source": [
    "filter() method takes two parameters:\n",
    "    function- function that tests if elements of an iterable return true or false\n",
    "If None, the function defaults to Identify function- which returns false if any elements are false\n",
    "\n",
    "    iterable- iterable which is to be filtered, could be sets, lists, tuples or containers of any iterators.\n",
    "    "
   ]
  },
  {
   "cell_type": "code",
   "execution_count": null,
   "metadata": {},
   "outputs": [],
   "source": [
    "filter function take iterables if the function is True\n",
    "if the function is False, filter function will not take the iterables."
   ]
  },
  {
   "cell_type": "code",
   "execution_count": 4,
   "metadata": {},
   "outputs": [
    {
     "name": "stdout",
     "output_type": "stream",
     "text": [
      "The filtered elements are: \n",
      "susan\n",
      "tom\n",
      "False\n"
     ]
    }
   ],
   "source": [
    "listA = [\"susan\", \"tom\", \"False\"]\n",
    "filtered_list = filter(None, listA)        # filter() function gives us all the Truty values.\n",
    "\n",
    "print(\"The filtered elements are: \")\n",
    "\n",
    "for i in filtered_list:\n",
    "    print(i)"
   ]
  },
  {
   "cell_type": "code",
   "execution_count": 5,
   "metadata": {},
   "outputs": [
    {
     "name": "stdout",
     "output_type": "stream",
     "text": [
      "The filtered elements are: \n",
      "susan\n",
      "tom\n",
      "0\n"
     ]
    }
   ],
   "source": [
    "listA = [\"susan\", \"tom\", False, 0, \"0\"]\n",
    "filtered_list = filter(None, listA)             # filter() function gives us all the Truty values like; all the strings.\n",
    "\n",
    "print(\"The filtered elements are: \")\n",
    "\n",
    "for i in filtered_list:\n",
    "    print(i)"
   ]
  },
  {
   "cell_type": "code",
   "execution_count": 9,
   "metadata": {},
   "outputs": [
    {
     "name": "stdout",
     "output_type": "stream",
     "text": [
      "[1, 3, 5, 13]\n",
      "<class 'filter'>\n",
      "<filter object at 0x000002ED885852B0>\n"
     ]
    }
   ],
   "source": [
    "ls2 = [0,1,2,3,5,8,13]\n",
    "result = filter(lambda x: x % 2 != 0, ls2)\n",
    "print(list(result))\n",
    "print(type(result))\n",
    "print(result)"
   ]
  },
  {
   "cell_type": "code",
   "execution_count": 10,
   "metadata": {},
   "outputs": [
    {
     "name": "stdout",
     "output_type": "stream",
     "text": [
      "[1, 2, 3, 5, 8, 13]\n",
      "<class 'filter'>\n",
      "<filter object at 0x000002ED884B08B0>\n"
     ]
    }
   ],
   "source": [
    "ls2 = [0,1,2,3,5,8,13]\n",
    "result = filter(None, ls2)    # it will give all the Truty values in an object (to make it visible we need to use certain methods) in this case as \"0\" is Falsy value so that it will not give it as a result.\n",
    "print(list(result))\n",
    "print(type(result))\n",
    "print(result)"
   ]
  },
  {
   "cell_type": "markdown",
   "metadata": {},
   "source": [
    "# enumerate(iterable, start=0)"
   ]
  },
  {
   "cell_type": "code",
   "execution_count": null,
   "metadata": {},
   "outputs": [],
   "source": [
    "enumerate() Parameters:\n",
    "    It takes two parameters:\n",
    "        -iterable: a sequence, an iterator, or objects that support iteration\n",
    "        -start(optional)- enumerate() starts counting from this number. If start is omitted, 0 is takes as start.\n",
    "    "
   ]
  },
  {
   "cell_type": "code",
   "execution_count": 11,
   "metadata": {},
   "outputs": [
    {
     "name": "stdout",
     "output_type": "stream",
     "text": [
      "<class 'enumerate'>\n",
      "[(0, 'bread'), (1, 'water'), (2, 'olive')]\n",
      "[(10, 'bread'), (11, 'water'), (12, 'olive')]\n"
     ]
    }
   ],
   "source": [
    "grocery = [\"bread\", \"water\", \"olive\"]\n",
    "enum_grocery = enumerate(grocery)     # it's gone start from the zero.\n",
    "\n",
    "print(type(enum_grocery))\n",
    "print(list(enum_grocery))\n",
    "\n",
    "enum_grocery = enumerate(grocery, 10)   # it's gone start from 10.\n",
    "print(list(enum_grocery))"
   ]
  },
  {
   "cell_type": "markdown",
   "metadata": {},
   "source": [
    "# Max() & Min()"
   ]
  },
  {
   "cell_type": "code",
   "execution_count": 13,
   "metadata": {},
   "outputs": [
    {
     "name": "stdout",
     "output_type": "stream",
     "text": [
      "16\n",
      "-222\n"
     ]
    }
   ],
   "source": [
    "number = [-222, 0, 16, 5, 10, 6]\n",
    "largest_number = max(number)\n",
    "smallest_number = min(number)\n",
    "\n",
    "print(largest_number, smallest_number, sep='\\n')"
   ]
  },
  {
   "cell_type": "markdown",
   "metadata": {},
   "source": [
    "# Sum()"
   ]
  },
  {
   "cell_type": "code",
   "execution_count": 14,
   "metadata": {},
   "outputs": [
    {
     "name": "stdout",
     "output_type": "stream",
     "text": [
      "21.5\n"
     ]
    }
   ],
   "source": [
    "numbers = [2.5, 30, 4, -15]\n",
    "numbers_sum = sum(numbers)\n",
    "print(numbers_sum)"
   ]
  },
  {
   "cell_type": "code",
   "execution_count": 16,
   "metadata": {},
   "outputs": [
    {
     "name": "stdout",
     "output_type": "stream",
     "text": [
      "41.5\n"
     ]
    }
   ],
   "source": [
    "numbers = [2.5, 30, 4, -15]\n",
    "numbers_sum = sum(numbers, 20)   # it start from 20 and then adding up the rest.\n",
    "print(numbers_sum)"
   ]
  },
  {
   "cell_type": "markdown",
   "metadata": {},
   "source": [
    "# Round()"
   ]
  },
  {
   "cell_type": "code",
   "execution_count": null,
   "metadata": {},
   "outputs": [],
   "source": [
    "round() takes two parameters:\n",
    "    -number: the number to be rounded.\n",
    "    -ndigits(optional): number up to which the given number is rounded; defaults to 0"
   ]
  },
  {
   "cell_type": "code",
   "execution_count": 17,
   "metadata": {},
   "outputs": [
    {
     "name": "stdout",
     "output_type": "stream",
     "text": [
      "12\n",
      "11\n",
      "3.67\n",
      "3.67\n"
     ]
    }
   ],
   "source": [
    "print(round(12))\n",
    "print(round(10.8))\n",
    "print(round(3.665, 2))    # round in two decimal place.\n",
    "print(round(3.675, 2))"
   ]
  },
  {
   "cell_type": "code",
   "execution_count": null,
   "metadata": {},
   "outputs": [],
   "source": []
  }
 ],
 "metadata": {
  "kernelspec": {
   "display_name": "Python 3",
   "language": "python",
   "name": "python3"
  },
  "language_info": {
   "codemirror_mode": {
    "name": "ipython",
    "version": 3
   },
   "file_extension": ".py",
   "mimetype": "text/x-python",
   "name": "python",
   "nbconvert_exporter": "python",
   "pygments_lexer": "ipython3",
   "version": "3.8.5"
  }
 },
 "nbformat": 4,
 "nbformat_minor": 4
}
