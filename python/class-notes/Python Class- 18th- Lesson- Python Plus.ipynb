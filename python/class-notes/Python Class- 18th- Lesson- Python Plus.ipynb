{
 "cells": [
  {
   "cell_type": "markdown",
   "metadata": {},
   "source": [
    "# Reading Files"
   ]
  },
  {
   "cell_type": "markdown",
   "metadata": {},
   "source": [
    "#####  open() Function\n",
    "##### mode Parameter\n",
    "##### Reading the Files with .read() Method\n",
    "##### Reading the Files with .readline() Method\n",
    "##### Reading the Files with .readlines() Method\n",
    "##### Reading the Files with Loops\n",
    "##### The Matter of Closing the Files"
   ]
  },
  {
   "cell_type": "markdown",
   "metadata": {},
   "source": [
    "Parameters of the open() function:\n",
    "\n",
    "* open(file, mode='r, buffering = -1, encoding= None, errors = None, newline= None, closefd= True, opener= None)"
   ]
  },
  {
   "cell_type": "markdown",
   "metadata": {},
   "source": [
    "We will mostly examine and work with some of the following parameters of the open() function:\n",
    "* file\n",
    "* mode\n",
    "* encoding"
   ]
  },
  {
   "cell_type": "markdown",
   "metadata": {},
   "source": [
    "* file is the only required parameter of the open() function. This parameter is a path-like object which is a str or bytes that represents a path in the file directory.\n",
    "\n",
    "* --> open(\"file_name_and_path\")"
   ]
  },
  {
   "cell_type": "markdown",
   "metadata": {},
   "source": [
    "You can see the current path of your Jupyter using pwd command."
   ]
  },
  {
   "cell_type": "code",
   "execution_count": 1,
   "metadata": {},
   "outputs": [
    {
     "data": {
      "text/plain": [
       "'C:\\\\Users\\\\Bilgisayar\\\\Clarusway- Python Classes (EN)'"
      ]
     },
     "execution_count": 1,
     "metadata": {},
     "output_type": "execute_result"
    }
   ],
   "source": [
    "pwd"
   ]
  },
  {
   "cell_type": "markdown",
   "metadata": {},
   "source": [
    "In the following example, you see that we open a .txt file object. We passed the required parameter (file) into the open() function."
   ]
  },
  {
   "cell_type": "code",
   "execution_count": 2,
   "metadata": {},
   "outputs": [
    {
     "name": "stdout",
     "output_type": "stream",
     "text": [
      "<class '_io.TextIOWrapper'>\n"
     ]
    }
   ],
   "source": [
    "my_file = open(\"first_file.txt\")    # this syntax opens a 'txt' file\n",
    "\n",
    "print(type(my_file))"
   ]
  },
  {
   "cell_type": "code",
   "execution_count": 3,
   "metadata": {},
   "outputs": [
    {
     "name": "stdout",
     "output_type": "stream",
     "text": [
      "My Print!\n"
     ]
    },
    {
     "data": {
      "text/plain": [
       "NoneType"
      ]
     },
     "execution_count": 3,
     "metadata": {},
     "output_type": "execute_result"
    }
   ],
   "source": [
    "my_print = print(\"My Print!\")\n",
    "type(my_print)     # there is no object inside the print function so that it's returning NoneType."
   ]
  },
  {
   "cell_type": "markdown",
   "metadata": {},
   "source": [
    "We can open a  file in the same way by using the following syntax:"
   ]
  },
  {
   "cell_type": "code",
   "execution_count": null,
   "metadata": {},
   "outputs": [],
   "source": [
    "my_file = open(\"first_file.txt\", encoding=\"utf-8\")\n",
    "# we've used 'utf8' encoding format just the same as the previous one.\n",
    "# uft-8 --> default encoding for Python\n",
    "# unified transformation of 8 bites -- utf-8"
   ]
  },
  {
   "cell_type": "markdown",
   "metadata": {},
   "source": [
    "# mode() Parameter"
   ]
  },
  {
   "cell_type": "code",
   "execution_count": 4,
   "metadata": {},
   "outputs": [],
   "source": [
    "#Character                                   What it's used for?\n",
    "\n",
    "# 'r'             Open for reading(default). If the file doesn't exits, FileNotFoundError will raise.\n",
    "# 'a'             Open for writing. It will append to the end of the file if it already exists. If there is no file, it will create it.\n",
    "# 'w'             Open for writing. It will be overwritten it the file already exists. If there is no file, it will create it. \n",
    "# 'x'             Open for exclusive creation, it will fail if the file already exists.\n",
    "# 'b'             Open in binary mode.\n",
    "# 't'             Open as a text file(default).\n",
    "# '+'             Open for updating(reading and writing).\n"
   ]
  },
  {
   "cell_type": "markdown",
   "metadata": {},
   "source": [
    "By default, open() function executes opening the file for reading ('r') as a text ('t'). In other words, it defaults to 'r' or 'rt' which means open  for reading in text mode."
   ]
  },
  {
   "cell_type": "markdown",
   "metadata": {},
   "source": [
    "* Tips:\n",
    "Note that, as you can see above, depending on what you are going to do with the file, you can combine the modes according to your needs.\n",
    "\n",
    "==> If you want to open and be able to read, modify, and update the existing file you should set the mode as 'r+'."
   ]
  },
  {
   "cell_type": "markdown",
   "metadata": {},
   "source": [
    "Another important point we should cover about mode is that you can choose the format in which you want to open the file as text ('t') or binary ('b'). \n",
    "\n",
    "* ('b') Returns contents as bytes objects without any decoding.\n",
    "* ('t') The contents of the file are returned as str. It's default for mode parameter.\n"
   ]
  },
  {
   "cell_type": "markdown",
   "metadata": {},
   "source": [
    "# Reading the Files with .read( ) Method"
   ]
  },
  {
   "cell_type": "markdown",
   "metadata": {},
   "source": [
    "Create a text file manually named fishes.txt;"
   ]
  },
  {
   "cell_type": "markdown",
   "metadata": {},
   "source": [
    "fishes.txt\n",
    "\n",
    "Orca is a kind of Dolphin.\n",
    "Blue Whale is the largest animal known on earth.\n",
    "Sharks are the sister group of the Rays (batoids).\n",
    "The Tuna Fish can  weigh up to 250 kg.\n",
    "Squid and Octopus are in the same classes."
   ]
  },
  {
   "cell_type": "code",
   "execution_count": 5,
   "metadata": {},
   "outputs": [
    {
     "data": {
      "text/plain": [
       "'C:\\\\Users\\\\Bilgisayar\\\\Clarusway- Python Classes (EN)'"
      ]
     },
     "execution_count": 5,
     "metadata": {},
     "output_type": "execute_result"
    }
   ],
   "source": [
    "pwd"
   ]
  },
  {
   "cell_type": "markdown",
   "metadata": {},
   "source": [
    "* Keep in your mind! \n",
    "You can pass full path of the file into open() function. So that, when the file path is entered, the location where the file is saved does not matter."
   ]
  },
  {
   "cell_type": "code",
   "execution_count": null,
   "metadata": {},
   "outputs": [],
   "source": [
    "file = open('C:\\\\Users\\\\Bilgisayar\\\\Clarusway- Python Classes (EN)/fished.txt', 'r')"
   ]
  },
  {
   "cell_type": "markdown",
   "metadata": {},
   "source": [
    "### Basic Structure of Working with Files"
   ]
  },
  {
   "cell_type": "markdown",
   "metadata": {},
   "source": [
    "file = open(\"file_name\", \"r\")\n",
    "\n",
    "...\n",
    "\n",
    "body\n",
    "...\n",
    "\n",
    "file.close()"
   ]
  },
  {
   "cell_type": "code",
   "execution_count": null,
   "metadata": {},
   "outputs": [],
   "source": []
  },
  {
   "cell_type": "markdown",
   "metadata": {},
   "source": [
    "## .read(  ) Method"
   ]
  },
  {
   "cell_type": "markdown",
   "metadata": {},
   "source": [
    "Reading all content at once."
   ]
  },
  {
   "cell_type": "code",
   "execution_count": 3,
   "metadata": {},
   "outputs": [
    {
     "name": "stdout",
     "output_type": "stream",
     "text": [
      "Orca is a kind of Dolphin.\n",
      "Blue Whale is the largest animal known on earth.\n",
      "Sharks are the sister group of the Rays (batoids).\n",
      "The Tuna Fish can  weigh up to 250 kg.\n",
      "Squid and Octopus are in the same classes.\n"
     ]
    }
   ],
   "source": [
    "sea = open(\"fishes.txt\", 'r')\n",
    "\n",
    "print(sea.read())   # displays the entire text content\n",
    "\n",
    "sea.close()         # be sure to close the file."
   ]
  },
  {
   "cell_type": "code",
   "execution_count": 5,
   "metadata": {},
   "outputs": [
    {
     "data": {
      "text/plain": [
       "'Hello my dear students!'"
      ]
     },
     "execution_count": 5,
     "metadata": {},
     "output_type": "execute_result"
    }
   ],
   "source": [
    "fish = open('first_file.txt', 'r')\n",
    "fish.read()"
   ]
  },
  {
   "cell_type": "code",
   "execution_count": 7,
   "metadata": {},
   "outputs": [
    {
     "data": {
      "text/plain": [
       "'Hello my dear students!'"
      ]
     },
     "execution_count": 7,
     "metadata": {},
     "output_type": "execute_result"
    }
   ],
   "source": [
    "fish2 = open('first_file.txt', 'r')   # in actual scenario if you did not close up the file and then command to re-open it again somewhere later in your code it's gone create problem.\n",
    "fish2.read()"
   ]
  },
  {
   "cell_type": "code",
   "execution_count": 8,
   "metadata": {},
   "outputs": [],
   "source": [
    "fish.close()"
   ]
  },
  {
   "cell_type": "code",
   "execution_count": 10,
   "metadata": {},
   "outputs": [],
   "source": [
    "fish2.close()"
   ]
  },
  {
   "cell_type": "code",
   "execution_count": 11,
   "metadata": {},
   "outputs": [
    {
     "name": "stdout",
     "output_type": "stream",
     "text": [
      "Orca is a kind of Dolphin.\n",
      "Blue W\n"
     ]
    }
   ],
   "source": [
    "sea = open(\"fishes.txt\", 'r')\n",
    "\n",
    "print(sea.read(33))     # it's reading my character from begining to untill 33\n",
    "\n",
    "sea.close()"
   ]
  },
  {
   "cell_type": "code",
   "execution_count": 12,
   "metadata": {},
   "outputs": [
    {
     "name": "stdout",
     "output_type": "stream",
     "text": [
      "Orca is a kind of Dolphin.\n",
      "Blue W\n",
      "hale is the largest anima\n"
     ]
    }
   ],
   "source": [
    "sea = open(\"fishes.txt\", 'r')\n",
    "\n",
    "print(sea.read(33))    \n",
    "print(sea.read(25))      # Python  reads untill the 25 th character depends on where the cursor was previously. It doesn't go to the begining of the sentence, it moves onward from where cursor left previously.\n",
    "\n",
    "sea.close()"
   ]
  },
  {
   "cell_type": "code",
   "execution_count": 13,
   "metadata": {},
   "outputs": [
    {
     "name": "stdout",
     "output_type": "stream",
     "text": [
      "Orca is a kind of Dolphin.\n",
      "Blue W\n",
      "Orca is a kind of Dolphin\n"
     ]
    }
   ],
   "source": [
    "sea = open(\"fishes.txt\", 'r')\n",
    "\n",
    "print(sea.read(33))\n",
    "sea.seek(0)                        # it went back to the beginning. \"0\" means- index here. We use \"seek\" function to reset the cursor position.\n",
    "print(sea.read(25))      \n",
    "\n",
    "sea.close()"
   ]
  },
  {
   "cell_type": "code",
   "execution_count": 14,
   "metadata": {},
   "outputs": [
    {
     "name": "stdout",
     "output_type": "stream",
     "text": [
      "Orca is a kind of Dolphin.\n",
      "Blue W\n",
      "kind of Dolphin.\n",
      "Blue Wha\n"
     ]
    }
   ],
   "source": [
    "sea = open(\"fishes.txt\", 'r')\n",
    "\n",
    "print(sea.read(33))\n",
    "sea.seek(10)                        \n",
    "print(sea.read(25))      \n",
    "\n",
    "sea.close()"
   ]
  },
  {
   "cell_type": "code",
   "execution_count": 15,
   "metadata": {},
   "outputs": [
    {
     "name": "stdout",
     "output_type": "stream",
     "text": [
      "Orca is a kind of Dolphin.\n",
      "Blue W\n",
      "hale is the largest anima\n",
      "kind of Dolphin.\n",
      "Blue Whale is th\n"
     ]
    }
   ],
   "source": [
    "sea = open(\"fishes.txt\", 'r')\n",
    "\n",
    "print(sea.read(33))\n",
    "print(sea.read(25)) \n",
    "sea.seek(10)                        \n",
    "print(sea.read(33))      \n",
    "\n",
    "sea.close()"
   ]
  },
  {
   "cell_type": "code",
   "execution_count": 17,
   "metadata": {},
   "outputs": [
    {
     "name": "stdout",
     "output_type": "stream",
     "text": [
      "Orca is a kind of Dolphin.\n",
      "Blue W\n",
      "hale is the largest anima\n",
      "Orca is a kind of Dolphin.\n",
      "Blue W\n",
      "33\n"
     ]
    }
   ],
   "source": [
    "sea = open(\"fishes.txt\", 'r')\n",
    "\n",
    "print(sea.read(33))\n",
    "print(sea.read(25)) \n",
    "sea.seek(0)                        \n",
    "print(sea.read(33)) \n",
    "print(sea.tell())      # it's giving index number of where the cursor at.\n",
    "\n",
    "sea.close()"
   ]
  },
  {
   "cell_type": "code",
   "execution_count": null,
   "metadata": {},
   "outputs": [],
   "source": [
    "# Task 1:\n",
    "    # Create a txt file named rumi.txt in your current  working directory consisting of the following quotes of Rumi.\n",
    "    # I want to sing\n",
    "    # Like the birds sing,\n",
    "    # Not worrying about\n",
    "    # Who hears or \n",
    "    # What they think."
   ]
  },
  {
   "cell_type": "code",
   "execution_count": null,
   "metadata": {},
   "outputs": [],
   "source": [
    "# Task 1 (continued):\n",
    "    # Read and display the entire contents of this file at once.\n",
    "    # Display the first two lines using read() method."
   ]
  },
  {
   "cell_type": "code",
   "execution_count": 18,
   "metadata": {},
   "outputs": [
    {
     "data": {
      "text/plain": [
       "'     I want to sing\\n     Like the birds sing,\\n     Not worrying about\\n     Who hears or \\n     What they think.'"
      ]
     },
     "execution_count": 18,
     "metadata": {},
     "output_type": "execute_result"
    }
   ],
   "source": [
    "rumi = open('rumi.txt', 'r')\n",
    "rumi.read()"
   ]
  },
  {
   "cell_type": "code",
   "execution_count": 72,
   "metadata": {},
   "outputs": [
    {
     "name": "stdout",
     "output_type": "stream",
     "text": [
      "     I want to sing\n",
      "     Like the birds sing,\n",
      "     Not worrying about\n",
      "     Who hears or \n",
      "     What they think.\n"
     ]
    }
   ],
   "source": [
    "rumi = open('rumi.txt', 'r')\n",
    "print(rumi.read())"
   ]
  },
  {
   "cell_type": "code",
   "execution_count": 20,
   "metadata": {},
   "outputs": [
    {
     "data": {
      "text/plain": [
       "40"
      ]
     },
     "execution_count": 20,
     "metadata": {},
     "output_type": "execute_result"
    }
   ],
   "source": [
    "len('''I want to sing\n",
    "     Like the birds sing,''')"
   ]
  },
  {
   "cell_type": "code",
   "execution_count": 63,
   "metadata": {},
   "outputs": [
    {
     "name": "stdout",
     "output_type": "stream",
     "text": [
      "     I want to sing\n",
      "     Like the birds sing,\n",
      "   \n"
     ]
    }
   ],
   "source": [
    "rumi = open('rumi.txt', 'r')\n",
    "print(rumi.read(49))"
   ]
  },
  {
   "cell_type": "code",
   "execution_count": 64,
   "metadata": {},
   "outputs": [
    {
     "name": "stdout",
     "output_type": "stream",
     "text": [
      "  Not worrying\n"
     ]
    }
   ],
   "source": [
    "print(rumi.read(14))"
   ]
  },
  {
   "cell_type": "code",
   "execution_count": 65,
   "metadata": {},
   "outputs": [
    {
     "data": {
      "text/plain": [
       "63"
      ]
     },
     "execution_count": 65,
     "metadata": {},
     "output_type": "execute_result"
    }
   ],
   "source": [
    "rumi.tell()"
   ]
  },
  {
   "cell_type": "code",
   "execution_count": 66,
   "metadata": {},
   "outputs": [],
   "source": [
    "# Task 1(continued):\n",
    "    # Display the next 13 chars of the content,\n",
    "    # Display the current location of the cursor,\n",
    "    # Bring the cursor onto beginning of the second line and display the second line again.\n",
    "    # Close the file."
   ]
  },
  {
   "cell_type": "code",
   "execution_count": 73,
   "metadata": {},
   "outputs": [
    {
     "data": {
      "text/plain": [
       "14"
      ]
     },
     "execution_count": 73,
     "metadata": {},
     "output_type": "execute_result"
    }
   ],
   "source": [
    "len('I want to sing')"
   ]
  },
  {
   "cell_type": "code",
   "execution_count": 74,
   "metadata": {},
   "outputs": [
    {
     "data": {
      "text/plain": [
       "0"
      ]
     },
     "execution_count": 74,
     "metadata": {},
     "output_type": "execute_result"
    }
   ],
   "source": [
    "rumi.seek(0)"
   ]
  },
  {
   "cell_type": "code",
   "execution_count": 75,
   "metadata": {},
   "outputs": [
    {
     "data": {
      "text/plain": [
       "15"
      ]
     },
     "execution_count": 75,
     "metadata": {},
     "output_type": "execute_result"
    }
   ],
   "source": [
    "rumi.seek(15)"
   ]
  },
  {
   "cell_type": "code",
   "execution_count": 76,
   "metadata": {},
   "outputs": [
    {
     "data": {
      "text/plain": [
       "15"
      ]
     },
     "execution_count": 76,
     "metadata": {},
     "output_type": "execute_result"
    }
   ],
   "source": [
    "rumi.tell()"
   ]
  },
  {
   "cell_type": "code",
   "execution_count": 77,
   "metadata": {},
   "outputs": [
    {
     "name": "stdout",
     "output_type": "stream",
     "text": [
      "sing\n",
      "     Like the b\n"
     ]
    }
   ],
   "source": [
    "print(rumi.read(20))"
   ]
  },
  {
   "cell_type": "code",
   "execution_count": 78,
   "metadata": {},
   "outputs": [],
   "source": [
    "rumi.close()"
   ]
  },
  {
   "cell_type": "code",
   "execution_count": 79,
   "metadata": {},
   "outputs": [
    {
     "ename": "ValueError",
     "evalue": "I/O operation on closed file.",
     "output_type": "error",
     "traceback": [
      "\u001b[1;31m---------------------------------------------------------------------------\u001b[0m",
      "\u001b[1;31mValueError\u001b[0m                                Traceback (most recent call last)",
      "\u001b[1;32m<ipython-input-79-d62239480b23>\u001b[0m in \u001b[0;36m<module>\u001b[1;34m\u001b[0m\n\u001b[1;32m----> 1\u001b[1;33m \u001b[0mrumi\u001b[0m\u001b[1;33m.\u001b[0m\u001b[0mread\u001b[0m\u001b[1;33m(\u001b[0m\u001b[1;33m)\u001b[0m\u001b[1;33m\u001b[0m\u001b[1;33m\u001b[0m\u001b[0m\n\u001b[0m",
      "\u001b[1;31mValueError\u001b[0m: I/O operation on closed file."
     ]
    }
   ],
   "source": [
    "rumi.read()"
   ]
  }
 ],
 "metadata": {
  "kernelspec": {
   "display_name": "Python 3",
   "language": "python",
   "name": "python3"
  },
  "language_info": {
   "codemirror_mode": {
    "name": "ipython",
    "version": 3
   },
   "file_extension": ".py",
   "mimetype": "text/x-python",
   "name": "python",
   "nbconvert_exporter": "python",
   "pygments_lexer": "ipython3",
   "version": "3.8.5"
  }
 },
 "nbformat": 4,
 "nbformat_minor": 4
}
